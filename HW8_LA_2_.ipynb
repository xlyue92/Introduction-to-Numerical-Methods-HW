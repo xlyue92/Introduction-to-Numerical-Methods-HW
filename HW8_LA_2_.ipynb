{
 "cells": [
  {
   "cell_type": "code",
   "execution_count": 1,
   "metadata": {},
   "outputs": [],
   "source": [
    "%matplotlib inline\n",
    "%precision 16\n",
    "from __future__ import print_function\n",
    "import numpy\n",
    "import matplotlib.pyplot as plt"
   ]
  },
  {
   "cell_type": "markdown",
   "metadata": {
    "deletable": false,
    "editable": false,
    "nbgrader": {
     "checksum": "d35c6625014fbb846018270b27228a09",
     "grade": false,
     "grade_id": "cell-4300650499785885",
     "locked": true,
     "schema_version": 1,
     "solution": false
    }
   },
   "source": [
    "Before you turn this problem in, make sure everything runs as expected. First, restart the kernel (in the menubar, select Kernel $\\rightarrow$ Restart) and then run all cells (in the menubar, select Cell $\\rightarrow$ Run All).\n",
    "\n",
    "Make sure you fill in any place that says YOUR CODE HERE or \"YOUR ANSWER HERE\", as well as your name and collaborators below:"
   ]
  },
  {
   "cell_type": "markdown",
   "metadata": {
    "deletable": false,
    "editable": false,
    "nbgrader": {
     "checksum": "7244622507896c6af08b600df24c227d",
     "grade": false,
     "grade_id": "cell-9890560519145918",
     "locked": true,
     "schema_version": 1,
     "solution": false
    }
   },
   "source": [
    "# HW 8:  Linear Algebra Part 2"
   ]
  },
  {
   "cell_type": "markdown",
   "metadata": {
    "deletable": false,
    "editable": false,
    "nbgrader": {
     "checksum": "a3ba23f23192271f152881f6165d41b7",
     "grade": false,
     "grade_id": "cell-1367913990434646",
     "locked": true,
     "schema_version": 1,
     "solution": false
    }
   },
   "source": [
    "## Question 1\n",
    "\n",
    "We know that interpolation using equispaced points is not ideal but we can also show that it is ill-conditioned.  To illustrate this let $x_1, \\ldots, x_n$ and $y_1, \\ldots, y_m$ by $n$ and $m$ equispaced points from $-1$ to $1$ repectively."
   ]
  },
  {
   "cell_type": "markdown",
   "metadata": {
    "deletable": false,
    "editable": false,
    "nbgrader": {
     "checksum": "a1f5f69c25e3633ad702208b0f95471b",
     "grade": false,
     "grade_id": "cell-5262243890051762",
     "locked": true,
     "schema_version": 1,
     "solution": false
    }
   },
   "source": [
    "**(a)** [15] Derive a formula for the $m \\times n$ matrix $A$ that maps an $n$-vector of data at $\\{x_j\\}$ to an $m$-vector of sampled values $\\{\\mathcal{P}(y_j)\\}$, where $\\mathcal{P}$ is the degree $n-1$ polynomial interpolant of the data."
   ]
  },
  {
   "cell_type": "markdown",
   "metadata": {
    "deletable": false,
    "nbgrader": {
     "checksum": "99adf7fe5649e5524561343fec520f2a",
     "grade": true,
     "grade_id": "cell-5990321097225371",
     "locked": false,
     "points": 15,
     "schema_version": 1,
     "solution": true
    }
   },
   "source": [
    "Solution: Let the $n$-vector data at {$x_j$} be $\\mathcal{P}(x)$, where\n",
    "$$ \\mathcal{P}(x) = \\begin{bmatrix} \\mathcal{P}(x_1) \\\\ \\mathcal{P}(x_2) \\\\ \\mathcal{P}(x_3) \\\\ \\vdots \\\\ \\mathcal{P}(x_n) \\end{bmatrix}\n",
    "$$\n",
    "What we need is an matrix $A$, such that \n",
    "$$ A \\mathcal{P}(x) = \\mathcal{P}(y)\n",
    "$$\n",
    "For both ${x_i}$ and ${y_j}$, subtract the coefficients of the polynomial interpolant, which are $c_p$, then:\n",
    "\n",
    "let the Vandermonde matrix of the interpolant $\\mathcal{P}$ by set $\\{y_j\\}$ be $V_y$, and clearly we have \n",
    "$$ V_y c_p = \\mathcal{P}(y)\n",
    "$$\n",
    "also, let the Vandermonde matrix of the interpolant $\\mathcal{P}$ by set $\\{x_i\\}$ be $V_x$, and we have\n",
    "$$ V_x c_p = \\mathcal{P}(x)\n",
    "$$\n",
    "Now, since \n",
    "$$ A V_x c_p = A \\mathcal{P}(x) = \\mathcal{P}(y) = V_y c_p\n",
    "$$\n",
    "we derive the formula for the $m \\times n$ matrix $A$ as\n",
    "$$ A = V_y V_x^{-1}\n",
    "$$"
   ]
  },
  {
   "cell_type": "markdown",
   "metadata": {
    "deletable": false,
    "editable": false,
    "nbgrader": {
     "checksum": "3b9a43911b7b548a2c342ddf85eaf185",
     "grade": false,
     "grade_id": "cell-7661416945339489",
     "locked": true,
     "schema_version": 1,
     "solution": false
    }
   },
   "source": [
    "**(b)** [10] Write a program to calculate $A$ and plot $||A||_\\infty$ on a semilog scale for $n=1, 2, \\ldots, 30$, $m=2n-1$.  In the continuous limit $m \\rightarrow \\infty$.  The numbers $||A||_\\infty$ we have seen before and are another way to compute the Lebesgue constants for equispaced interpolation, which are asymptotic to $2^n / (e(n-1) \\log n)$ as $n \\rightarrow \\infty$."
   ]
  },
  {
   "cell_type": "code",
   "execution_count": 9,
   "metadata": {
    "deletable": false,
    "nbgrader": {
     "checksum": "1f4c13c3ee728d50ceb95ee0beddc3f5",
     "grade": true,
     "grade_id": "cell-8743053752448174",
     "locked": false,
     "points": 10,
     "schema_version": 1,
     "solution": true
    }
   },
   "outputs": [
    {
     "name": "stderr",
     "output_type": "stream",
     "text": [
      "/anaconda3/lib/python3.7/site-packages/matplotlib/axes/_base.py:3471: UserWarning: Attempting to set identical bottom==top results\n",
      "in singular transformations; automatically expanding.\n",
      "bottom=1.0, top=1.0\n",
      "  'bottom=%s, top=%s') % (bottom, top))\n"
     ]
    },
    {
     "data": {
      "image/png": "[encoded data removed]",
      "text/plain": [
       "<Figure size 432x288 with 1 Axes>"
      ]
     },
     "metadata": {
      "needs_background": "light"
     },
     "output_type": "display_data"
    }
   ],
   "source": [
    "n = 30\n",
    "fig = plt.figure()\n",
    "fig.set_figwidth(fig.get_figwidth() * 1.0)\n",
    "fig.set_figheight(fig.get_figheight() * 1.0)\n",
    "\n",
    "axes = fig.add_subplot(1, 1, 1)\n",
    "for i in range(1, n+1):\n",
    "    x = numpy.linspace(-1, 1, i)\n",
    "    Vx = numpy.vander(x)\n",
    "    \n",
    "    y = numpy.linspace(-1, 1, 2 * i - 1)\n",
    "    Vy = numpy.vander(y)[:, i-1:]\n",
    "    \n",
    "    # use numpy.dot to calculate formula\n",
    "    A = numpy.dot(Vy, numpy.linalg.inv(Vx))\n",
    "\n",
    "    # plot ||A||_infty \n",
    "    axes.semilogy(i, numpy.linalg.norm(A, ord=numpy.infty), 'ro')\n",
    "    # plot Lebesgue constants\n",
    "for j in range(2, n+1):\n",
    "    axes.semilogy(j, 2.0**j / (numpy.exp(1) * (j - 1.0) * numpy.log(j)), 'go')\n",
    "\n",
    "n_1 = numpy.arange(2, 31)\n",
    "axes.semilogy(n_1[0:], 2.0**n_1[0:] / (numpy.exp(1) * (n_1[0:] - 1.0) * numpy.log(n_1[0:])), 'y', label = 'Lebesgue constant')\n",
    "        \n",
    "axes.set_title(\"$||A||_\\infty$ asymptotic to Lebesgue Constants as n grows\")\n",
    "axes.set_xlabel(\"number n\")\n",
    "axes.set_ylabel(\"$||A||_\\infty$\")\n",
    "axes.legend()\n",
    "\n",
    "\n",
    "\n",
    "plt.show()"
   ]
  },
  {
   "cell_type": "markdown",
   "metadata": {
    "deletable": false,
    "editable": false,
    "nbgrader": {
     "checksum": "b78a8a8c72d862611c4d85ae6ada39f2",
     "grade": false,
     "grade_id": "cell-4762438551096464",
     "locked": true,
     "schema_version": 1,
     "solution": false
    }
   },
   "source": [
    "**(c)** [25] Derive a general way to compute the $\\infty$-norm condition number $\\kappa$ of the problem of interpolating the function $f(x) = 1$.  Plot the result for $n=1,2,\\ldots,30$ and $m=2n-1$.  Hint:  Use the expression we found involving the Jacobian."
   ]
  },
  {
   "cell_type": "markdown",
   "metadata": {
    "deletable": false,
    "nbgrader": {
     "checksum": "3421f4c679a10753ea466f7b6294a8f0",
     "grade": true,
     "grade_id": "cell-2240156659521813",
     "locked": false,
     "points": 15,
     "schema_version": 1,
     "solution": true
    }
   },
   "source": [
    "Solution: let $f(x) = \\mathcal{P}(x) = 1$, then for set $\\{x_i\\}$, \n",
    "$$ Ax = \\begin{bmatrix} 1 \\\\ 1 \\\\ 1 \\\\ \\vdots \\\\ 1 \\end{bmatrix}\n",
    "$$\n",
    "That means for the $\\infty$ norm, $||Ax||_{\\infty}$ = 1 = $||x||_{\\infty}$. From the condition number $\\kappa$,\n",
    "$$ \\kappa = \\frac{||J(x)||_{\\infty}}{\\frac{||Ax||_{\\infty}}{||x||_{\\infty}}}\n",
    "$$\n",
    "and $||J(x)||_{\\infty}$ = $||A||_{\\infty}$, we know that $\\kappa = ||A||_{\\infty}$.\n",
    "That means the way to compute the $\\infty$-norm condition number $\\kappa$ of interpolating the function $f(x) = 1$ is to give the $||A||_{\\infty}$."
   ]
  },
  {
   "cell_type": "code",
   "execution_count": 105,
   "metadata": {
    "deletable": false,
    "nbgrader": {
     "checksum": "b6fefa223d12849e36533f94f1797776",
     "grade": true,
     "grade_id": "cell-1916492016011003",
     "locked": false,
     "points": 10,
     "schema_version": 1,
     "solution": true
    }
   },
   "outputs": [
    {
     "name": "stderr",
     "output_type": "stream",
     "text": [
      "/anaconda3/lib/python3.7/site-packages/matplotlib/axes/_base.py:3471: UserWarning: Attempting to set identical bottom==top results\n",
      "in singular transformations; automatically expanding.\n",
      "bottom=1.0, top=1.0\n",
      "  'bottom=%s, top=%s') % (bottom, top))\n"
     ]
    },
    {
     "data": {
      "image/png": "[encoded data removed]",
      "text/plain": [
       "<Figure size 432x288 with 1 Axes>"
      ]
     },
     "metadata": {
      "needs_background": "light"
     },
     "output_type": "display_data"
    }
   ],
   "source": [
    "n = numpy.arange(1, 31)\n",
    "\n",
    "fig = plt.figure()\n",
    "fig.set_figwidth(fig.get_figwidth() * 1.0)\n",
    "fig.set_figheight(fig.get_figheight() * 1.0)\n",
    "axes = fig.add_subplot(1, 1, 1) \n",
    "\n",
    "for i in n:\n",
    "    x = numpy.linspace(-1, 1, i)\n",
    "    Vx = numpy.vander(x)\n",
    "    \n",
    "    y = numpy.linspace(-1, 1, 2 * i - 1)\n",
    "    Vy = numpy.vander(y)[:, i-1:]\n",
    "    \n",
    "    # use numpy.dot to calculate formula\n",
    "    k = numpy.dot(Vy, numpy.linalg.inv(Vx))\n",
    "    # plot \\kappa \n",
    "    axes.semilogy(i, numpy.linalg.norm(k, ord=numpy.infty), 'o')\n",
    "\n",
    "axes.set_title(\"condition number $\\kappa$  as n grows\")\n",
    "axes.set_xlabel(\"number n\")\n",
    "axes.set_ylabel(\"$\\kappa$\")\n",
    "plt.show()"
   ]
  },
  {
   "cell_type": "markdown",
   "metadata": {
    "deletable": false,
    "editable": false,
    "nbgrader": {
     "checksum": "1d91c54c53459dc691e1b93f99556f6b",
     "grade": false,
     "grade_id": "cell-4391815592086616",
     "locked": true,
     "schema_version": 1,
     "solution": false
    }
   },
   "source": [
    "## Question 2 - LU Factorization\n",
    "\n",
    "Gaussian elimination is usually one of the first operations students learn in linear algebra but we seemed to have skipped it in lecture!  Let us fix that here in the homework.  Make sure to read the lecture on Gaussian elimination when doing this question."
   ]
  },
  {
   "cell_type": "markdown",
   "metadata": {
    "deletable": false,
    "editable": false,
    "nbgrader": {
     "checksum": "e85230b58c77584ff84f9cda5200c2ee",
     "grade": false,
     "grade_id": "cell-4624805096432302",
     "locked": true,
     "schema_version": 1,
     "solution": false
    }
   },
   "source": [
    "**(a)** (10 points) By hand compute the $LU$ factorization of the matrix\n",
    "$$\n",
    "    A = \\begin{bmatrix}\n",
    "        4 & 8 & 1 \\\\\n",
    "        8 & 20 & 4 \\\\\n",
    "        16 & 36 & 7\n",
    "    \\end{bmatrix}.\n",
    "$$\n",
    "Make sure to compute all the way to the matrix $L$, not the components of the inverse.  You do not have to worry about pivoting."
   ]
  },
  {
   "cell_type": "markdown",
   "metadata": {
    "deletable": false,
    "nbgrader": {
     "checksum": "ad40ac7876d1da2e7e05c9640e5024e4",
     "grade": true,
     "grade_id": "cell-3409237533613078",
     "locked": false,
     "points": 5,
     "schema_version": 1,
     "solution": true
    }
   },
   "source": [
    "Solution: follow the definition and rule to derive some obvious elements in both matrices $L$ and $U$ by \n",
    "$$ u_{1j} = a_{1j} ~~~~ l_{i1} = \\frac{a_{i1}}{u_{11}}\n",
    "$$\n",
    "for $a_{ij} \\in A$, $l_{ij} \\in L$, $u_{ij} \\in U$.\n",
    "\n",
    "$\\Rightarrow$\n",
    "$$ L = \\begin{bmatrix} 1 & 0 & 0 \\\\ 2 & 1 & 0 \\\\ 4 & \\star & 1 \\end{bmatrix} ~~~~ U = \\begin{bmatrix} 4 & 8 & 1 \\\\ 0 & \\star & \\star \\\\ 0 & 0 & \\star \\end{bmatrix}\n",
    "$$\n",
    "and the rest elements can be derived directly by multiplication of matrix:\n",
    "\n",
    "$$ L = \\begin{bmatrix} 1 & 0 & 0 \\\\ 2 & 1 & 0 \\\\ 4 & 1 & 1 \\end{bmatrix} ~~~~ U = \\begin{bmatrix} 4 & 8 & 1 \\\\ 0 & 4 & 2 \\\\ 0 & 0 & 1 \\end{bmatrix}\n",
    "$$"
   ]
  },
  {
   "cell_type": "markdown",
   "metadata": {
    "deletable": false,
    "editable": false,
    "nbgrader": {
     "checksum": "ad38bf802ee0a7b72d7ff306340592a9",
     "grade": false,
     "grade_id": "cell-8575190023526182",
     "locked": true,
     "schema_version": 1,
     "solution": false
    }
   },
   "source": [
    "**(b)** [20] Write a function that computes the $LU$ factorization of a given matrix $A \\in \\mathbb R^{n \\times n}$ without using `numpy` or `scipy` packages.  Make sure to also return the pivoting matrix, i.e. compute the matrices $P$, $L$, and $U$ where\n",
    "$$\n",
    "    P A = L U.\n",
    "$$\n",
    "Note that the provided function `swap_rows` may be useful although you do not have to use it.  You may also want to use the example in the notes to test your basic algorithm with (i.e. `A = numpy.array([[2, 1, 1, 0], [4, 3, 3, 1], [8, 7, 9, 5], [6, 7, 9, 8]], dtype=float)` noting that the algorithm will complain without the casting to `float`)."
   ]
  },
  {
   "cell_type": "code",
   "execution_count": 35,
   "metadata": {
    "deletable": false,
    "nbgrader": {
     "checksum": "b625e9fc9a9088ab645b250b412e40ef",
     "grade": false,
     "grade_id": "cell-3416177524508008",
     "locked": false,
     "schema_version": 1,
     "solution": true
    }
   },
   "outputs": [],
   "source": [
    "def swap_rows(i, j, A, column_indices=None):\n",
    "    r\"\"\"\n",
    "    Swap the ith and jth rows of the matrix A in place\n",
    "    \n",
    "    Optional argument column_indices is a tuple that controls \n",
    "    the columns being swapped.  Defaults to the entire row.\n",
    "    \"\"\"\n",
    "    if column_indices is None:\n",
    "        column_indices = (0, A.shape[0])\n",
    "    \n",
    "    pivot_row = A[i, column_indices[0]:column_indices[1]].copy()\n",
    "    A[i, column_indices[0]:column_indices[1]] = A[j, column_indices[0]:column_indices[1]]\n",
    "    A[j, column_indices[0]:column_indices[1]] = pivot_row\n",
    "\n",
    "\n",
    "def LU_factorization(A):\n",
    "    # U=A L=A=I\n",
    "    U = A.copy()\n",
    "    L = numpy.identity(A.shape[0]) \n",
    "    P = numpy.identity(A.shape[0]) \n",
    "    for k in range(A.shape[0]):\n",
    "        # Select i >= k to maximize |u_{i,k}|\n",
    "        pivot_i = numpy.argmax(numpy.abs(U[k:, k])) + k\n",
    "        # U[k, k:m] <==> U[i, k:m]\n",
    "        # L[k, 1:k-1] <==> L[i, 1:k-1]\n",
    "        # P[k, :] <==> P[i, :]\n",
    "        swap_rows(pivot_i, k, U, column_indices=(k, A.shape[0]))\n",
    "        swap_rows(pivot_i, k, L, column_indices=(0, k))\n",
    "        swap_rows(pivot_i, k, P)\n",
    "        # L[j, k] = U[j, k] / U[k, k]\n",
    "        # U[j, k:m] = U[j, k:m] - L[j, k] * U[k, k:m]\n",
    "        for j in range(k + 1, A.shape[0]):\n",
    "            L[j, k] = U[j, k] / U[k, k]\n",
    "            U[j, k:A.shape[0]] = U[j, k:A.shape[0]] - L[j, k] * U[k, k:A.shape[0]]\n",
    "\n",
    "    return P, L, U"
   ]
  },
  {
   "cell_type": "code",
   "execution_count": 36,
   "metadata": {
    "deletable": false,
    "editable": false,
    "nbgrader": {
     "checksum": "83dc9ee02d06fa974ec6a86863a915e5",
     "grade": true,
     "grade_id": "cell-9410005352958010",
     "locked": true,
     "points": 20,
     "schema_version": 1,
     "solution": false
    }
   },
   "outputs": [
    {
     "name": "stdout",
     "output_type": "stream",
     "text": [
      "Success!\n"
     ]
    }
   ],
   "source": [
    "import scipy.linalg\n",
    "# A = numpy.array([[2, 1, 1, 0], [4, 3, 3, 1], [8, 7, 9, 5], [6, 7, 9, 8]], dtype=float)\n",
    "A = numpy.random.uniform(low=1.0, high=10.0, size=(25, 25))\n",
    "P, L, U = LU_factorization(A)\n",
    "P_s, L_s, U_s = scipy.linalg.lu(A)\n",
    "numpy.testing.assert_allclose(P, numpy.linalg.inv(P_s))\n",
    "numpy.testing.assert_allclose(L, L_s)\n",
    "numpy.testing.assert_allclose(U, U_s, atol=1e-8)\n",
    "print(\"Success!\")"
   ]
  },
  {
   "cell_type": "markdown",
   "metadata": {
    "deletable": false,
    "editable": false,
    "nbgrader": {
     "checksum": "f7216e60fdf7df77a2fe00fcb8f4cdca",
     "grade": false,
     "grade_id": "cell-6331285623355538",
     "locked": true,
     "schema_version": 1,
     "solution": false
    }
   },
   "source": [
    "**(c)** [15] For this question write a function that solves the system $A x = b$ given an $A$ and $b$ using your $LU$ factorization function and the pivot matrix.  Again do not use any of the functions from `numpy` or `scipy` other than to check your solution."
   ]
  },
  {
   "cell_type": "code",
   "execution_count": 81,
   "metadata": {
    "deletable": false,
    "nbgrader": {
     "checksum": "44e941df853d799ed4341c7f51138f55",
     "grade": false,
     "grade_id": "cell-9695927972933496",
     "locked": false,
     "schema_version": 1,
     "solution": true
    }
   },
   "outputs": [],
   "source": [
    "def solve(A, b):\n",
    "    P, L, U = LU_factorization(A)\n",
    "    # Ux = y; Ly = Pb\n",
    "    # Forward substitution from 1st row downward\n",
    "    # y origin and L is still lower trig\n",
    "    y = numpy.dot(P, b) \n",
    "    for i in range(A.shape[0]):\n",
    "        for j in range(i):\n",
    "            # until the diagonal one\n",
    "            y[i] = y[i] - L[i, j] * y[j]\n",
    "\n",
    "    # Backward renew\n",
    "    x = y\n",
    "    # from last row upward\n",
    "    # since U is still upper trig\n",
    "    for i in range(A.shape[0]-1, -1, -1):\n",
    "        for j in range(i+1, A.shape[0]):\n",
    "        #for j in range(A.shape[0]-1, i, -1): \n",
    "            x[i] -= U[i, j] * x[j]\n",
    "        x[i] = x[i] / U[i,i]\n",
    "    \n",
    "    return x"
   ]
  },
  {
   "cell_type": "code",
   "execution_count": 82,
   "metadata": {
    "deletable": false,
    "editable": false,
    "nbgrader": {
     "checksum": "77fedb19df7bc12b6a7aa09264743bfc",
     "grade": true,
     "grade_id": "cell-9290228235952792",
     "locked": true,
     "points": 15,
     "schema_version": 1,
     "solution": false
    }
   },
   "outputs": [
    {
     "name": "stdout",
     "output_type": "stream",
     "text": [
      "Success!\n"
     ]
    }
   ],
   "source": [
    "m = 10\n",
    "A = numpy.random.uniform(size=(m, m))\n",
    "b = numpy.random.uniform(size=(m))\n",
    "x = solve(A, b)\n",
    "x_n = numpy.linalg.solve(A, b)\n",
    "numpy.testing.assert_allclose(x, x_n)\n",
    "print(\"Success!\")"
   ]
  },
  {
   "cell_type": "markdown",
   "metadata": {
    "deletable": false,
    "editable": false,
    "nbgrader": {
     "checksum": "2723e81ade563c2f0adaedcb21c843d0",
     "grade": false,
     "grade_id": "cell-cc055a40b3806081",
     "locked": true,
     "schema_version": 1,
     "solution": false
    }
   },
   "source": [
    "## Question 3 - QR and Least-Squares\n",
    "\n",
    "[20] Using either the modified Grahm-Schmidt orthogonalization or Householder triangularization write a function that solves the least-squares problem given a set of data an a polynomial order.  Note that this is basically the same question as before from homework 6 except this time we want to use QR factorization.  This time we have provided a plotting function should you want to use it.  Compute the resulting linear system using the appropriate substitution from question 2."
   ]
  },
  {
   "cell_type": "code",
   "execution_count": 39,
   "metadata": {
    "deletable": false,
    "nbgrader": {
     "checksum": "e85f02fb2d1878e9b552150b7e16c6f5",
     "grade": false,
     "grade_id": "cell-9d910eb65f5e8e66",
     "locked": false,
     "schema_version": 1,
     "solution": true
    }
   },
   "outputs": [],
   "source": [
    "def mod_GS(A):\n",
    "    m = A.shape[0]\n",
    "    n = A.shape[1]\n",
    "    Q = numpy.empty((m, n))\n",
    "    R = numpy.zeros((n, n))\n",
    "    v = A.copy()\n",
    "    for i in range(n):\n",
    "        R[i, i] = numpy.linalg.norm(v[:, i], ord=2)\n",
    "        Q[:, i] = v[:, i] / R[i, i]\n",
    "        for j in range(i + 1, n):\n",
    "            R[i, j] = numpy.dot(Q[:, i].conjugate(), v[:, j])\n",
    "            v[:, j] -= R[i, j] * Q[:, i]\n",
    "    return Q, R\n",
    "#p = numpy.linalg.solve(numpy.dot(A.transpose(), A), numpy.dot(A.transpose(), y))\n",
    "\n",
    "\n",
    "def compute_lstsq(data, n):\n",
    "    #m = data.shape[0]\n",
    "    A = numpy.empty((data.shape[0], n+1))\n",
    "    for j in range(n+1):\n",
    "        A[:, j] = data[:, 0] **(j)\n",
    "    Q, R = mod_GS(A)\n",
    "    #x = data[:, 0]\n",
    "    b = data[:, 1]\n",
    "\n",
    "    p = numpy.linalg.solve(R, numpy.dot(Q.transpose(), b))\n",
    "    return p\n",
    "\n",
    "def plot_lstsq(data, x, p):\n",
    "    P = numpy.zeros(100)\n",
    "    for n in range(p.shape[0]):\n",
    "        P += p[n] * x**n\n",
    "        \n",
    "    fig = plt.figure()\n",
    "    axes = fig.add_subplot(1, 1, 1)\n",
    "    axes.plot(data[:, 0], data[:, 1], 'ko', label='data')\n",
    "    axes.plot(x, P, 'r', label='interpolant')\n",
    "    axes.set_title(\"Interpolant of order %s for %s data points\" % (N - 1, N))\n",
    "    axes.set_xlabel(\"$x$\")\n",
    "    axes.set_ylabel(\"$P(x)$ and data\")\n",
    "    axes.legend()"
   ]
  },
  {
   "cell_type": "code",
   "execution_count": 40,
   "metadata": {
    "deletable": false,
    "editable": false,
    "nbgrader": {
     "checksum": "f3f2d1dcd1264778babdeabbabbc824b",
     "grade": true,
     "grade_id": "cell-9cb3b4edfbf281de",
     "locked": true,
     "points": 5,
     "schema_version": 1,
     "solution": false
    }
   },
   "outputs": [
    {
     "name": "stdout",
     "output_type": "stream",
     "text": [
      "Success!\n"
     ]
    },
    {
     "data": {
      "image/png": "[encoded data removed]",
      "text/plain": [
       "<Figure size 432x288 with 1 Axes>"
      ]
     },
     "metadata": {
      "needs_background": "light"
     },
     "output_type": "display_data"
    }
   ],
   "source": [
    "N = 4\n",
    "N_p = 3\n",
    "data = numpy.empty((N, 2))\n",
    "data[:, 0] = numpy.random.uniform(size=N)\n",
    "data[:, 0] = numpy.linspace(0.1, 0.9, N)\n",
    "data[:, 1] = numpy.sin(numpy.exp(-data[:, 0]**2)) + numpy.random.uniform(size=N)\n",
    "p = compute_lstsq(data, N_p)\n",
    "A = numpy.vander(data[:,0], N_p + 1)\n",
    "# numpy.testing.assert_allclose(p, numpy.flipud(numpy.linalg.lstsq(A, data[:, 1])[0]))\n",
    "print(\"Success!\")\n",
    "\n",
    "# Plot result\n",
    "x = numpy.linspace(0.0, 1.0, 100)\n",
    "plot_lstsq(data, x, p)\n",
    "plt.show()"
   ]
  },
  {
   "cell_type": "code",
   "execution_count": 41,
   "metadata": {
    "deletable": false,
    "editable": false,
    "nbgrader": {
     "checksum": "171961ca79dd87fb30497e6c8c0cd721",
     "grade": true,
     "grade_id": "cell-76e632dcec1b994c",
     "locked": true,
     "points": 5,
     "schema_version": 1,
     "solution": false
    }
   },
   "outputs": [
    {
     "name": "stdout",
     "output_type": "stream",
     "text": [
      "Success!\n"
     ]
    },
    {
     "name": "stderr",
     "output_type": "stream",
     "text": [
      "/anaconda3/lib/python3.7/site-packages/ipykernel_launcher.py:9: FutureWarning: `rcond` parameter will change to the default of machine precision times ``max(M, N)`` where M and N are the input matrix dimensions.\n",
      "To use the future default and silence this warning we advise to pass `rcond=None`, to keep using the old, explicitly pass `rcond=-1`.\n",
      "  if __name__ == '__main__':\n"
     ]
    },
    {
     "data": {
      "image/png": "[encoded data removed]",
      "text/plain": [
       "<Figure size 432x288 with 1 Axes>"
      ]
     },
     "metadata": {
      "needs_background": "light"
     },
     "output_type": "display_data"
    }
   ],
   "source": [
    "N = 20\n",
    "N_p = 4\n",
    "data = numpy.empty((N, 2))\n",
    "data[:, 0] = numpy.random.uniform(size=N)\n",
    "data[:, 0] = numpy.linspace(0.1, 0.9, N)\n",
    "data[:, 1] = numpy.sin(numpy.exp(-data[:, 0]**2)) + numpy.random.uniform(size=N)\n",
    "p = compute_lstsq(data, N_p)\n",
    "A = numpy.vander(data[:,0], N_p + 1)\n",
    "numpy.testing.assert_allclose(p, numpy.flipud(numpy.linalg.lstsq(A, data[:, 1])[0]))\n",
    "print(\"Success!\")\n",
    "\n",
    "# Plot result\n",
    "x = numpy.linspace(0.0, 1.0, 100)\n",
    "plot_lstsq(data, x, p)\n",
    "plt.show()"
   ]
  }
 ],
 "metadata": {
  "kernelspec": {
   "display_name": "Python 3",
   "language": "python",
   "name": "python3"
  },
  "language_info": {
   "codemirror_mode": {
    "name": "ipython",
    "version": 3
   },
   "file_extension": ".py",
   "mimetype": "text/x-python",
   "name": "python",
   "nbconvert_exporter": "python",
   "pygments_lexer": "ipython3",
   "version": "3.7.0"
  },
  "latex_envs": {
   "bibliofile": "biblio.bib",
   "cite_by": "apalike",
   "current_citInitial": 1,
   "eqLabelWithNumbers": true,
   "eqNumInitial": 0
  }
 },
 "nbformat": 4,
 "nbformat_minor": 2
}
