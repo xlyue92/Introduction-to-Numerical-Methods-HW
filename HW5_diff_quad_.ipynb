{
 "cells": [
  {
   "cell_type": "code",
   "execution_count": 1,
   "metadata": {},
   "outputs": [],
   "source": [
    "%matplotlib inline\n",
    "%precision 16\n",
    "import numpy\n",
    "import matplotlib.pyplot as plt"
   ]
  },
  {
   "cell_type": "markdown",
   "metadata": {
    "deletable": false,
    "editable": false,
    "nbgrader": {
     "checksum": "501a1c819b64d93a63daffcf5dd3d042",
     "grade": false,
     "grade_id": "cell-3336298175051145",
     "locked": true,
     "schema_version": 1,
     "solution": false
    }
   },
   "source": [
    "Before you turn this problem in, make sure everything runs as expected. First, restart the kernel (in the menubar, select Kernel $\\rightarrow$ Restart) and then run all cells (in the menubar, select Cell $\\rightarrow$ Run All).\n",
    "\n",
    "Make sure you fill in any place that says YOUR CODE HERE or \"YOUR ANSWER HERE\", as well as your name and collaborators below:"
   ]
  },
  {
   "cell_type": "markdown",
   "metadata": {
    "deletable": false,
    "editable": false,
    "nbgrader": {
     "checksum": "a9c53fce8705582326d5b221f8706c95",
     "grade": false,
     "grade_id": "cell-8922434501433849",
     "locked": true,
     "schema_version": 1,
     "solution": false
    }
   },
   "source": [
    "# HW 4:  Numerical Differentiation and Quadrature"
   ]
  },
  {
   "cell_type": "markdown",
   "metadata": {
    "deletable": false,
    "editable": false,
    "nbgrader": {
     "checksum": "0cb80782496bbb377e600c508305acf4",
     "grade": false,
     "grade_id": "cell-3dd132bf19336aa2",
     "locked": true,
     "schema_version": 1,
     "solution": false
    }
   },
   "source": [
    "## Question 1 - Fundamental Theorem of Calculus"
   ]
  },
  {
   "cell_type": "markdown",
   "metadata": {
    "deletable": false,
    "editable": false,
    "nbgrader": {
     "checksum": "213c66327c6e028d34375e660f60d191",
     "grade": false,
     "grade_id": "cell-4786948169516101",
     "locked": true,
     "schema_version": 1,
     "solution": false
    }
   },
   "source": [
    "**(a)** [10] Write a function that computes the integral of the derivative \n",
    "\n",
    "$$I[f] = \\int^x_0 f'(s) ds$$\n",
    "\n",
    "and returns the error from the expected calculation.  Use a second order accurate centered difference scheme and then a left-hand rule to compute the absolute error.  In this case the left-hand quadrature is\n",
    "\n",
    "$$Q[f] = f(x_i) \\Delta x$$\n",
    "\n",
    "The function should take in $x$ values and the function $f(x)$ and return a vector of the **errors** for each value $x$ given."
   ]
  },
  {
   "cell_type": "code",
   "execution_count": null,
   "metadata": {
    "deletable": false,
    "nbgrader": {
     "checksum": "500ad50c75231054eca317700fec7642",
     "grade": false,
     "grade_id": "cell-4911510310177092",
     "locked": false,
     "schema_version": 1,
     "solution": true
    }
   },
   "outputs": [],
   "source": [
    "def int_diff_error(x, f):\n",
    "    #x = numpy.linspace(0.0, 1.0, N+1)\n",
    "    delta_x = x[1] - x[0]\n",
    "    f_prime = numpy.empty(x.shape)\n",
    "    # second order accurate centered difference \n",
    "    f_prime[0] = (f(x[1]) - f(x[0])) / delta_x \n",
    "    f_prime[-1] = (f(x[-1]) - f(x[-2])) / delta_x \n",
    "    for i in range(1, x.shape[0]-1):\n",
    "        f_prime[i] = (f(x[i+1]) - f(x[i-1])) / (2.0 * delta_x)\n",
    "    \n",
    "    I = numpy.empty(x.shape)\n",
    "    I[0] = f_prime[0] * delta_x + f(x[0])\n",
    "    I[-1] = f_prime[-1] * delta_x\n",
    "    for i in range(1, x.shape[0]):\n",
    "        I[i] = I[i-1] + f_prime[i] * delta_x\n",
    "    \n",
    "    error = numpy.empty(x.shape)\n",
    "    for i in range(0, x.shape[0]):\n",
    "        error[i] = numpy.abs(I[i] - f(x[i]))\n",
    "\n",
    "        \n",
    "    #for i in range(0, N - 1):\n",
    "        #I_hat += (f(x_hat[i + 1]) + f(x_hat[i])) * delta_x[j] / 2.0\n",
    "    #error[i] = numpy.abs(I[i] - f(x[i]))\n",
    "    return error"
   ]
  },
  {
   "cell_type": "code",
   "execution_count": null,
   "metadata": {
    "deletable": false,
    "editable": false,
    "nbgrader": {
     "checksum": "cc8c9376165163933612bafd2530624d",
     "grade": true,
     "grade_id": "cell-5849927575491632",
     "locked": true,
     "points": 10,
     "schema_version": 1,
     "solution": false
    }
   },
   "outputs": [],
   "source": [
    "f = lambda x: 1.0 / (1.0 + 100.0 * x**2)\n",
    "x = numpy.linspace(0.0, 1.0, 500)\n",
    "print numpy.max(int_diff_error(x, f))\n",
    "numpy.testing.assert_allclose(int_diff_error(x, f), numpy.zeros(500), atol=1e-2)\n",
    "print \"Successful FTC evaluation.\""
   ]
  },
  {
   "cell_type": "markdown",
   "metadata": {
    "deletable": false,
    "editable": false,
    "nbgrader": {
     "checksum": "f87a04a23dfceda35de3e2ea5d1eb3f4",
     "grade": false,
     "grade_id": "cell-398741922450368",
     "locked": true,
     "schema_version": 1,
     "solution": false
    }
   },
   "source": [
    "**(b)** [10] Compute the same as above except reverse the order of the operations, i.e.\n",
    "\n",
    "$$D[f] = \\frac{\\text{d}}{\\text{d}x} \\int^x_0 f(s) ds$$\n"
   ]
  },
  {
   "cell_type": "code",
   "execution_count": null,
   "metadata": {
    "deletable": false,
    "nbgrader": {
     "checksum": "f404f7d6673d1bd3ae49398655146b98",
     "grade": false,
     "grade_id": "cell-2858462487069013",
     "locked": false,
     "schema_version": 1,
     "solution": true
    }
   },
   "outputs": [],
   "source": [
    "def diff_int_error(x, f):\n",
    "    delta_x = x[1] - x[0]\n",
    "    I = numpy.empty(x.shape)\n",
    "    I[0] = f(x[0]) * delta_x\n",
    "    for i in range(1, x.shape[0]):\n",
    "        I[i] = I[i-1] + f(x[i]) * delta_x\n",
    "    \n",
    "    I_prime = numpy.empty(x.shape)\n",
    "    I_prime[0] = (I[1] - I[0]) / delta_x\n",
    "    I_prime[-1] = (I[-1] - I[-2]) / delta_x\n",
    "    for i in range(1, x.shape[0]-1):\n",
    "        I_prime[i] = (I[i+1] - I[i-1]) / (2.0 * delta_x)\n",
    "    \n",
    "    \n",
    "    error = numpy.empty(x.shape)\n",
    "    for i in range(0, x.shape[0]):\n",
    "        error[i] = numpy.abs(I_prime[i] - f(x[i]))\n",
    "        \n",
    "    return error"
   ]
  },
  {
   "cell_type": "code",
   "execution_count": null,
   "metadata": {
    "deletable": false,
    "editable": false,
    "nbgrader": {
     "checksum": "f50b7a5f3303484f962e2799f5a99616",
     "grade": true,
     "grade_id": "cell-9269759256102392",
     "locked": true,
     "points": 10,
     "schema_version": 1,
     "solution": false
    }
   },
   "outputs": [],
   "source": [
    "f = lambda x: 1.0 / (1.0 + 100.0 * x**2)\n",
    "x = numpy.linspace(0.0, 1.0, 500)\n",
    "print numpy.max(diff_int_error(x, f))\n",
    "numpy.testing.assert_allclose(diff_int_error(x, f), numpy.zeros(500), atol=1e-2)\n",
    "print \"Successful FTC evaluation.\""
   ]
  },
  {
   "cell_type": "markdown",
   "metadata": {
    "deletable": false,
    "editable": false,
    "nbgrader": {
     "checksum": "8c6844908e3e5eed03b2e9ecd78bf9b8",
     "grade": false,
     "grade_id": "cell-4823234321128257",
     "locked": true,
     "schema_version": 1,
     "solution": false
    }
   },
   "source": [
    "**(c)** [5] Plot the convergence rate for the number of partitions `N = [10,100,200,300,400,500]` on a `loglog` plot by computing the norm over the error given for each $N$ by using the `numpy.linalg.norm` command with `ord=2` vs. the $\\Delta x$ used.  Theorize about what you observe regarding the order of convergence."
   ]
  },
  {
   "cell_type": "markdown",
   "metadata": {
    "deletable": false,
    "nbgrader": {
     "checksum": "a85fe7f59c2387591e4923af032a9f9f",
     "grade": true,
     "grade_id": "cell-3078294713448626",
     "locked": false,
     "points": 1,
     "schema_version": 1,
     "solution": true
    }
   },
   "source": [
    "YOUR ANSWER HERE"
   ]
  },
  {
   "cell_type": "code",
   "execution_count": 2,
   "metadata": {
    "deletable": false,
    "nbgrader": {
     "checksum": "3a70a655c05f0733252b89434fcf4627",
     "grade": true,
     "grade_id": "cell-3749304040102472",
     "locked": false,
     "points": 4,
     "schema_version": 1,
     "solution": true
    }
   },
   "outputs": [
    {
     "ename": "SyntaxError",
     "evalue": "invalid syntax (<ipython-input-2-3350ef939e5e>, line 24)",
     "output_type": "error",
     "traceback": [
      "\u001b[0;36m  File \u001b[0;32m\"<ipython-input-2-3350ef939e5e>\"\u001b[0;36m, line \u001b[0;32m24\u001b[0m\n\u001b[0;31m    axes.loglog(delta_x, order_C(delta_x[0], error[0,i], 2.0) * delta_x**2.0, 'b--', label=\"2nd order\")\u001b[0m\n\u001b[0m       ^\u001b[0m\n\u001b[0;31mSyntaxError\u001b[0m\u001b[0;31m:\u001b[0m invalid syntax\n"
     ]
    }
   ],
   "source": [
    "f = lambda x: 1.0/(1.0+100.0*x**2)\n",
    "N = numpy.array(30, 500, 100, dtype=int)\n",
    "error = numpy.empty((N_range.shape[0],2))\n",
    "delta_x = numpy.empty(N_range.shape)\n",
    "\n",
    "for (i,N) in enumerate(N_range):\n",
    "    x = numpy.linspace(0.0, 1.0 , N)\n",
    "    delta_x[i] = x[1] - x[0]\n",
    "    error[i,0] = numpy.linalg.norm(diff_int_error(x,f), ord=2)\n",
    "    error[i,1] = numpy.linalg.norm(int_diff_error(x,f), ord=2)\n",
    "error = numpy.array(error)\n",
    "delta_x = numpy.array(delta_x)\n",
    "fig = plt.figure()\n",
    "fig.set_figwidth(2.0 * fig.get_figwidth())\n",
    "fig.set_figheight(2.0 * fig.get_figheight())\n",
    "error_type = ['diff_int','int_diff']\n",
    "\n",
    "for i in range(error.shape[1]):\n",
    "    axes = fig.add_subplot(2, 2, i+1)\n",
    "    axes.loglog(delta_x, error[:, i], 'ko')\n",
    "    \n",
    "    order_C = lambda delta_x, error, order: numpy.exp(numpy.log(error) - order * numpy.log(delta_x))\n",
    "    axes.loglog(delta_x, order_C(delta_x[0], error[0,i], 1.0) * delta_x**1.0, 'r--', label=\"1st order\"\n",
    "    axes.loglog(delta_x, order_C(delta_x[0], error[0,i], 2.0) * delta_x**2.0, 'b--', label=\"2nd order\")\n",
    "    axes.set_xlabel(\"$\\Delta x\")\n",
    "    axes.set_ylabel(\"Error\")\n",
    "    axes.legend(loc=4)\n",
    "\n",
    "    plt.show()"
   ]
  },
  {
   "cell_type": "markdown",
   "metadata": {
    "deletable": false,
    "editable": false,
    "nbgrader": {
     "checksum": "8585667a0ae57d0e5435ec44eaec137c",
     "grade": false,
     "grade_id": "cell-7913098871853593",
     "locked": true,
     "schema_version": 1,
     "solution": false
    }
   },
   "source": [
    "## Question 2 - Quadrature\n",
    "\n",
    "Consider the scaled Fresnel integrals\n",
    "\n",
    "$$I_c = \\int^1_0 \\frac{\\cos x}{\\sqrt{x}} dx~~~~\\text{and}~~~~I_s = \\int^1_0 \\frac{\\sin x}{\\sqrt{x}} dx$$\n",
    "\n",
    "which have values\n",
    "\n",
    "$$I_c = \\sqrt{2 \\pi} \\cdot C\\left(\\sqrt{\\frac{2}{\\pi}}\\right) \\approx 1.8090484758005438$$\n",
    "\n",
    "$$I_s = \\sqrt{2 \\pi} \\cdot S\\left(\\sqrt{\\frac{2}{\\pi}}\\right) \\approx 0.62053660344676231$$\n",
    "\n",
    "where the functions $C(x)$ and $S(x)$ can be evaluated by `scipy.special.fresnel`."
   ]
  },
  {
   "cell_type": "markdown",
   "metadata": {
    "deletable": false,
    "editable": false,
    "nbgrader": {
     "checksum": "222f7d5236736b8a0776cb02ca1df5b4",
     "grade": false,
     "grade_id": "cell-8ebcf647bbb397eb",
     "locked": true,
     "schema_version": 1,
     "solution": false
    }
   },
   "source": [
    "**(a)** [2] Where do you imagine the problematic points of the integrals will be?"
   ]
  },
  {
   "cell_type": "markdown",
   "metadata": {
    "deletable": false,
    "nbgrader": {
     "checksum": "43f6c40a1d1510407671a7fd52b23b89",
     "grade": true,
     "grade_id": "cell-52b455a70eeda752",
     "locked": false,
     "points": 2,
     "schema_version": 1,
     "solution": true
    }
   },
   "source": [
    "Solution: From the form of integrand, problematic point will be x = 0."
   ]
  },
  {
   "cell_type": "markdown",
   "metadata": {
    "deletable": false,
    "editable": false,
    "nbgrader": {
     "checksum": "e91477ff64d2281616f1f4fb941aa844",
     "grade": false,
     "grade_id": "cell-1280863455188854",
     "locked": true,
     "schema_version": 1,
     "solution": false
    }
   },
   "source": [
    "**(b)** [10] Write a function that computes both integrals using the  trapezoidal rule with N partitions of equal length \"ignoring\" the singularity at $x=0$ by setting integrands to 0."
   ]
  },
  {
   "cell_type": "code",
   "execution_count": 26,
   "metadata": {
    "deletable": false,
    "nbgrader": {
     "checksum": "921348b4de8f2db107b9480d6d9e7072",
     "grade": false,
     "grade_id": "cell-5673490144983784",
     "locked": false,
     "schema_version": 1,
     "solution": true
    }
   },
   "outputs": [],
   "source": [
    "def trap_1(N):\n",
    "    Ic_grand = lambda x: numpy.cos(x) / numpy.sqrt(x)\n",
    "    Is_grand = lambda x: numpy.sin(x) / numpy.sqrt(x)\n",
    "    # num_partitions = N\n",
    "    # x_hat = numpy.linspace(0.0, 1.0, N+1)\n",
    "    x = numpy.linspace(0.0, 1.0, N+1)\n",
    "    delta_x = x[1] - x[0]\n",
    "    Ic = 0.0\n",
    "    Is = 0.0\n",
    "    for i in range(1, N):\n",
    "        Ic += Ic_grand(x[i]) * delta_x\n",
    "        Is += Is_grand(x[i]) * delta_x\n",
    "    # to avoid mismatch, by setting integrand = 0 at x=0.\n",
    "    Ic += Ic_grand(x[-1] + 0) * delta_x / 2.0\n",
    "    Is += Is_grand(x[-1] + 0) * delta_x / 2.0\n",
    "    \n",
    "    return Is, Ic"
   ]
  },
  {
   "cell_type": "code",
   "execution_count": null,
   "metadata": {
    "deletable": false,
    "editable": false,
    "nbgrader": {
     "checksum": "4b65a1293084ffabe8a2b9838478e29c",
     "grade": true,
     "grade_id": "cell-4769111180699037",
     "locked": true,
     "points": 10,
     "schema_version": 1,
     "solution": false
    }
   },
   "outputs": [],
   "source": [
    "import scipy.special\n",
    "Is, Ic = scipy.special.fresnel(numpy.sqrt(2.0 / numpy.pi))\n",
    "Is *= numpy.sqrt(2.0 * numpy.pi)\n",
    "Ic *= numpy.sqrt(2.0 * numpy.pi)\n",
    "Is_hat, Ic_hat = trap_1(200)\n",
    "error = numpy.abs(Is_hat - Is)\n",
    "print \"Error: %s\" % error\n",
    "numpy.testing.assert_allclose(error, 0.0, atol=1e-4)\n",
    "print \"Computed the integrals correctly using the trapezoidal rule only.\"    "
   ]
  },
  {
   "cell_type": "markdown",
   "metadata": {
    "deletable": false,
    "editable": false,
    "nbgrader": {
     "checksum": "12df546631efd2fb13b97401d027745c",
     "grade": false,
     "grade_id": "cell-4978686228436492",
     "locked": true,
     "schema_version": 1,
     "solution": false
    }
   },
   "source": [
    "**(c)** [10] A weighted Newton-Cotes quadrature rule is a modification of our version of Newton-Cotes quadrature except that we also multiply by a weighting function such that\n",
    "\n",
    "$$\\int^1_0 w(x) f(x) dx = \\sum^{N}_{i=1} w_i f(x_i)$$\n",
    "\n",
    "For the weight $x^{-1/2}$ we can show that \n",
    "\n",
    "$$\\int^1_0 \\frac{f(x)}{\\sqrt{x}} dx \\approx \\frac{2}{3} (2 f(0) + f(1))$$\n",
    "\n",
    "Combining this formula with the trapezoidal rule approach above, evaluate the integrals again by using the trapezoid rule except for the partition $[0,\\Delta x]$ that involves the singularity use the above weighted Newton-Cotes rule.  Note that you will have to map the rule to the partition."
   ]
  },
  {
   "cell_type": "code",
   "execution_count": null,
   "metadata": {
    "deletable": false,
    "nbgrader": {
     "checksum": "dad716e1fca86631fdd8fd9df34de6af",
     "grade": false,
     "grade_id": "cell-3325603703235502",
     "locked": false,
     "schema_version": 1,
     "solution": true
    }
   },
   "outputs": [],
   "source": [
    "def trap_wnc(N):\n",
    "    Ic_grand = lambda x: numpy.cos(x) / numpy.sqrt(x)\n",
    "    Is_grand = lambda x: numpy.sin(x) / numpy.sqrt(x)\n",
    "    x = numpy.linspace(0.0, 1.0, N+1)\n",
    "    delta_x = x[1] - x[0]\n",
    "    Is = 0.0\n",
    "    Ic = 0.0\n",
    "    #delta_x = 1.0 / float(N)\n",
    "    # by trapezoidal rule and a small interval using weighted NC rule. \n",
    "    for i in range(1, N):\n",
    "        Ic += Ic_grand(x[i]) * delta_x\n",
    "        Is += Is_grand(x[i]) * delta_x\n",
    "    Ic += Ic_grand(x[-1]) * delta_x / 2.0\n",
    "    Is += Is_grand(x[-1]) * delta_x / 2.0\n",
    "    #Ic = Ic - Ic_grand(delta_x) * delta_x / 2.0 + 2.0 / 3.0 * (2.0 * numpy.cos(0.0) + numpy.cos(delta_x)) * delta_x / 2.0\n",
    "    #Is = Is - Is_grand(delta_x) * delta_x / 2.0 + 2.0 / 3.0 * (2.0 * numpy.cos(0.0) + numpy.cos(delta_x)) * delta_x / 2.0\n",
    "    \n",
    "    return Is, Ic"
   ]
  },
  {
   "cell_type": "code",
   "execution_count": null,
   "metadata": {
    "deletable": false,
    "editable": false,
    "nbgrader": {
     "checksum": "a470627c3b7ce6ae0a894d7116899426",
     "grade": true,
     "grade_id": "cell-226151874510702",
     "locked": true,
     "points": 10,
     "schema_version": 1,
     "solution": false
    }
   },
   "outputs": [],
   "source": [
    "import scipy.special\n",
    "Is, Ic = scipy.special.fresnel(numpy.sqrt(2.0 / numpy.pi))\n",
    "Is *= numpy.sqrt(2.0 * numpy.pi)\n",
    "Ic *= numpy.sqrt(2.0 * numpy.pi)\n",
    "Is_hat, Ic_hat = trap_wnc(200)\n",
    "error = numpy.abs(Is_hat - Is)\n",
    "print \"Error: %s\" % error\n",
    "numpy.testing.assert_allclose(error, 0.0, atol=1e-4)\n",
    "print \"Computed the integrals correctly using the trapezoidal and Newton-Cotes rules.\"    "
   ]
  },
  {
   "cell_type": "markdown",
   "metadata": {
    "deletable": false,
    "editable": false,
    "nbgrader": {
     "checksum": "69f28370f81c25bc52d48adfef598ad8",
     "grade": false,
     "grade_id": "cell-8870847314167314",
     "locked": true,
     "schema_version": 1,
     "solution": false
    }
   },
   "source": [
    "**(d)** [10] Do a change of variables $x = t^2$ and evaluate each integral using the trapezoidal rule for the entire domain."
   ]
  },
  {
   "cell_type": "code",
   "execution_count": null,
   "metadata": {
    "deletable": false,
    "nbgrader": {
     "checksum": "137f55ec0119ab1ea534fa717eb0f673",
     "grade": false,
     "grade_id": "cell-7736129930158757",
     "locked": false,
     "schema_version": 1,
     "solution": true
    }
   },
   "outputs": [],
   "source": [
    "def trap_transformed(N):\n",
    "    # dx = 2t dt\n",
    "    Ic_grand = lambda x: 2.0 * numpy.cos(x**2)\n",
    "    Is_grand = lambda x: 2.0 * numpy.sin(x**2)\n",
    "    # num_partitions = N\n",
    "    # x_hat = numpy.linspace(0.0, 1.0, N+1)\n",
    "    x = numpy.linspace(0.0, 1.0, N+1)\n",
    "    delta_x = x[1] - x[0]\n",
    "    Ic = 0.0\n",
    "    Is = 0.0\n",
    "    for i in range(1, N):\n",
    "        Ic += Ic_grand(x[i]) * delta_x\n",
    "        Is += Is_grand(x[i]) * delta_x\n",
    "    # we have well-defined f(x[0]) for integrand\n",
    "    Ic += (Ic_grand(x[-1]) + Ic_grand(x[0])) * delta_x / 2.0\n",
    "    Is += (Is_grand(x[-1]) + Is_grand(x[0])) * delta_x / 2.0\n",
    "    \n",
    "    return Is, Ic"
   ]
  },
  {
   "cell_type": "code",
   "execution_count": null,
   "metadata": {
    "deletable": false,
    "editable": false,
    "nbgrader": {
     "checksum": "cbe1f79e611cdc67d0af82ded0c795e6",
     "grade": true,
     "grade_id": "cell-3154020715657228",
     "locked": true,
     "points": 10,
     "schema_version": 1,
     "solution": false
    }
   },
   "outputs": [],
   "source": [
    "import scipy.special\n",
    "Is, Ic = scipy.special.fresnel(numpy.sqrt(2.0 / numpy.pi))\n",
    "Is *= numpy.sqrt(2.0 * numpy.pi)\n",
    "Ic *= numpy.sqrt(2.0 * numpy.pi)\n",
    "Is_hat, Ic_hat = trap_transformed(200)\n",
    "error = numpy.abs(Is_hat - Is)\n",
    "print \"Error: %s\" % error\n",
    "numpy.testing.assert_allclose(error, 0.0, atol=1e-5)\n",
    "print \"Computed the integrals correctly using the trapezoidal rule.\"    "
   ]
  },
  {
   "cell_type": "markdown",
   "metadata": {
    "deletable": false,
    "editable": false,
    "nbgrader": {
     "checksum": "fcd498b01875cf71c545521aa8164312",
     "grade": false,
     "grade_id": "cell-6494212708282626",
     "locked": true,
     "schema_version": 1,
     "solution": false
    }
   },
   "source": [
    "**(e)** [10] Do the same as in part (c) but use 3-point Gauss-Legendre quadrature."
   ]
  },
  {
   "cell_type": "code",
   "execution_count": null,
   "metadata": {
    "deletable": false,
    "nbgrader": {
     "checksum": "32ec8c214868f6a534bc62a4ec084de5",
     "grade": false,
     "grade_id": "cell-5621529377713954",
     "locked": false,
     "schema_version": 1,
     "solution": true
    }
   },
   "outputs": [],
   "source": [
    "def gauss_legendre_3(N):\n",
    "    # update using part d\n",
    "    Ic_grand = lambda x: 2.0 * numpy.cos(x**2)\n",
    "    Is_grand = lambda x: 2.0 * numpy.sin(x**2)\n",
    "    x = numpy.linspace(0.0, 1.0, N+1)\n",
    "    delta_x = x[1] - x[0]\n",
    "    Is = 0.0\n",
    "    Ic = 0.0\n",
    "    #delta_x = 1.0 / float(N) \n",
    "    # Compute Gauss-Legendre 3-point based on the lecture\n",
    "    xi_map = lambda a,b,xi : (b - a) / 2.0 * xi + (a + b) / 2.0\n",
    "    xi = [-numpy.sqrt(3.0 / 5.0), 0.0, numpy.sqrt(3.0 / 5.0)]\n",
    "    w = [5.0 / 9.0, 8.0 / 9.0, 5.0 / 9.0]\n",
    "    for i in range(0, N):\n",
    "        for k in range(len(xi)):\n",
    "            Ic += Ic_grand(xi_map(x[i], x[i+1], xi[k])) * w[k] \n",
    "            Is += Is_grand(xi_map(x[i], x[i+1], xi[k])) * w[k] \n",
    "            #I_hat += f(xi_map(x_hat[i], x_hat[i+1], xi[k])) * w[k]\n",
    "    \n",
    "    Ic *= delta_x / 2.0\n",
    "    Is *= delta_x / 2.0\n",
    "    \n",
    "    #Ic = Ic - Ic_grand(delta_x + 0) * delta_x / 2.0 + 2.0 / 3.0 * (2.0 * numpy.cos(0.0) + numpy.cos(delta_x)) * delta_x / 2.0\n",
    "    #Is = Is - Is_grand(delta_x + 0) * delta_x / 2.0 + 2.0 / 3.0 * (2.0 * numpy.cos(0.0) + numpy.cos(delta_x)) * delta_x / 2.0\n",
    "    \n",
    "    return Is, Ic"
   ]
  },
  {
   "cell_type": "code",
   "execution_count": null,
   "metadata": {
    "deletable": false,
    "editable": false,
    "nbgrader": {
     "checksum": "677367493553e36fe899e8046eb8c995",
     "grade": true,
     "grade_id": "cell-1113773998085106",
     "locked": true,
     "points": 10,
     "schema_version": 1,
     "solution": false
    }
   },
   "outputs": [],
   "source": [
    "import scipy.special\n",
    "Is, Ic = scipy.special.fresnel(numpy.sqrt(2.0 / numpy.pi))\n",
    "Is *= numpy.sqrt(2.0 * numpy.pi)\n",
    "Ic *= numpy.sqrt(2.0 * numpy.pi)\n",
    "Is_hat, Ic_hat = gauss_legendre_3(10)\n",
    "error = numpy.abs(Is_hat - Is)\n",
    "print \"Error: %s\" % error\n",
    "numpy.testing.assert_allclose(error, 0.0, atol=1e-10)\n",
    "print \"Computed the integrals correctly using the trapezoidal and Newton-Cotes rules.\"    "
   ]
  },
  {
   "cell_type": "markdown",
   "metadata": {
    "deletable": false,
    "editable": false,
    "nbgrader": {
     "checksum": "2d6997200b89188e911406f2b461c788",
     "grade": false,
     "grade_id": "cell-6575269031232667",
     "locked": true,
     "schema_version": 1,
     "solution": false
    }
   },
   "source": [
    "**(f)** [5] Check the order of accuracy for each of the methods above and plot these on a `loglog` plot with appropriate reference lines to indicate the order of each."
   ]
  },
  {
   "cell_type": "code",
   "execution_count": null,
   "metadata": {
    "deletable": false,
    "nbgrader": {
     "checksum": "4f917f94562abcab094e913a8c5f50ec",
     "grade": true,
     "grade_id": "cell-395406051759804",
     "locked": false,
     "points": 5,
     "schema_version": 1,
     "solution": true
    }
   },
   "outputs": [],
   "source": []
  },
  {
   "cell_type": "markdown",
   "metadata": {
    "deletable": false,
    "editable": false,
    "nbgrader": {
     "checksum": "78aff31883b4ba8a8c7c7393d7ea8655",
     "grade": false,
     "grade_id": "cell-1553923981662412",
     "locked": true,
     "schema_version": 1,
     "solution": false
    }
   },
   "source": [
    "**(g)** [3] Comment on the results of this question and the vast differences in convergence rates even between the two integrations (why is $I_c$ less accurate than $I_s$)."
   ]
  },
  {
   "cell_type": "markdown",
   "metadata": {
    "deletable": false,
    "nbgrader": {
     "checksum": "329ffa12d392d78f0bd4c33a4c942e42",
     "grade": true,
     "grade_id": "cell-7860584774817940",
     "locked": false,
     "points": 3,
     "schema_version": 1,
     "solution": true
    }
   },
   "source": [
    "Solution: It is clear that the difficulty of integrating Ic derives from the singularity point at x=0, since cos(0) = 1. This makes the approximated value deviate from the true value comparing to sin(0) = 0. Therefore, Ic is less accurate than Is.\n",
    "\n",
    "Meanwhile, by transformation of the form of the two functions, the singulariy point vanishes, and the function itself integrates well with the Guass-Legendre method."
   ]
  },
  {
   "cell_type": "markdown",
   "metadata": {
    "deletable": false,
    "editable": false,
    "nbgrader": {
     "checksum": "79f633727305ca87d03db986b7d050d5",
     "grade": false,
     "grade_id": "cell-3224734890563854",
     "locked": true,
     "schema_version": 1,
     "solution": false
    }
   },
   "source": [
    "## Question 3\n",
    "\n",
    "We can often reformulate finite difference approximations as matrix-vector products.  For the following assume that the data considered are equi-spaced points $(x_i, y_i)$, i.e. $\\Delta x$ is uniform."
   ]
  },
  {
   "cell_type": "markdown",
   "metadata": {
    "deletable": false,
    "editable": false,
    "nbgrader": {
     "checksum": "3842d0500b488fc1a8fd322f622d7df2",
     "grade": false,
     "grade_id": "cell-7885120873385504",
     "locked": true,
     "schema_version": 1,
     "solution": false
    }
   },
   "source": [
    "**(a)** [10] Using a second order centered finite difference approximation to the second derivative and the appropriate forward and backward difference schemes at the edges of the domain find the matrix $D$ such that multiplying a vector of $y$ values would lead to a second order approximation of the derivative for the given data.  In other words for $y_i = f(x_i)$\n",
    "$$\n",
    "    f'(x) \\approx D y.\n",
    "$$"
   ]
  },
  {
   "cell_type": "markdown",
   "metadata": {
    "deletable": false,
    "nbgrader": {
     "checksum": "67a3ffd50bc7cfb020a04991ff5467d7",
     "grade": true,
     "grade_id": "cell-2125755949784286",
     "locked": false,
     "points": 10,
     "schema_version": 1,
     "solution": true
    }
   },
   "source": [
    "Solution: For uniform spaced points $\\Delta$x, we have an n$\\times$n matrix to satisfy second order centered finite difference approximation:\n",
    "$$\n",
    "    A = \\frac{1}{\\Delta x^2}\\begin{bmatrix}\n",
    "        2 & -5 & 4 & &-1 \\\\\n",
    "      1 & -2 & 1 \\\\\n",
    "      \\cdots \\\\\n",
    "      1 & &-2 & 1 \\\\\n",
    "      \\cdots &\\cdots \\\\\n",
    "      ~~~~~~~~~ &1 & -2 & 1 \\\\\n",
    "      -1  &4 & -5 & 2\n",
    "    \\end{bmatrix}\n",
    "$$"
   ]
  },
  {
   "cell_type": "markdown",
   "metadata": {
    "deletable": false,
    "editable": false,
    "nbgrader": {
     "checksum": "87a7a208990c18273fe853b126ac808a",
     "grade": false,
     "grade_id": "cell-8815784455777695",
     "locked": true,
     "schema_version": 1,
     "solution": false
    }
   },
   "source": [
    "**(b)** [10] Write a function that takes in the number of data points $N$ and returns the matrix $D$.  Here assume we are on the interval $[-1, 1]$.  Note that inside your function \n",
    "$$\n",
    "    \\Delta x = \\frac{2}{N - 1}\n",
    "$$\n",
    "to match the `linspace` command.\n",
    "\n",
    "Beyond being convenient (once you construct the matrix you can apply it to any set of data) this operation is much faster than using loops.  *Hint:* The command `numpy.diag` may be extremely helpful."
   ]
  },
  {
   "cell_type": "code",
   "execution_count": 28,
   "metadata": {
    "deletable": false,
    "nbgrader": {
     "checksum": "08cef2157f573181b72e409343a13c87",
     "grade": false,
     "grade_id": "cell-5516025382221234",
     "locked": false,
     "schema_version": 1,
     "solution": true
    }
   },
   "outputs": [],
   "source": [
    "def diff_matrix(N):\n",
    "    D = numpy.zeros((N, N))\n",
    "    delta_x = 2.0 / (N-1)\n",
    "    diagonal = numpy.ones(N) / delta_x**2\n",
    "    \n",
    "    D += numpy.diag(diagonal * -2.0, 0)\n",
    "    D += numpy.diag(diagonal[:-1], 1)\n",
    "    D += numpy.diag(diagonal[:-1], -1)\n",
    "\n",
    "    D[0, :4] = [2.0, -5.0, 4.0, -1.0]\n",
    "    D[-1, -4:] = [-1.0, 4.0, -5.0, 2.0]\n",
    "    D[0, :4] /= delta_x**2\n",
    "    D[-1, -4:] /= delta_x**2\n",
    "    \n",
    "    return D"
   ]
  },
  {
   "cell_type": "code",
   "execution_count": 29,
   "metadata": {
    "deletable": false,
    "editable": false,
    "nbgrader": {
     "checksum": "cda3709c81f3b95cb417c9962f3cbf57",
     "grade": true,
     "grade_id": "cell-7511846809958937",
     "locked": true,
     "points": 10,
     "schema_version": 1,
     "solution": false
    },
    "scrolled": true
   },
   "outputs": [
    {
     "ename": "SyntaxError",
     "evalue": "Missing parentheses in call to 'print'. Did you mean print(\"Success!\")? (<ipython-input-29-8589c42ea9b6>, line 5)",
     "output_type": "error",
     "traceback": [
      "\u001b[1;36m  File \u001b[1;32m\"<ipython-input-29-8589c42ea9b6>\"\u001b[1;36m, line \u001b[1;32m5\u001b[0m\n\u001b[1;33m    print \"Success!\"\u001b[0m\n\u001b[1;37m                   ^\u001b[0m\n\u001b[1;31mSyntaxError\u001b[0m\u001b[1;31m:\u001b[0m Missing parentheses in call to 'print'. Did you mean print(\"Success!\")?\n"
     ]
    }
   ],
   "source": [
    "N = 200\n",
    "x = numpy.linspace(-1, 1, N)\n",
    "y = numpy.sin(x) * numpy.cos(x)\n",
    "numpy.testing.assert_allclose(numpy.dot(diff_matrix(N), y), -4.0 * numpy.sin(x) * numpy.cos(x), rtol=1e-2)\n",
    "print \"Success!\""
   ]
  },
  {
   "cell_type": "markdown",
   "metadata": {
    "deletable": false,
    "editable": false,
    "nbgrader": {
     "checksum": "86e0dec917e91613054276eaca16dc9b",
     "grade": false,
     "grade_id": "cell-1283048126092389",
     "locked": true,
     "schema_version": 1,
     "solution": false
    }
   },
   "source": [
    "**(c)** [5] Suppose instead that we did not know the vector $f(x_i) = y_i$ but instead knew the value of second derivative at these points.  If we wanted to find the vector $y$ what kind of problem would we have to solve?  What is the continuous analog of this problem and what additional information would we need?"
   ]
  },
  {
   "cell_type": "markdown",
   "metadata": {
    "deletable": false,
    "nbgrader": {
     "checksum": "4b523be5a5ee66ce478e9f9c59feaf56",
     "grade": true,
     "grade_id": "cell-3816704844311840",
     "locked": false,
     "points": 5,
     "schema_version": 1,
     "solution": true
    }
   },
   "source": [
    "Solution: We have to solve a system of equations to get f(x$_i$) = y$_i$ using second derivatives.\n",
    "\n",
    "In continuous analog, it is a system of ODE with boundary value and we have to know more about the boundary condition with boundary points or end points."
   ]
  },
  {
   "cell_type": "code",
   "execution_count": null,
   "metadata": {},
   "outputs": [],
   "source": []
  }
 ],
 "metadata": {
  "kernelspec": {
   "display_name": "Python 3",
   "language": "python",
   "name": "python3"
  },
  "language_info": {
   "codemirror_mode": {
    "name": "ipython",
    "version": 3
   },
   "file_extension": ".py",
   "mimetype": "text/x-python",
   "name": "python",
   "nbconvert_exporter": "python",
   "pygments_lexer": "ipython3",
   "version": "3.6.8"
  }
 },
 "nbformat": 4,
 "nbformat_minor": 1
}
