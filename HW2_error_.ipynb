{
 "cells": [
  {
   "cell_type": "code",
   "execution_count": 1,
   "metadata": {
    "deletable": false,
    "editable": false,
    "nbgrader": {
     "checksum": "499fab68698fe8f9090a77ca00f47d0e",
     "grade": false,
     "grade_id": "cell-7531378247537850",
     "locked": true,
     "schema_version": 1,
     "solution": false
    }
   },
   "outputs": [],
   "source": [
    "%matplotlib inline\n",
    "from __future__ import print_function\n",
    "import numpy\n",
    "import matplotlib.pyplot as plt"
   ]
  },
  {
   "cell_type": "markdown",
   "metadata": {
    "deletable": false,
    "editable": false,
    "nbgrader": {
     "checksum": "393f92de724a9fc8bc23bfa2bf04479a",
     "grade": false,
     "grade_id": "cell-1045934248403058",
     "locked": true,
     "schema_version": 1,
     "solution": false
    }
   },
   "source": [
    "Before you turn this problem in, make sure everything runs as expected. First, restart the kernel (in the menubar, select Kernel $\\rightarrow$ Restart) and then run all cells (in the menubar, select Cell $\\rightarrow$ Run All).\n",
    "\n",
    "Make sure you fill in any place that says YOUR CODE HERE or \"YOUR ANSWER HERE\", as well as your name and collaborators below:"
   ]
  },
  {
   "cell_type": "markdown",
   "metadata": {
    "deletable": false,
    "editable": false,
    "nbgrader": {
     "checksum": "57fe3d1a770d32fc71d10c52d47d5765",
     "grade": false,
     "grade_id": "cell-1055125360070174",
     "locked": true,
     "schema_version": 1,
     "solution": false
    }
   },
   "source": [
    "# HW 1:  Forms of Error\n",
    "\n"
   ]
  },
  {
   "cell_type": "markdown",
   "metadata": {
    "deletable": false,
    "editable": false,
    "nbgrader": {
     "checksum": "a3b3f2adc00cb58a9f74005bb84b21c6",
     "grade": false,
     "grade_id": "cell-2726284965293730",
     "locked": true,
     "schema_version": 1,
     "solution": false
    }
   },
   "source": [
    "## Question 1\n",
    "\n",
    "Consider the expression\n",
    "$$\n",
    "    f(x) = \\frac{1}{x - 1}\n",
    "$$"
   ]
  },
  {
   "cell_type": "markdown",
   "metadata": {
    "deletable": false,
    "editable": false,
    "nbgrader": {
     "checksum": "fd8e18618a8fcc2d1b60a7eb5cd50d3f",
     "grade": false,
     "grade_id": "cell-4842217051547422",
     "locked": true,
     "schema_version": 1,
     "solution": false
    }
   },
   "source": [
    "**(a)** [10] Expand $f(x)$ in a Taylor series representation about $x_0 = 0$."
   ]
  },
  {
   "cell_type": "markdown",
   "metadata": {
    "deletable": false,
    "nbgrader": {
     "checksum": "41c9cc51088dd1f0e96d702834da38c5",
     "grade": true,
     "grade_id": "cell-5812202303798243",
     "locked": false,
     "points": 10,
     "schema_version": 1,
     "solution": true
    }
   },
   "source": [
    "Solution: We derive the Taylor expansion by\n",
    "$$\n",
    "\\begin{align}\n",
    "    f'(x) &= -(x-1)^{-2} \\\\\n",
    "    f''(x) &= 2(x-1)^{-3} \\\\\n",
    "    \\Rightarrow ~~~~f^{(n)}(x) &= (-1)^n \\cdot (x-1)^{-n-1}n! \\\\\n",
    "    and ~~~~f^{(n)}(0) &= -n! ~~~at ~~x_0=0 \\\\\n",
    "    So ~~~~T_N &= \\sum^N_{n=0} -x^n = -1 - x - x^2 + \\cdots - x^N  \\\\\n",
    "    R_N &= \\frac{f^{n+1}(c) \\cdot x^{n+1}}{(n+1)!} \\\\\n",
    "    &= (-1)^{n+1}(c-1)^{-n-2} \\cdot x^{n+1} ~~~~~ 0 \\le c \\le x\n",
    "\\end{align}\n",
    "$$\n",
    "So, the taylor series is \n",
    "$$\n",
    "\\begin{align}\n",
    "    f(x) = \\sum^\\infty_{n=0} -x^n\n",
    "\\end{align}\n",
    "$$\n"
   ]
  },
  {
   "cell_type": "markdown",
   "metadata": {
    "deletable": false,
    "editable": false,
    "nbgrader": {
     "checksum": "0862420ba8dfc5753780172c51596857",
     "grade": false,
     "grade_id": "cell-7289929271577925",
     "locked": true,
     "schema_version": 1,
     "solution": false
    }
   },
   "source": [
    "**(b)** [5] What is the expected operation count if we truncate the series to $N$ terms?  Simplify the power to multiplications rather than something more exotic.  Stating the answer in terms of big-O notation is fine."
   ]
  },
  {
   "cell_type": "markdown",
   "metadata": {
    "deletable": false,
    "nbgrader": {
     "checksum": "573bd26e00cb263e8e98cd518380f3bf",
     "grade": true,
     "grade_id": "cell-9783535558625426",
     "locked": false,
     "points": 5,
     "schema_version": 1,
     "solution": true
    }
   },
   "source": [
    "Solution: For the term -x$^n$, the power is n.\n",
    "\n",
    "That means there are n-1 multiply operations in the term -x$^n$. \n",
    "\n",
    "And the multiply operations start from 1 and continue by adding 1 for each next term. \n",
    "\n",
    "Therefore, if we truncate to N terms, the expected operations count is \n",
    "$$\n",
    "\\begin{align}\n",
    "    O(N)\n",
    "\\end{align}\n",
    "$$"
   ]
  },
  {
   "cell_type": "markdown",
   "metadata": {
    "deletable": false,
    "editable": false,
    "nbgrader": {
     "checksum": "a5bb5b5948ec95c3bfba9bc6ee275982",
     "grade": false,
     "grade_id": "cell-9523873765967580",
     "locked": true,
     "schema_version": 1,
     "solution": false
    }
   },
   "source": [
    "**(c)** [10] Make two plots of the relative error of the approximation vs. the true value of the function.  In the first pick a value to evaluate both functions at keeping $x_0 \\neq x$ but vary the number of terms you keep ($N$).  In the second fix $N$ and vary $x$.  Explain what you observe.  "
   ]
  },
  {
   "cell_type": "code",
   "execution_count": 3,
   "metadata": {
    "deletable": false,
    "nbgrader": {
     "checksum": "ff63e00cbbe28ff038e9bb577459ee66",
     "grade": true,
     "grade_id": "cell-2037273928324716",
     "locked": false,
     "points": 5,
     "schema_version": 1,
     "solution": true
    }
   },
   "outputs": [
    {
     "data": {
      "image/png": "[encoded data removed]",
      "text/plain": [
       "<Figure size 864x288 with 2 Axes>"
      ]
     },
     "metadata": {},
     "output_type": "display_data"
    }
   ],
   "source": [
    "# vary N by start point x0=0.3\n",
    "N = numpy.arange(2, 30, 1.0)\n",
    "# true value of the function above\n",
    "ft = 1.0/(0.3-1.0)\n",
    "# approximated value of the function above\n",
    "f_1 = lambda x, N: -(x**numpy.arange(0, N+1)).sum()\n",
    "fa = numpy.array([f_1(0.3, n) for n in N])\n",
    "r1 = numpy.abs(ft-fa)/numpy.abs(ft)\n",
    "fig = plt.figure()\n",
    "fig.set_figwidth(fig.get_figwidth() * 2)\n",
    "axes = fig.add_subplot(1, 2, 1)\n",
    "axes.plot(N, r1)\n",
    "axes.plot(N, r1, 'o')\n",
    "plt.grid(True)\n",
    "axes.set_title(\"relative error by varing N terms\")\n",
    "axes.set_xlabel(\"N\")\n",
    "axes.set_ylabel(\"|f-f_1|/|f|\")\n",
    "\n",
    "# fix N vary x\n",
    "x1 = numpy.linspace(0.50, 1.20, 500)\n",
    "ft = 1.0/(x1-1.0)\n",
    "N = 15\n",
    "fa = numpy.array([f_1(x, N) for x in x1])\n",
    "r2 = numpy.abs(ft-fa)/numpy.abs(ft)\n",
    "axes = fig.add_subplot(1, 2, 2)\n",
    "axes.plot(x1, r2, 'r-')\n",
    "plt.grid(True)\n",
    "axes.set_title(\"relative error by varing x\")\n",
    "axes.set_xlabel(\"x\")\n",
    "axes.set_ylabel(\"|f-f_1|/|f|\")\n",
    "\n",
    "plt.show()"
   ]
  },
  {
   "cell_type": "markdown",
   "metadata": {
    "deletable": false,
    "nbgrader": {
     "checksum": "6caddaf02072c95fbda508eb65d52f3c",
     "grade": true,
     "grade_id": "cell-6881618690209186",
     "locked": false,
     "points": 5,
     "schema_version": 1,
     "solution": true
    }
   },
   "source": [
    "Explanation: If we fix x$_0$ by varing N terms, we see that the relative error becomes small enough as we add more terms. But for fixed N, when x becomes larger, the error becomes huge enough. \n",
    "\n",
    "And since x=1 is not defined, we still see there is a relative error = 1.0 at x=1.0."
   ]
  },
  {
   "cell_type": "markdown",
   "metadata": {
    "deletable": false,
    "editable": false,
    "nbgrader": {
     "checksum": "87b59c542e044805e3e5db9c26f7b1a4",
     "grade": false,
     "grade_id": "cell-6980143175196213",
     "locked": true,
     "schema_version": 1,
     "solution": false
    }
   },
   "source": [
    "## Question 2\n",
    "\n",
    "**(a)** [10] Consider the following two equivalent sums:\n",
    "\n",
    "$$\n",
    "    \\sum^\\infty_{n=1} \\left [ \\frac{1}{n} - \\frac{1}{n+1} \\right ] = \\sum^\\infty_{n=1} \\frac{1}{n (n + 1)}\n",
    "$$\n",
    "\n",
    "Write two Python functions that compute each of these sums but to a finite number of terms $N$."
   ]
  },
  {
   "cell_type": "code",
   "execution_count": 4,
   "metadata": {
    "deletable": false,
    "nbgrader": {
     "checksum": "ad12873909a015e7f252710079d98ae9",
     "grade": false,
     "grade_id": "cell-8697691190464640",
     "locked": false,
     "schema_version": 1,
     "solution": true
    }
   },
   "outputs": [],
   "source": [
    "def sum_1(N):\n",
    "    \"\"\"Compute the summation S_N defined as\n",
    "    \n",
    "    \\sum^N_{n=1} \\left [ \\frac{1}{n} - \\frac{1}{n+1} \\right ]\n",
    "    \n",
    "    :Input:\n",
    "     *N* (int) The upper bound on the summation.\n",
    "    \n",
    "    Returns Sn (float)\n",
    "    \"\"\"\n",
    "\n",
    "    # Starting with the 1st algorithm\n",
    "    Sn1 = 0.0\n",
    "    for n in range(1, N+1):\n",
    "        Sn1 += 1.0/float(n) - 1.0/(float(n)+1.0)\n",
    "\n",
    "    return Sn1\n",
    "\n",
    "\n",
    "def sum_2(N):\n",
    "    \"\"\"Compute the summation S_N defined as\n",
    "    \n",
    "    \\sum^N_{n=1} \\frac{1}{n (n + 1)}\n",
    "    \n",
    "    :Input:\n",
    "     *N* (int) The upper bound on the summation.\n",
    "    \n",
    "    Returns Sn (float)\n",
    "    \"\"\"\n",
    "\n",
    "    # Then start with the 2nd algorithm\n",
    "    Sn2 = 0.0\n",
    "    for n in range(1, N+1):\n",
    "        Sn2 += 1.0/(float(n)*(float(n)+1.0))   \n",
    "    # or Sn2 += 1.0/float(n*(n+1)), both pass the test\n",
    "    \n",
    "    return Sn2"
   ]
  },
  {
   "cell_type": "code",
   "execution_count": 5,
   "metadata": {
    "deletable": false,
    "editable": false,
    "nbgrader": {
     "checksum": "7bed39b18c5cedffea2d5e0e73d3550b",
     "grade": true,
     "grade_id": "cell-24f42f8d848d3840",
     "locked": true,
     "points": 10,
     "schema_version": 1,
     "solution": false
    }
   },
   "outputs": [
    {
     "name": "stdout",
     "output_type": "stream",
     "text": [
      "Success!\n"
     ]
    }
   ],
   "source": [
    "for N in range(5, 21, 5):\n",
    "    numpy.testing.assert_allclose(sum_1(N), sum_2(N))\n",
    "print(\"Success!\")"
   ]
  },
  {
   "cell_type": "markdown",
   "metadata": {
    "deletable": false,
    "editable": false,
    "nbgrader": {
     "checksum": "935f929039416b298b01866a5a9a4d44",
     "grade": false,
     "grade_id": "cell-9110689736182158",
     "locked": true,
     "schema_version": 1,
     "solution": false
    }
   },
   "source": [
    "**(b)** [5] Compute the absolute error between the two summation approaches."
   ]
  },
  {
   "cell_type": "code",
   "execution_count": 6,
   "metadata": {
    "deletable": false,
    "nbgrader": {
     "checksum": "ff4d60c2d5415a56c79e9a18e7e7b1f1",
     "grade": false,
     "grade_id": "cell-2728436851289605",
     "locked": false,
     "schema_version": 1,
     "solution": true
    }
   },
   "outputs": [],
   "source": [
    "def abs_error(N):\n",
    "    \"\"\"Compute the absolute error of the two sums defined as\n",
    "    \n",
    "    \\sum^N_{n=1} \\left [ \\frac{1}{n} - \\frac{1}{n+1} \\right ]\n",
    "    \n",
    "    and \n",
    "    \n",
    "    \\sum^N_{n=1} \\frac{1}{n (n + 1)}\n",
    "    \n",
    "    respectively for the given N.\n",
    "    \n",
    "    :Input:\n",
    "     *N* (int) The upper bound on the summation.\n",
    "    \n",
    "    Returns *error* (float)\n",
    "    \"\"\"\n",
    "    \n",
    "    # Starting with the subtraction when fixing N\n",
    "    error = numpy.abs(sum_1(N) - sum_2(N))\n",
    "    \n",
    "    return error"
   ]
  },
  {
   "cell_type": "code",
   "execution_count": 7,
   "metadata": {
    "deletable": false,
    "editable": false,
    "nbgrader": {
     "checksum": "099597f788426a72f262445ad832bdeb",
     "grade": true,
     "grade_id": "cell-8085566637096152",
     "locked": true,
     "points": 5,
     "schema_version": 1,
     "solution": false
    }
   },
   "outputs": [
    {
     "name": "stdout",
     "output_type": "stream",
     "text": [
      "Success!\n"
     ]
    }
   ],
   "source": [
    "N = numpy.logspace(1, 7, 7, dtype=int)\n",
    "answer = numpy.zeros(N.shape)\n",
    "for (n, upper_bound) in enumerate(N):\n",
    "    answer[n] = abs_error(upper_bound)\n",
    "numpy.testing.assert_allclose(answer, numpy.zeros(answer.shape), atol=1e-10)\n",
    "print(\"Success!\")"
   ]
  },
  {
   "cell_type": "markdown",
   "metadata": {
    "deletable": false,
    "editable": false,
    "nbgrader": {
     "checksum": "e594713f5c58a4e401858330c3f301c4",
     "grade": false,
     "grade_id": "cell-8453647864370181",
     "locked": true,
     "schema_version": 1,
     "solution": false
    }
   },
   "source": [
    "**(c)** [10] Plot the relative and absolute error versus $N$ up to large $N$ (above at least $10^4$).  Also plot a line where $\\epsilon_{\\text{machine}}$ should be.  Comment on what you see."
   ]
  },
  {
   "cell_type": "code",
   "execution_count": 8,
   "metadata": {
    "deletable": false,
    "nbgrader": {
     "checksum": "828d4b32491c276fb4aacafb6c89f1ee",
     "grade": true,
     "grade_id": "cell-5088322155772002",
     "locked": false,
     "points": 10,
     "schema_version": 1,
     "solution": true
    }
   },
   "outputs": [
    {
     "data": {
      "image/png": "[encoded data removed]",
      "text/plain": [
       "<Figure size 864x288 with 2 Axes>"
      ]
     },
     "metadata": {},
     "output_type": "display_data"
    }
   ],
   "source": [
    "fig = plt.figure()\n",
    "fig.set_figwidth(fig.get_figwidth() * 2)\n",
    "\n",
    "# HINT!  Use the plotting function semilogx to plot the errors\n",
    "N = numpy.array([10**n for n in range(0, 8)])\n",
    "Map = numpy.zeros((2, N.shape[0]))\n",
    "# Using upper_bound function\n",
    "for (n, upper_bound) in enumerate(N):\n",
    "    Map[0, n] = numpy.abs(sum_1(upper_bound)-sum_2(upper_bound))/numpy.abs(sum_1(upper_bound))\n",
    "    Map[1, n] = abs_error(upper_bound)\n",
    "\n",
    "# plot the relative error\n",
    "axes = fig.add_subplot(1, 2, 1)\n",
    "axes.semilogx(N, Map[0, :], 'og-')\n",
    "# to add machine epsilon, method from stackoverflow\n",
    "# though dont know what machine epsilon does \n",
    "axes.semilogx(N, numpy.ones(N.shape) * numpy.finfo(float).eps, 'orange')\n",
    "axes.set_xlabel(\"N terms in the summation\")\n",
    "axes.set_ylabel(\"Relative error between two series\")\n",
    "plt.legend([\"Relative error\", \"$\\epsilon_{machine}$\"], loc='upper left')\n",
    "# plot the absolute error\n",
    "axes = fig.add_subplot(1, 2, 2)\n",
    "axes.semilogx(N, Map[1, :], 'oc-')\n",
    "axes.semilogx(N, numpy.ones(N.shape) * numpy.finfo(float).eps, 'orange')\n",
    "axes.set_xlabel(\"N terms in the summation\")\n",
    "axes.set_ylabel(\"Absolute error between two series\")\n",
    "plt.legend([\"Absolute error\", \"$\\epsilon_{machine}$\"], loc='upper left')\n",
    "\n",
    "plt.show()\n",
    "# As we add more terms in the two series, the relative error and absolute error both increase\n",
    "# from almost zero to higher level. And both the error climb up and go beyond the machine epsilon when adding \n",
    "# more than 1000 terms."
   ]
  },
  {
   "cell_type": "markdown",
   "metadata": {
    "deletable": false,
    "editable": false,
    "nbgrader": {
     "checksum": "9c1a6a1064d9755ba058752a9f4c4708",
     "grade": false,
     "grade_id": "cell-6654906620112742",
     "locked": true,
     "schema_version": 1,
     "solution": false
    }
   },
   "source": [
    "**(d)** [3] Theorize what may have lead to the differences in answers."
   ]
  },
  {
   "cell_type": "markdown",
   "metadata": {
    "deletable": false,
    "nbgrader": {
     "checksum": "656207bfd7b26c75aac350a4be2bb9d9",
     "grade": true,
     "grade_id": "cell-8407703834073311",
     "locked": false,
     "points": 3,
     "schema_version": 1,
     "solution": true
    }
   },
   "source": [
    "Solution: The two curves differ slightly when terms(N) are few, since the relative error and absolute error differ in that the difference in first several terms are wide compared to the machine epsilon."
   ]
  },
  {
   "cell_type": "markdown",
   "metadata": {
    "deletable": false,
    "editable": false,
    "nbgrader": {
     "checksum": "390c6ffa15d38a41aa7a3a9a6c3b2d65",
     "grade": false,
     "grade_id": "cell-6968179660613369",
     "locked": true,
     "schema_version": 1,
     "solution": false
    }
   },
   "source": [
    "## Question 3\n",
    "\n",
    "[10] Given the Taylor polynomial expansions\n",
    "\n",
    "$$\\frac{1}{1-\\Delta x} = 1 + \\Delta x + \\Delta x^2 + \\Delta x^3 + \\mathcal{O}(\\Delta x^4)$$\n",
    "\n",
    "and\n",
    "\n",
    "$$\\cosh \\Delta x = 1 + \\frac{\\Delta x^2}{2!} + \\frac{\\Delta x^4}{4!} + \\mathcal{O}(\\Delta x^6)$$\n",
    "\n",
    "determine the order of approximation for their sum and product (determine the exponent that belongs in the $\\mathcal{O}$).\n"
   ]
  },
  {
   "cell_type": "markdown",
   "metadata": {
    "deletable": false,
    "nbgrader": {
     "checksum": "d51225339d37094d09bbde1b34f43b64",
     "grade": true,
     "grade_id": "cell-8500724062567566",
     "locked": false,
     "points": 10,
     "schema_version": 1,
     "solution": true
    }
   },
   "source": [
    "Solution: based on big-O notation, we first derive the sum.\n",
    "\n",
    "Sum:\n",
    "$$\n",
    "\\begin{align}\n",
    "    \\frac{1}{1-\\Delta x} + cosh \\Delta x = 2 + \\Delta x + \\frac{3 \\Delta x^2}{2} + \\Delta x^3 + O(\\Delta x^4)\n",
    "\\end{align}\n",
    "$$\n",
    "Then for product:\n",
    "$$\n",
    "\\begin{align}\n",
    "    \\frac{1}{1-\\Delta x} \\cdot cosh \\Delta x &=1 + \\Delta x + \\Delta x^2 + \\Delta x^3 + \\frac{\\Delta x^2}{2} + \\frac{\\Delta x^3}{2} + O(\\Delta x^4)  \\\\\n",
    "    &= 1 + \\Delta x + \\frac{3 \\Delta x^2}{2} + \\frac{3 \\Delta x^3}{2} + O(\\Delta x^4)\n",
    "\\end{align}\n",
    "$$\n"
   ]
  },
  {
   "cell_type": "markdown",
   "metadata": {
    "deletable": false,
    "editable": false,
    "nbgrader": {
     "checksum": "6af9b9f978ad300b1f7f3432b7ca0638",
     "grade": false,
     "grade_id": "cell-4316397622797027",
     "locked": true,
     "schema_version": 1,
     "solution": false
    }
   },
   "source": [
    "## Question 4\n",
    "\n",
    "Consider the operation\n",
    "$$\\begin{aligned}\n",
    "    f(x,y) = \\frac{1}{x + y}\n",
    "\\end{aligned}$$\n",
    "for the following questions."
   ]
  },
  {
   "cell_type": "markdown",
   "metadata": {
    "deletable": false,
    "editable": false,
    "nbgrader": {
     "checksum": "9565779a6c0a7d7b8cae464e144abcab",
     "grade": false,
     "grade_id": "cell-2688842335639501",
     "locked": true,
     "schema_version": 1,
     "solution": false
    }
   },
   "source": [
    "**(a)** [15] Estimate the relative error due to floating point approximations to the representation of the numbers assuming exact operations."
   ]
  },
  {
   "cell_type": "markdown",
   "metadata": {
    "deletable": false,
    "nbgrader": {
     "checksum": "e83fa3b7fefef90c0aeb593c68e3706e",
     "grade": true,
     "grade_id": "cell-8695910698498616",
     "locked": false,
     "points": 15,
     "schema_version": 1,
     "solution": true
    }
   },
   "source": [
    "Solution: Consider the floating point error on the representation of x and y. \n",
    "$$\n",
    "\\begin{align}\n",
    "    \\text {fl}(f(x,y)) = \\frac{1}{x(1+ \\delta _x) + y(1+ \\delta _y)}\n",
    "\\end{align}\n",
    "$$\n",
    "Then for relative error\n",
    "$$\n",
    "\\begin{align}\n",
    "    r &= \\frac{\\frac{1}{x+y} - \\frac{1}{x(1+ \\delta _x) + y(1+ \\delta _y)}}{\\frac{1}{x+y}} \\\\\n",
    "    &= 1 - \\frac{x+y}{x(1+ \\delta _x) + y(1+ \\delta _y)} \\\\\n",
    "    &= 1 - \\frac{1}{1+\\frac{x}{x+y}\\delta_x + \\frac{y}{x+y}\\delta_y} \\\\\n",
    "    &= 1 - \\frac{1}{1 + \\frac{x\\delta_x + y\\delta_y}{x+y}}\n",
    "\\end{align}\n",
    "$$\n",
    "As the relative size of x+y approaches zero, the relative error could be arbitrarily large."
   ]
  },
  {
   "cell_type": "markdown",
   "metadata": {
    "deletable": false,
    "editable": false,
    "nbgrader": {
     "checksum": "38b3451554c311db4daff0b3aa8c6dd5",
     "grade": false,
     "grade_id": "cell-2661766713665152",
     "locked": true,
     "schema_version": 1,
     "solution": false
    }
   },
   "source": [
    "**(b)** [10] Demonstrate this behavior by plotting the relative error."
   ]
  },
  {
   "cell_type": "code",
   "execution_count": null,
   "metadata": {
    "deletable": false,
    "nbgrader": {
     "checksum": "511830fec1cfa90ef449170780a7bb44",
     "grade": true,
     "grade_id": "cell-5777629198172956",
     "locked": false,
     "points": 10,
     "schema_version": 1,
     "solution": true
    }
   },
   "outputs": [],
   "source": [
    "# Similar to the catastrophic cancenllation in lecture 04_error\n",
    "# Construct 1/dx = 1/(x+y) ideally\n",
    "dx = numpy.array([10**(-n) for n in range(1, 16)])\n",
    "x = 1.0 + dx\n",
    "y = -numpy.ones(x.shape)\n",
    "# relative error by definition = [1/(x+y) - 1/dx]/1/dx\n",
    "error = numpy.abs(dx/(x+y) - 1.0) \n",
    "\n",
    "fig = plt.figure()\n",
    "fig.set_figwidth(fig.get_figwidth() * 2)\n",
    "\n",
    "axes = fig.add_subplot(1, 2, 1)\n",
    "axes.loglog(dx, error, 'o-')\n",
    "axes.set_xlabel(\"$\\Delta x$\")\n",
    "axes.set_ylabel(\"relative error\")\n",
    "axes.set_title(\"$\\Delta x$ vs Relative Error\")\n",
    "\n",
    "plt.show()"
   ]
  },
  {
   "cell_type": "markdown",
   "metadata": {
    "deletable": false,
    "editable": false,
    "nbgrader": {
     "checksum": "40b41216d122b05c50c66817549dc40f",
     "grade": false,
     "grade_id": "cell-6605000347660435",
     "locked": true,
     "schema_version": 1,
     "solution": false
    }
   },
   "source": [
    "## Question 5\n",
    "\n",
    "Consider a computing system that uses deoxyribonucleic acid (DNA) to store information.  Given that DNA is formed from the 4 nucleobases adenine, cytosine, guanine, and thymine (uracil is only found in RNA) let us assume that our storage of numbers will be base 4.  Answer the following questions based on this assuming that we have $p=3$ for the mantissa and the exponent $E \\in [-2, 2]$."
   ]
  },
  {
   "cell_type": "markdown",
   "metadata": {
    "deletable": false,
    "editable": false,
    "nbgrader": {
     "checksum": "b8b0fea5c72d81433ebeac9234ddecdc",
     "grade": false,
     "grade_id": "cell-9339658002746268",
     "locked": true,
     "schema_version": 1,
     "solution": false
    }
   },
   "source": [
    "**(a)** [5] Calculate how many numbers can we represent with this system?  What are the underflow and overflow limits?"
   ]
  },
  {
   "cell_type": "markdown",
   "metadata": {
    "deletable": false,
    "nbgrader": {
     "checksum": "ad8f25f97416288a6a542009a97e519f",
     "grade": true,
     "grade_id": "cell-623b625975f5da41",
     "locked": false,
     "points": 5,
     "schema_version": 1,
     "solution": true
    }
   },
   "source": [
    "Solution: The base 4 system is by definition\n",
    "$$\n",
    "\\begin{align}\n",
    "    f = \\pm d_1\\cdot d_2d_3 \\times 4^E \\quad \\text{with} \\quad E \\in [-2, 2]\n",
    "\\end{align}\n",
    "$$\n",
    "Then there are\n",
    "$$\n",
    "\\begin{align}\n",
    "    2 \\times 3 \\times 4 \\times 4 \\times 5 + 1 = 481 \\quad \\text{numbers}\n",
    "\\end{align}\n",
    "$$\n",
    "With two limits\n",
    "$$\n",
    "\\begin{align}\n",
    "    \\text{overflow limit:}~~&3.33 \\times 4^2 = 63 \\\\\n",
    "    \\text{underflow limit:}~~&1.00 \\times 4^{-2} = 0.0625 \\\\\n",
    "\\end{align}\n",
    "$$"
   ]
  },
  {
   "cell_type": "markdown",
   "metadata": {
    "deletable": false,
    "editable": false,
    "nbgrader": {
     "checksum": "ebe44cda517ce568d82c34141b7341f8",
     "grade": false,
     "grade_id": "cell-9339658dsfsdf46268",
     "locked": true,
     "schema_version": 1,
     "solution": false
    }
   },
   "source": [
    "**(b)** [5] Graphically show how the numbers on the decimal real line are distributed."
   ]
  },
  {
   "cell_type": "code",
   "execution_count": 5,
   "metadata": {
    "deletable": false,
    "nbgrader": {
     "checksum": "617f449cb0451ddbc65e0da70a67d489",
     "grade": true,
     "grade_id": "cell-4c6d3ae47566d1f1",
     "locked": false,
     "points": 5,
     "schema_version": 1,
     "solution": true
    }
   },
   "outputs": [
    {
     "data": {
      "image/png": "[encoded data removed]",
      "text/plain": [
       "<Figure size 720x72 with 1 Axes>"
      ]
     },
     "metadata": {},
     "output_type": "display_data"
    }
   ],
   "source": [
    "# the base 4 system\n",
    "d_1_values = [1, 2, 3]\n",
    "d_2_values = [0, 1, 2, 3]\n",
    "d_3_values = [0, 1, 2, 3]\n",
    "E_values = [2, 1, 0, -1, -2]\n",
    "\n",
    "fig = plt.figure(figsize=(10.0, 1.0))\n",
    "axes = fig.add_subplot(1, 1, 1)\n",
    "\n",
    "for E in E_values:\n",
    "    for d1 in d_1_values:\n",
    "        for d2 in d_2_values:\n",
    "            for d3 in d_3_values:\n",
    "                axes.plot( (d1 + d2 * 0.25 + d3 * 0.0625) * 4**E, 0.0, 'r+', markersize=20)\n",
    "                axes.plot(-(d1 + d2 * 0.25 + d3 * 0.0625) * 4**E, 0.0, 'r+', markersize=20)\n",
    "                \n",
    "                \n",
    "axes.plot(0.0, 0.0, 'r+', markersize=20)\n",
    "axes.plot([-63.0, 63.0], [0.0, 0.0], 'k')\n",
    "\n",
    "axes.set_title(\"Distribution of Values\")\n",
    "axes.set_yticks([])\n",
    "axes.set_xlabel(\"x\")\n",
    "axes.set_ylabel(\"\")\n",
    "axes.set_xlim([-65, 65])\n",
    "plt.show()"
   ]
  },
  {
   "cell_type": "markdown",
   "metadata": {
    "deletable": false,
    "editable": false,
    "nbgrader": {
     "checksum": "f0a302c994aff3aaca4522431c31cd2b",
     "grade": false,
     "grade_id": "cell-93396552502746268",
     "locked": true,
     "schema_version": 1,
     "solution": false
    }
   },
   "source": [
    "**(c)** [2] How many more numbers can we store in $N$ base-pairs versus $N$ bits where the mantissa and exponent are the same relative length?"
   ]
  },
  {
   "cell_type": "markdown",
   "metadata": {
    "deletable": false,
    "nbgrader": {
     "checksum": "5b94a1a0f996823ac44fe5906586600d",
     "grade": true,
     "grade_id": "cell-6de5d8dbf91c5ff7",
     "locked": false,
     "points": 2,
     "schema_version": 1,
     "solution": true
    }
   },
   "source": [
    "Solution: For N base-pairs,\n",
    "$$\n",
    "\\begin{align}\n",
    "    f = \\pm d_1\\cdot d_2d_3 \\times N^E \\quad \\text{with} \\quad E \\in [-2, 2]\n",
    "\\end{align}\n",
    "$$  \n",
    "Then we can store:\n",
    "$$\n",
    "\\begin{align}\n",
    "    2 \\times (N-1) \\times N \\times N \\times 5 +1 = 10N^2(N-1)+1\n",
    "\\end{align}\n",
    "$$\n",
    "\n",
    "For N bits, it takes 3 bits to cover 5 kinds of numbers in E$\\in${-2,2}.\n",
    "\n",
    "So for \n",
    "```\n",
    "  S EEE FFF \\cdots FF \n",
    "  0 1 3 4           N-1\n",
    "```\n",
    "Then we have \n",
    "$$\n",
    "\\begin{align}\n",
    "    2 \\times 1 \\times 2^{N-5} \\times 5 + 1 = 10 \\times 2^{N-5} + 1\n",
    "\\end{align}\n",
    "$$\n",
    "\n",
    "Then the difference will be \n",
    "$$\n",
    "\\begin{align}\n",
    "    d = 10 \\times (N^3 - N^2 - 2^{N-5})\n",
    "\\end{align}\n",
    "$$"
   ]
  },
  {
   "cell_type": "code",
   "execution_count": null,
   "metadata": {},
   "outputs": [],
   "source": []
  }
 ],
 "metadata": {
  "kernelspec": {
   "display_name": "Python 3",
   "language": "python",
   "name": "python3"
  },
  "language_info": {
   "codemirror_mode": {
    "name": "ipython",
    "version": 3
   },
   "file_extension": ".py",
   "mimetype": "text/x-python",
   "name": "python",
   "nbconvert_exporter": "python",
   "pygments_lexer": "ipython3",
   "version": "3.7.0"
  },
  "latex_envs": {
   "bibliofile": "biblio.bib",
   "cite_by": "apalike",
   "current_citInitial": 1,
   "eqLabelWithNumbers": true,
   "eqNumInitial": 0
  }
 },
 "nbformat": 4,
 "nbformat_minor": 2
}
