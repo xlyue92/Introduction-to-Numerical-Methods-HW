{
 "cells": [
  {
   "cell_type": "code",
   "execution_count": 2,
   "metadata": {},
   "outputs": [],
   "source": [
    "%matplotlib inline\n",
    "from __future__ import print_function\n",
    "import numpy\n",
    "import matplotlib.pyplot as plt"
   ]
  },
  {
   "cell_type": "markdown",
   "metadata": {
    "deletable": false,
    "editable": false,
    "nbgrader": {
     "checksum": "e7d4f676e912240d816ed4854077ce55",
     "grade": false,
     "grade_id": "H1",
     "locked": true,
     "schema_version": 1,
     "solution": false
    }
   },
   "source": [
    "Before you turn this problem in, make sure everything runs as expected. First, restart the kernel (in the menubar, select Kernel $\\rightarrow$ Restart) and then run all cells (in the menubar, select Cell $\\rightarrow$ Run All).\n",
    "\n",
    "Make sure you fill in any place that says YOUR CODE HERE or \"YOUR ANSWER HERE\", as well as your name and collaborators below:"
   ]
  },
  {
   "cell_type": "markdown",
   "metadata": {
    "deletable": false,
    "editable": false,
    "nbgrader": {
     "checksum": "7f611cc4d777b437b330bd00226cf5cc",
     "grade": false,
     "grade_id": "H2",
     "locked": true,
     "schema_version": 1,
     "solution": false
    }
   },
   "source": [
    "# Midterm - Fall Semester 2018\n",
    "\n",
    "Guidelines:\n",
    "1. Use resources available to you from class and online.\n",
    "1. That being said this is an individual effort, do not work with others and cite what you do use.\n",
    "1. Copying is prohibited, write your own code and solutions.\n",
    "1. Do not use campuswire for the duration of the exam!  \n",
    "1. If you have a question please email the instructor and the TAs for maximal response possibilities.  We will answer questions that pertain only to clarification.\n",
    "1. Late turn in of the midterm will result in a 10% reduction every HOUR that it is late.  If you feel that there is a special circumstance that warrants consideration tells us BEFORE the Tuesday (and more so before the exam starts).\n",
    "\n",
    "Good luck!"
   ]
  },
  {
   "cell_type": "markdown",
   "metadata": {
    "deletable": false,
    "editable": false,
    "nbgrader": {
     "checksum": "f7deda953938462f84354365e4663e34",
     "grade": false,
     "grade_id": "cell-7bafbad016915",
     "locked": true,
     "schema_version": 1,
     "solution": false
    }
   },
   "source": [
    "## Question 1\n",
    "\n",
    "Consider the three following three points:\n",
    "$$\n",
    "    x_i, x_i + \\frac{\\Delta x}{3}, ~\\text{and}~ x_i + \\frac{\\Delta x}{2}.\n",
    "$$"
   ]
  },
  {
   "cell_type": "markdown",
   "metadata": {
    "deletable": false,
    "editable": false,
    "nbgrader": {
     "checksum": "d06da59f66a9422b1c49813bff89e717",
     "grade": false,
     "grade_id": "cell-7bafbadf55016915",
     "locked": true,
     "schema_version": 1,
     "solution": false
    }
   },
   "source": [
    "**(a)** [10] Derive a finite difference approximation to the first derivative of maximal order with these points.  Also determine the leading error term."
   ]
  },
  {
   "cell_type": "markdown",
   "metadata": {
    "deletable": false,
    "nbgrader": {
     "checksum": "e8cdc7a6fb9aeaabf163d7952bc30749",
     "grade": true,
     "grade_id": "cell-7bafbad55016915",
     "locked": false,
     "points": 10,
     "schema_version": 1,
     "solution": true
    }
   },
   "source": [
    "Solution: We need Taylor series for the finite difference scheme. \n",
    "\n",
    "Let $x_j = x_i + \\frac{\\Delta x}{3}$ and $x_k = x_i + \\frac{\\Delta x}{2}$,\n",
    "\n",
    "Then,\n",
    "\n",
    "$$f(x_j) = f(x_i + \\frac{\\Delta x}{3}) = f(x_i) + f'(x_i)\\frac{\\Delta x}{3} + \\frac{f''(x_i)}{2} \\frac{\\Delta x^2}{9} + \\frac{f'''(x_i)}{6} \\frac{\\Delta x^3}{27} + O(x^4)\n",
    "$$\n",
    "\n",
    "$$f(x_k) = f(x_i + \\frac{\\Delta x}{2}) = f(x_i) + f'(x_i)\\frac{\\Delta x}{2} + \\frac{f''(x_i)}{2} \\frac{\\Delta x^2}{4} + \\frac{f'''(x_i)}{6} \\frac{\\Delta x^3}{8} + O(x^4)\n",
    "$$\n",
    "\n",
    "Plugging these in and comparing like terms for weighting functions, we then get a set of equations:\n",
    "\n",
    "$$ w_i + w_j + w_k = 0 \\\\\n",
    "\\frac{\\Delta x}{3} w_j + \\frac{\\Delta x}{2} w_k = 1 \\\\\n",
    "\\frac{\\Delta x}{18} w_j + \\frac{\\Delta x}{8} w_k = 0\n",
    "$$\n",
    "\n",
    "Then leads to \n",
    "$$w_i = -\\frac{5}{\\Delta x}, ~~~ w_j = \\frac{9}{\\Delta x}, ~~~ w_k = -\\frac{4}{\\Delta x}\n",
    "$$\n",
    "\n",
    "Putting this all together we have the finite difference scheme:\n",
    "$$ f'(x) \\approx -\\frac{5}{\\Delta x} f(x_i) + \\frac{9}{\\Delta x} f(x_i + \\frac{\\Delta x}{3}) -\\frac{4}{\\Delta x} f(x_i + \\frac{\\Delta x}{2})\n",
    "$$\n",
    "\n",
    "Then the leading error is \n",
    "$$\\begin{aligned} \n",
    "R &= \\frac{f'''(x_i)}{6} \\frac{\\Delta x^3}{27} \\frac{9}{\\Delta x} + \\frac{f'''(x_i)}{6} \\frac{\\Delta x^3}{8} \\frac{-4}{\\Delta x} \\\\\n",
    "&= -\\frac{f'''(x_i)}{36} \\Delta x^2 \\\\\n",
    "&= O(\\Delta x^2)\n",
    "\\end{aligned}$$"
   ]
  },
  {
   "cell_type": "markdown",
   "metadata": {
    "deletable": false,
    "editable": false,
    "nbgrader": {
     "checksum": "fc18497d51844b4db1ed78471a61a327",
     "grade": false,
     "grade_id": "cell-77be4333349ff086",
     "locked": true,
     "schema_version": 1,
     "solution": false
    }
   },
   "source": [
    "**(b)** [10] Derive a quadrature rule using the same points again defining the weights such that the resulting rule is of maximal order."
   ]
  },
  {
   "cell_type": "markdown",
   "metadata": {
    "deletable": false,
    "nbgrader": {
     "checksum": "669a61091ddc08d5659ae7fd22c497cd",
     "grade": true,
     "grade_id": "cell-f77422b8813b2315",
     "locked": false,
     "points": 10,
     "schema_version": 1,
     "solution": true
    }
   },
   "source": [
    "Solution: Given the above three points $x_i$, $x_j$, $x_k$, we may consider Gauss-Legendre rule.\n",
    "\n",
    "For\n",
    "$$\n",
    "    I = \\int^b_a f(x) dx \\approx I_N = \\int^1_{-1} f(x(\\xi)) \\frac{dx}{d\\xi} d\\xi = \\frac{\\Delta x}{4} \\int^1_{-1} f(x(\\xi)) d\\xi\n",
    "$$\n",
    "$$\\begin{aligned}\n",
    "I_N[f] &= \\sum_i w_i f(x(\\xi_i)) \\left . \\frac{dx}{d\\xi}\\right|_{\\xi_i}\n",
    "\\end{aligned}$$\n",
    "\n",
    "In [$x_i$,  $x_i+\\frac{\\Delta x}{2}$],\n",
    "$$\\xi_0 = -\\sqrt{\\frac{3}{5}}, \\xi_1 = 0, \\xi_2 = \\sqrt{\\frac{3}{5}}\n",
    "$$\n",
    "with the weights \n",
    "$$w_0 = \\frac{5}{9}, w_1 = \\frac{8}{9}, w_2 = \\frac{5}{9}$$\n",
    "Then by affine transform,\n",
    "\n",
    "$$x_0 = -\\sqrt{\\frac{3}{5}} \\frac{\\Delta x}{4} + x_i + \\frac{\\Delta x}{4} ~~~~ x_1 = x_i + \\frac{\\Delta x}{4} ~~~~ x_2 = \\sqrt{\\frac{3}{5}} \\frac{\\Delta x}{4} + x_i + \\frac{\\Delta x}{4}\n",
    "$$\n",
    "i.e.\n",
    "$$\\begin{aligned}\n",
    "    f(x_0)&:  &x_0 & & w_0 = \\frac{5}{9} \\\\\n",
    "    f(x_1)&:  &x_1&   &w_1 = \\frac{8}{9}\\\\\n",
    "    f(x_2)&:  &x_2&  & w_2 = \\frac{5}{9}\\\\\n",
    "\\end{aligned}$$\n",
    "\n",
    "Therefore, \n",
    "$$I = \\int^{x_i + \\frac{\\Delta x}{2}}_{x_i} f(x) dx \\approx I_3 = \\frac{\\Delta x}{4}\\left(\\frac{5}{9}f(-\\sqrt{\\frac{3}{5}} \\frac{\\Delta x}{4} + x_i + \\frac{\\Delta x}{4}) + \\frac{8}{9}f(x_i + \\frac{\\Delta x}{4}) + \\frac{5}{9} f(\\sqrt{\\frac{3}{5}} \\frac{\\Delta x}{4} + x_i + \\frac{\\Delta x}{4})\\right)\n",
    "$$"
   ]
  },
  {
   "cell_type": "markdown",
   "metadata": {
    "deletable": false,
    "editable": false,
    "nbgrader": {
     "checksum": "c3bfdbb2f16aecee6020fb3c449e55cf",
     "grade": false,
     "grade_id": "cell-634de354cdcd8105",
     "locked": true,
     "schema_version": 1,
     "solution": false
    }
   },
   "source": [
    "**(c)** [5] Confirm the order of convergence for both methods you derived by plotting the results vs. an expected convergence rate.  Make sure to define your \"sense\" of error and pick an appropriate test function to demonstrate the convergence."
   ]
  },
  {
   "cell_type": "code",
   "execution_count": 36,
   "metadata": {},
   "outputs": [
    {
     "data": {
      "image/png": "[encoded data removed]",
      "text/plain": [
       "<Figure size 864x288 with 1 Axes>"
      ]
     },
     "metadata": {
      "needs_background": "light"
     },
     "output_type": "display_data"
    }
   ],
   "source": [
    "# define the error as absolute error for test\n",
    "f = lambda x: numpy.cos(numpy.pi * x)\n",
    "f_prime = lambda x: -numpy.pi * numpy.sin(numpy.pi * x)\n",
    "delta_x = numpy.logspace(-1, -8, 20)\n",
    "x_i = 10.5\n",
    "abs_error = numpy.empty(delta_x.shape[0])\n",
    "\n",
    "for (i, dx) in enumerate (delta_x):\n",
    "    f_prime_new = -5.0 / (1.0 * dx) * f(x_i) + 9.0 / (1.0 * dx) * f(x_i + 1.0/3.0 * dx) - 4.0 / (1.0 * dx) * f(x_i + 0.5 * dx)\n",
    "    \n",
    "    abs_error[i] = numpy.abs(f_prime_new - f_prime(x_i))\n",
    "\n",
    "order_C = lambda delta_x, error, order: numpy.exp(numpy.log(error) - order * numpy.log(delta_x))\n",
    "\n",
    "fig = plt.figure()\n",
    "fig.set_figwidth(fig.get_figwidth() * 2)\n",
    "\n",
    "axes = fig.add_subplot(1,2,1)\n",
    "axes.loglog(delta_x, abs_error, 'bo')\n",
    "# convergence follow O(x^2)\n",
    "axes.loglog(delta_x, order_C(delta_x[0], abs_error[0], 2.0) * delta_x **2.0, 'r-.', label = \"2nd order\")\n",
    "axes.set_title(\"absolute error behavior\")\n",
    "axes.set_xlabel(\"$\\Delta x$\")\n",
    "axes.set_ylabel(\"$|\\hat{f}' (x_i) - f'(x_i) |$\")\n",
    "\n",
    "\n",
    "plt.show()"
   ]
  },
  {
   "cell_type": "code",
   "execution_count": 37,
   "metadata": {
    "deletable": false,
    "nbgrader": {
     "checksum": "52cb10e4d353e330c44e4e5e11531292",
     "grade": true,
     "grade_id": "cell-5e09a169d6733d54",
     "locked": false,
     "points": 5,
     "schema_version": 1,
     "solution": true
    }
   },
   "outputs": [
    {
     "ename": "SyntaxError",
     "evalue": "invalid syntax (<ipython-input-37-f80bcb081461>, line 14)",
     "output_type": "error",
     "traceback": [
      "\u001b[0;36m  File \u001b[0;32m\"<ipython-input-37-f80bcb081461>\"\u001b[0;36m, line \u001b[0;32m14\u001b[0m\n\u001b[0;31m    abs2_error[i] = numpy.abs(f_int_hat - f_int(x_i))\u001b[0m\n\u001b[0m             ^\u001b[0m\n\u001b[0;31mSyntaxError\u001b[0m\u001b[0;31m:\u001b[0m invalid syntax\n"
     ]
    }
   ],
   "source": [
    "# define the error as absolute error for test\n",
    "f = lambda x: numpy.cos(numpy.pi * x)\n",
    "f_prime = lambda x: - numpy.pi * numpy.sin(numpy.pi * x)\n",
    "f_int = lambda x: numpy.sin(numpy.pi * x) / numpy.pi\n",
    "dx = numpy.logspace(-2, -8, 20)\n",
    "x_i = 0.0\n",
    "abs1_error = numpy.zeros(10)\n",
    "abs2_error = numpy.zeros(10)\n",
    "\n",
    "for i in range(dx.shape[0]):\n",
    "    f_prime_new = -5.0 / (1.0 * dx) * f(x_i) + 9.0 / (1.0 * dx[i]) * f(x_i + 1.0/3.0 * dx[i]) - 4.0 / (1.0 * dx[i]) * f(x_i + 0.5 * dx[i])\n",
    "    f_int_hat = (1.0 * dx[i]) / 4.0 * ( 5.0/9.0 * f(- (3.0 / 5.0)**0.5 * dx[i]/4.0 + x_i + dx[i] / 4.0) + 8.0 / 9.0 * f(x_i + 1.0/4.0 * dx[i]) + 5.0/ 9.0 * f((3.0 / 5.0)**0.5 * dx[i]/4.0 + x_i + 0.25 * dx[i])\n",
    "    #error_p[i] = numpy.abs(f_prime_new - f_prime(x_i))\n",
    "    abs2_error[i] = numpy.abs(f_int_hat - f_int(x_i))\n",
    "    abs1_error[i] = numpy.abs(f_prime_new - f_prime(x_i))\n",
    "                             \n",
    "order_C = lambda dx, error, order: numpy.exp(numpy.log(error) - order * numpy.log(dx))\n",
    "\n",
    "fig = plt.figure()\n",
    "fig.set_figwidth(fig.get_figwidth() * 2)\n",
    "\n",
    "axes = fig.add_subplot(1,2,1)\n",
    "axes.loglog(dx, abs1_error, 'bo')\n",
    "axes.loglog(dx, abs2_error, 'bo')\n",
    "# convergence follow O(x^2)\n",
    "axes.loglog(dx, order_C(dx[0], abs1_error[0], 2.0) * delta_x **2.0, 'r-.', label = \"2nd order\")\n",
    "axes.loglog(dx, order_C(dx[0], abs2_error[0], 1.0) * delta_x **1.0, 'b-.', label = \"1st order\")\n",
    "\n",
    "axes.set_title(\"absolute error behavior of both methods\")\n",
    "axes.set_xlabel(\"$\\Delta x$\")\n",
    "axes.set_ylabel(\"$|\\hat{f}' (x_i) - f'(x_i) |$\")\n",
    "axes.set_\n",
    "\n",
    "plt.show()\n",
    "# no idea of my error\n"
   ]
  },
  {
   "cell_type": "markdown",
   "metadata": {
    "deletable": false,
    "editable": false,
    "nbgrader": {
     "checksum": "8544841089d8a43677e17d498fb2ffda",
     "grade": false,
     "grade_id": "cell-746c415c8a6336f5",
     "locked": true,
     "schema_version": 1,
     "solution": false
    }
   },
   "source": [
    "## Question 2\n",
    "\n",
    "Bernoulli's equation for fluid flow in an open channel with a small bump is\n",
    "$$\n",
    "    \\frac{F^2}{2 g w^2 h_0^2} + h_0 = \\frac{F^2}{2 g w^2 h^2} + h + H\n",
    "$$\n",
    "where $F$ is the volume of rate flow ($m^3/s$), $g$ is gravitational acceleration ($m/s^2$), $w$ the width of the channel ($m$), $h_0$ the upstream water level ($m$), $H$ the height of the bump ($m$), and $h$ is the water level above the bump ($m$).  "
   ]
  },
  {
   "cell_type": "markdown",
   "metadata": {
    "deletable": false,
    "editable": false,
    "nbgrader": {
     "checksum": "926430d45bb364feff7443a10e97529b",
     "grade": false,
     "grade_id": "cell-b9768fe3d22ba527",
     "locked": true,
     "schema_version": 1,
     "solution": false
    }
   },
   "source": [
    "**(a)** [6] We are trying to find the value $h$ given the values $F, g, w, h_0, ~\\text{and}~ H$ using a root finding procedure.  Reformulate Bernoulli's equation so that the problem has the form required to treat it as a root finding problem.  We will also eventually want to apply Newton's method so also find the derivative that we will need to use.  For this case use the following values as constants:\n",
    "$$\n",
    "    F=1.2, g=9.81, w=2.5, h_0=2.3, H=1.0\n",
    "$$"
   ]
  },
  {
   "cell_type": "markdown",
   "metadata": {
    "deletable": false,
    "nbgrader": {
     "checksum": "9935ae00d009e292b9327e99eb5e0820",
     "grade": true,
     "grade_id": "cell-1cc4d51cc51e944d",
     "locked": false,
     "points": 6,
     "schema_version": 1,
     "solution": true
    }
   },
   "source": [
    "Solution: Our goal is to give an equation in solving for the root $h$.\n",
    "Using $h$ as a variable, then transform the Bernoulli's equation into: \n",
    "$$\n",
    " \\frac{F^2}{2gw^2} \\times (\\frac{1}{h_0^2} - \\frac{1}{h^2}) = h + H - h_0\n",
    "$$\n",
    "\n",
    "To get the form in root finding function $f(h)$ and let $f(h) = 0$:\n",
    "$$\n",
    " f(h) = \\frac{F^2}{2gw^2} \\cdot (\\frac{1}{h_0^2} - \\frac{1}{h^2}) + h_0 -h - H = 0\n",
    "$$\n",
    "is the form needed for root finding.\n",
    "\n",
    "Besides, the derivative of function f is: \n",
    "$$ f'(h) = \\frac{F^2}{gw^2h^3} - 1\n",
    "$$"
   ]
  },
  {
   "cell_type": "markdown",
   "metadata": {
    "deletable": false,
    "editable": false,
    "nbgrader": {
     "checksum": "8ba8643f539430320ad93ab714be4d89",
     "grade": false,
     "grade_id": "cell-7f26710589c0ba1a",
     "locked": true,
     "schema_version": 1,
     "solution": false
    }
   },
   "source": [
    "**(b)** [7] Write a set of functions that use the bisection method and Newton's method to find the roots of the functions you formulated in part (a).  Make sure to handle the case where the method does not converge."
   ]
  },
  {
   "cell_type": "code",
   "execution_count": 7,
   "metadata": {
    "deletable": false,
    "nbgrader": {
     "checksum": "468b29b7478dffd19df9b1460ef47c7c",
     "grade": false,
     "grade_id": "cell-0dd5b26848727e56",
     "locked": false,
     "schema_version": 1,
     "solution": true
    }
   },
   "outputs": [],
   "source": [
    "def f(h):\n",
    "    F = 1.2\n",
    "    g = 9.81\n",
    "    w = 2.5\n",
    "    h_0 = 2.3\n",
    "    H = 1.0\n",
    "    return F**2 / (2.0 * g * w**2) * (1.0 / (h_0**2) - 1.0/ h**2 ) + h_0 - h - H\n",
    "\n",
    "def f_prime(h):\n",
    "    F = 1.2\n",
    "    g = 9.81\n",
    "    w = 1.8\n",
    "    h_0 = 0.6\n",
    "    H = 0.075\n",
    "    return F**2 / (g * w**2 * h**3) - 1.0\n",
    "\n",
    "# bisection\n",
    "def bisection(bracket, tolerance=1e-6, max_steps=100):\n",
    "    x_a = bracket[0]\n",
    "    x_b = bracket[1]\n",
    "    dx = x_b - x_a\n",
    "    x_c = x_a + dx / 2.0\n",
    "    f_a = f(x_a)\n",
    "    f_b = f(x_b)\n",
    "    f_c = f(x_c)\n",
    "    \n",
    "    success = False\n",
    "    for n in range(1, max_steps+1):\n",
    "        if numpy.abs(f_c) < tolerance:\n",
    "            success = True\n",
    "            break\n",
    "        \n",
    "        if numpy.sign(f_a) != numpy.sign(f_c):\n",
    "            x_b = x_c\n",
    "            f_b = f_c\n",
    "        else: \n",
    "            x_a = x_c\n",
    "            f_a = f_c\n",
    "        dx = x_b - x_a\n",
    "        x_c  = x_a + dx / 2.0\n",
    "        f_c = f(x_c)\n",
    "        \n",
    "    if n == max_steps:\n",
    "        raise ArithmeticError()\n",
    "    \n",
    "    else:\n",
    "        return x_c, n\n",
    "    \n",
    "#newton\n",
    "def newton(h_0, tolerance=1e-6, max_steps=100):\n",
    "    x_k = h_0\n",
    "    success = False\n",
    "    for n in range(1, max_steps+1):\n",
    "        x_k = x_k - f(x_k) / f_prime(x_k)\n",
    "        if numpy.abs(f(x_k)) < tolerance:\n",
    "            success = True\n",
    "            break\n",
    "            \n",
    "    if n == max_steps:\n",
    "        raise ArithmeticError()\n",
    "    else:\n",
    "        return x_k, n"
   ]
  },
  {
   "cell_type": "code",
   "execution_count": 8,
   "metadata": {
    "deletable": false,
    "editable": false,
    "nbgrader": {
     "checksum": "9957545987ef9e66bdb312d38dca3cd4",
     "grade": true,
     "grade_id": "cell-a5ca3e76fee1fb4d",
     "locked": true,
     "points": 7,
     "schema_version": 1,
     "solution": false
    }
   },
   "outputs": [
    {
     "name": "stdout",
     "output_type": "stream",
     "text": [
      "Success!\n"
     ]
    }
   ],
   "source": [
    "brackets = [[0.05, 1.0], [1.0, 2.0]]\n",
    "true_value = [0.09878249410539865, 1.295219898223877]\n",
    "for (i, bracket) in enumerate(brackets):\n",
    "    numpy.testing.assert_allclose(bisection(bracket, tolerance=1e-8)[0], true_value[i], atol=1e-8)\n",
    "    numpy.testing.assert_allclose(newton(bracket[0], tolerance=1e-8)[0], true_value[i], atol=1e-3)\n",
    "try:\n",
    "    bisection([2.0, 3.0])\n",
    "    newton(10.0)\n",
    "except ArithmeticError as e:\n",
    "    pass\n",
    "else:\n",
    "    assert(False)\n",
    "print(\"Success!\")"
   ]
  },
  {
   "cell_type": "markdown",
   "metadata": {
    "deletable": false,
    "editable": false,
    "nbgrader": {
     "checksum": "1be6ce1757924e5b7530d273064a64f7",
     "grade": false,
     "grade_id": "cell-f0618d3ea4802c75",
     "locked": true,
     "schema_version": 1,
     "solution": false
    }
   },
   "source": [
    "**(c)** [6] Plot your results for both of the brackets defined in the testing cell above providing some visual proof that you have found the correct value of the root."
   ]
  },
  {
   "cell_type": "code",
   "execution_count": 19,
   "metadata": {
    "deletable": false,
    "nbgrader": {
     "checksum": "35f31deb5deb32d4fe21169e76e6d1c0",
     "grade": true,
     "grade_id": "cell-eb1909b04ef48b2e",
     "locked": false,
     "points": 6,
     "schema_version": 1,
     "solution": true
    }
   },
   "outputs": [
    {
     "data": {
      "image/png": "[encoded data removed]",
      "text/plain": [
       "<Figure size 864x288 with 1 Axes>"
      ]
     },
     "metadata": {
      "needs_background": "light"
     },
     "output_type": "display_data"
    },
    {
     "data": {
      "image/png": "[encoded data removed]",
      "text/plain": [
       "<Figure size 864x288 with 1 Axes>"
      ]
     },
     "metadata": {
      "needs_background": "light"
     },
     "output_type": "display_data"
    }
   ],
   "source": [
    "#first interval and guess\n",
    "xa, t1 = bisection([0.05, 1.0], tolerance=1e-8)\n",
    "xb, t2 = newton(0.05, tolerance=1e-8)\n",
    "\n",
    "h = numpy.linspace(0.05, 1.0, 100)\n",
    "\n",
    "fig = plt.figure()\n",
    "fig.set_figwidth(fig.get_figwidth() * 2)\n",
    "\n",
    "axes = fig.add_subplot(1,2,1)\n",
    "axes.plot(h, f(h), 'r.')\n",
    "axes.plot(h, numpy.zeros(h.shape), 'k-.')\n",
    "axes.plot(xa, f(xa), \"o\", color=\"b\", markerfacecolor=\"lightgray\", markersize=\"12\", label=\"common root\")\n",
    "axes.plot(xb, f(xb), 'gx')\n",
    "axes.set_title(\"both methods\")\n",
    "axes.set_xlabel(\"initial interval with h\")\n",
    "axes.set_ylabel(\"f(h)\")\n",
    "axes.legend(loc=4)\n",
    "\n",
    "#second interval and guess\n",
    "xc, t3 = bisection([1.0, 2.0], tolerance=1e-8)\n",
    "xd, t4 = newton(1.0, tolerance=1e-8)\n",
    "\n",
    "h_new = numpy.linspace(1.0, 2.0, 100)\n",
    "\n",
    "fig = plt.figure()\n",
    "fig.set_figwidth(fig.get_figwidth() * 2)\n",
    "\n",
    "axes = fig.add_subplot(1,2,2)\n",
    "axes.plot(h_new, f(h_new), 'r.')\n",
    "axes.plot(h_new, numpy.zeros(h.shape), 'k-.')\n",
    "axes.plot(xc, f(xc), 'bx')\n",
    "axes.plot(xd, f(xd), 'gx', label = \"common root\")\n",
    "axes.set_title(\"both methods\")\n",
    "axes.set_xlabel(\"initial interval with h\")\n",
    "axes.set_ylabel(\"f(h)\")\n",
    "axes.legend(loc=1)\n",
    "\n",
    "plt.show()"
   ]
  },
  {
   "cell_type": "markdown",
   "metadata": {
    "deletable": false,
    "editable": false,
    "nbgrader": {
     "checksum": "ccf733424d30280c913bf8987f5cdcc9",
     "grade": false,
     "grade_id": "cell-4ffd2a03997e251e",
     "locked": true,
     "schema_version": 1,
     "solution": false
    }
   },
   "source": [
    "**(d)** [6] Now compare the convergence of the methods you wrote.  Plot the tolerance vs. the number of steps used to reach the tolerance for both the bisection method and Newton's method you implemented.  Comment on the results.  Make sure to label the axis, use a title, and provide a legend."
   ]
  },
  {
   "cell_type": "code",
   "execution_count": 5,
   "metadata": {
    "deletable": false,
    "nbgrader": {
     "checksum": "66d23cf26a8798cb4d07e52a312780f2",
     "grade": true,
     "grade_id": "cell-ebd76c25ab842f61",
     "locked": false,
     "points": 3,
     "schema_version": 1,
     "solution": true
    }
   },
   "outputs": [
    {
     "data": {
      "image/png": "[encoded data removed]",
      "text/plain": [
       "<Figure size 432x288 with 1 Axes>"
      ]
     },
     "metadata": {
      "needs_background": "light"
     },
     "output_type": "display_data"
    },
    {
     "data": {
      "image/png": "[encoded data removed]",
      "text/plain": [
       "<Figure size 432x288 with 1 Axes>"
      ]
     },
     "metadata": {
      "needs_background": "light"
     },
     "output_type": "display_data"
    }
   ],
   "source": [
    "tolerance = numpy.linspace(1e-8, 1e-5, 100)\n",
    "t1 = numpy.zeros(100)\n",
    "t2 = numpy.zeros(100)\n",
    "\n",
    "for i in range(tolerance.shape[0]):\n",
    "    xa, t1[i] = bisection([0.05, 1.0], tolerance[i])\n",
    "    xb, t2[i] = newton(0.05, tolerance[i])\n",
    "    \n",
    "fig = plt.figure()\n",
    "axes = fig.add_subplot(1,1,1)\n",
    "axes.plot(tolerance, t1, 'g.-', label = \"bisec\")\n",
    "axes.plot(tolerance, t2, 'b--', label = \"newt\")\n",
    "\n",
    "axes.set_title(\"bisection vs newton\")\n",
    "axes.set_xlabel(\"tolerance\")\n",
    "axes.set_ylabel(\"number of steps\")\n",
    "\n",
    "axes.legend(loc = 1)\n",
    "plt.show()\n",
    "\n",
    "tolerance1 = numpy.linspace(1e-8, 1e-5, 100)\n",
    "t3 = numpy.zeros(100)\n",
    "t4 = numpy.zeros(100)\n",
    "\n",
    "for i in range(tolerance.shape[0]):\n",
    "    xc, t3[i] = bisection([1.0, 2.0], tolerance[i])\n",
    "    xd, t4[i] = newton(1.0, tolerance[i])\n",
    "    \n",
    "fig = plt.figure()\n",
    "axes = fig.add_subplot(1,1,1)\n",
    "axes.plot(tolerance, t3, 'g.-', label = \"bisec\")\n",
    "axes.plot(tolerance, t4, 'b--', label = \"newt\")\n",
    "\n",
    "axes.set_title(\"bisection vs newton\")\n",
    "axes.set_xlabel(\"tolerance\")\n",
    "axes.set_ylabel(\"number of steps\")\n",
    "\n",
    "axes.legend(loc = 1)\n",
    "plt.show()"
   ]
  },
  {
   "cell_type": "markdown",
   "metadata": {
    "deletable": false,
    "nbgrader": {
     "checksum": "fd4d5736ed9e55fcdd423954bbc14be6",
     "grade": true,
     "grade_id": "cell-b3420447ef7cd979",
     "locked": false,
     "points": 3,
     "schema_version": 1,
     "solution": true
    }
   },
   "source": [
    "Solution: it is clear from the above two pics of the comparison showing the differences between using two methods. \n",
    "\n",
    "In both intervals and corresponding intitial guess point, as tolerance becomes smaller the number of steps need for bisection method is obviously greater than the steps needed for newton method.  Since the convergence rate for them are substantially different from each other. \n",
    "\n",
    "Newton method is quadratically convergent while bisection method is linearly convergent.\n",
    "\n",
    "In the first pic, the number of steps needed for both methods have some intersection. This might be the result of narrow interval and intial guess selection. But in general, the steps needed for newton method is fewer than those for bisection if we want the tolerance as small as possible."
   ]
  },
  {
   "cell_type": "markdown",
   "metadata": {
    "deletable": false,
    "editable": false,
    "nbgrader": {
     "checksum": "715cd4fa54cabde436a476170799bd34",
     "grade": false,
     "grade_id": "cell-8eb0e6e138eb3266",
     "locked": true,
     "schema_version": 1,
     "solution": false
    }
   },
   "source": [
    "## Question 3\n",
    "Given two functions $f(x)$ and $g(x)$ and their interpolants $\\mathcal{P}_n(x)$ and $\\mathcal{Q}_m(x)$ respectively determine the following analytically given that $n \\geq m$."
   ]
  },
  {
   "cell_type": "markdown",
   "metadata": {
    "deletable": false,
    "editable": false,
    "nbgrader": {
     "checksum": "b942df13efa6da7e50bb01bdde083035",
     "grade": false,
     "grade_id": "Q4-a",
     "locked": true,
     "schema_version": 1,
     "solution": false
    }
   },
   "source": [
    "**(a)** [10] Let $x_i \\in X_f$ be the coordinates that define $\\mathcal{P}_n(x)$ and $x_j \\in X_g$ be the coordinates that define $\\mathcal{Q}_m(x)$.  What conditions on the $X_f$, $X_g$, $n$ and $m$ must we place on these such that $\\mathcal{P}_n(x) + \\mathcal{Q}_m(x)$ is the interpolating polynomial for $f(x) + g(x)$?"
   ]
  },
  {
   "cell_type": "markdown",
   "metadata": {
    "deletable": false,
    "nbgrader": {
     "checksum": "6c56d3605587b6deee162b3bace30d16",
     "grade": true,
     "grade_id": "A4-a",
     "locked": false,
     "points": 10,
     "schema_version": 1,
     "solution": true
    }
   },
   "source": [
    "Solution: Conditions are that coordinates $x_i$ and $x_j$ belong to the intersection, $\\mathcal{T}$, of the set $X_f$ and the set $X_g$ such that the number of coordinates (elements) in $\\mathcal{T}$ is $n+1$, and $n = m$. \n",
    "\n",
    "i.e. \n",
    "$$x_i, x_j \\in \\mathcal{T} = X_f \\cap X_g,~~~~n = m$$\n",
    "with $n+1$ points in $\\mathcal{T}$.\n",
    "\n",
    "Proof: \n",
    "\n",
    "1. Since the degree of $\\mathcal{P}_n(x) + \\mathcal{Q}_m(x)$ is at most the maximum of of the degrees of $\\mathcal{P}_n(x)$ and $\\mathcal{Q}_m(x)$. \n",
    "\n",
    "Then deg($\\mathcal{P}_n(x) + \\mathcal{Q}_m(x)$) $\\leq$ max{m, n} = n. \n",
    "\n",
    "Therefore, by the uniqueness of polynomial interpolation, $\\mathcal{P}_n(x) + \\mathcal{Q}_m(x)$ has $n+1$ distinct coordinates (points) that define itself, a polynomial of degree no greater than n.\n",
    "\n",
    "Note that by the existence of polynomial interpolation, the degree of $\\mathcal{P}_n(x)$ or $\\mathcal{Q}_m(x)$ is no greater than $n$ or $m$, correspondingly.\n",
    "\n",
    "2. If m $\\ne$ n, then there must exist some points $x_i$ in $X_f$ that define $\\mathcal{P}$, such that they are not interpolation points for $\\mathcal{Q}$, which means we can not guarantee that for such $x_i$, $\\mathcal{Q}_m(x_i)$ = $g(x_i)$. \n",
    "\n",
    "i.e. \n",
    "$$ \\mathcal{P}_n(x_i) + \\mathcal{Q}_m(x_i) \\ne f(x_i) + g(x_i)\n",
    "$$\n",
    "\n",
    "or $\\mathcal{Q}_m(x_i)$ is an undefined interpolation for $g(x)$.\n",
    "\n",
    "3. Last, we have to preserve that $x_i, x_j \\in \\mathcal{T} = X_f \\cap X_g$. If some $x_i$ are not selected from $\\mathcal{T}$, then $x_i$ can not be the interpolation point for $\\mathcal{P}_n(x) + \\mathcal{Q}_m(x)$, since we don't whether $\\mathcal{Q}(x_i)$ is for $g$ or not."
   ]
  },
  {
   "cell_type": "markdown",
   "metadata": {
    "deletable": false,
    "editable": false,
    "nbgrader": {
     "checksum": "744ccb3f7d7ee2b0aa21ce899548f1b7",
     "grade": false,
     "grade_id": "Q4-b",
     "locked": true,
     "schema_version": 1,
     "solution": false
    }
   },
   "source": [
    "**(b)** [5] Given the previous constraints on $X_f$, $X_g$, $n$ and $m$, find the order of the interpolating polynomial $\\mathcal{P}_n(x) + \\mathcal{Q}_m(x)$ and an error bound."
   ]
  },
  {
   "cell_type": "markdown",
   "metadata": {
    "deletable": false,
    "nbgrader": {
     "checksum": "fa5aa367a62016e610f75a6c0133f716",
     "grade": true,
     "grade_id": "A4-b",
     "locked": false,
     "points": 5,
     "schema_version": 1,
     "solution": true
    }
   },
   "source": [
    "Solution: The order of the interpolating polynomial $\\mathcal{P}_n(x) + \\mathcal{Q}_m(x)$ is at most the maximum of of the degrees of $\\mathcal{P}_n(x)$ and $\\mathcal{Q}_m(x)$.  \n",
    "\n",
    "i.e. given $n \\geq m$, the order $N$ of $\\mathcal{P}_n(x) + \\mathcal{Q}_m(x)$ is \n",
    "$$N = deg(\\mathcal{P}_n(x) + \\mathcal{Q}_m(x)) \\leq max\\left\\{ m, n \\right\\}= n $$\n",
    "\n",
    "We know from the remainder theorem of interpolating polynomials, that \n",
    "$$\n",
    "    f(x) + g(x) = \\left(\\mathcal{P}_n(x) + \\mathcal{Q}_m(x)\\right) + R_N(x)\n",
    "$$\n",
    "where error $R_N(x)$ is that \n",
    "$$R_N(x) = \\omega(x) \\frac{(f+g)^{(N+1)}(\\xi)}{(N+1)!} \\quad \\text{with} \\quad \\xi \\in [a, b]\n",
    "$$\n",
    "with\n",
    "$$\n",
    "    \\omega(x) = \\prod^{N \\leq n}_{i=0} (x - x_i) = (x-x_0)(x-x_1)\\cdots(x-x_N) .\n",
    "$$\n",
    "[a, b] is the domain of $f(x) + g(x)$. min{$x_i$}$\\leq$ $\\xi$ $\\leq$ max{$x_i$}.\n",
    "\n",
    "Therefore, the error $R_N(x)$ has upper bound \n",
    "$$\\left|R_N(x) \\right| = \\left| \\omega(x) \\frac{(f+g)^{(N+1)}(\\xi)}{(N+1)!} \\right| \\leq \\frac{1}{(N+1)!}M_{N+1} T_{N+1}\n",
    "$$\n",
    "where\n",
    "\n",
    "$$M_{N+1} = \\mathop{max}_{a\\leq x \\leq b} \\left| (f+g)^{(n+1)}(x) \\right|, ~~T_{N+1} = \\omega(x) = \\prod^{N \\leq n}_{i=0} (x - x_i)\n",
    "$$\n",
    "with $x_i \\in X_f$.\n",
    "\n",
    "Then the error bound of $R_N(x)$ of polynomial $\\mathcal{P}_n(x) + \\mathcal{Q}_m(x)$ is\n",
    "$$\\left|R_N(x) \\right| = \\left| \\omega(x) \\frac{(f+g)^{(N+1)}(\\xi)}{(N+1)!} \\right| \\leq \\frac{1}{(N+1)!}M_{N+1} T_{N+1}\n",
    "$$\n"
   ]
  },
  {
   "cell_type": "markdown",
   "metadata": {
    "deletable": false,
    "editable": false,
    "nbgrader": {
     "checksum": "682312558d654ecc1a3da15c3aa61c81",
     "grade": false,
     "grade_id": "Q4-c",
     "locked": true,
     "schema_version": 1,
     "solution": false
    }
   },
   "source": [
    "**(c)** [10] Let $x_i \\in X_f$ be the coordinates that define $\\mathcal{P}_n(x)$ and $x_j \\in X_g$ be the coordinates that define $\\mathcal{Q}_m(x)$.  What condition on the $X_f$, $X_g$, $n$ and $m$ must we place on these such that $\\mathcal{P}_n(x) \\cdot \\mathcal{Q}_m(x)$ is the interpolating polynomial for $f(x) \\cdot g(x)$"
   ]
  },
  {
   "cell_type": "markdown",
   "metadata": {
    "deletable": false,
    "nbgrader": {
     "checksum": "81de6f04e219864b9b5f5aebd94fcaa4",
     "grade": true,
     "grade_id": "A4-c",
     "locked": false,
     "points": 10,
     "schema_version": 1,
     "solution": true
    }
   },
   "source": [
    "Solution: Let $\\mathcal{S}(x) = \\mathcal{P}_n(x) \\cdot \\mathcal{Q}_m(x)$, the degree of $\\mathcal{S}(x)$ is equal to the sum of the degrees of $\\mathcal{P}$ and $\\mathcal{Q}$. \n",
    "\n",
    "Then \n",
    "$$deg(\\mathcal{S}) = deg(\\mathcal{P}_n(x) \\cdot \\mathcal{Q}_m(x)) \\leq n + m $$\n",
    "\n",
    "By the uniqueness of interpolating polynomial, $\\mathcal{S}(x)$ has m+n+1 distinct points that define itself:\n",
    "$$\\mathcal{S}(x) = \\sum^{deg(s) \\leq m+n}_{k=0}\\left(\\sum_{i+j=k}p_i \\cdot q_j\\right) x^k ~~~~ i,j \\geq 0.\n",
    "$$\n",
    "\n",
    "Since $\\mathcal{S}$ requires n+m+1 distinct coordinates to support itself, all $x_i$, $x_j$ have to belong to the set $\\mathcal{T}$.\n",
    "\n",
    "(Condition here)\n",
    "\n",
    "The conditions needed for the case of $\\mathcal{S}$ are that:\n",
    "$$x_i, x_j \\in \\mathcal{T} = X_f \\cap X_g,~~~~n = m$$\n",
    "with $2n+1$ points in $\\mathcal{T}$.\n",
    "\n",
    "$m=n$ and $\\mathcal{T}$ guarantee that $\\mathcal{S}(x) = \\mathcal{P}_n(x) \\cdot \\mathcal{Q}_m(x) = f(x) \\cdot g(x)$, for all points in set $\\mathcal{T}$, is under closed multiplication. That is to say, each has point has defintion of \"interpolation point\" for both $\\mathcal{P}$ and $\\mathcal{Q}$.\n",
    "\n",
    "Basically, we first define $\\mathcal{P}$ of degree no greater than n with n+1 points, and let the rest n points still be interpolation point of $\\mathcal{P}$ for $f$. \n",
    "\n",
    "2n+1 points guarantee the uniqueness of $\\mathcal{S}(x)$."
   ]
  },
  {
   "cell_type": "markdown",
   "metadata": {
    "deletable": false,
    "editable": false,
    "nbgrader": {
     "checksum": "6f7cf399dbf4c3c2515925ffa56af02c",
     "grade": false,
     "grade_id": "cell-5fe15c79028b0fe5",
     "locked": true,
     "schema_version": 1,
     "solution": false
    }
   },
   "source": [
    "## Question 4\n",
    "\n",
    "[25] You are an instructor tasked with explaining how floating point error can enter into numerical approximations in a given field (choose your favorite).  Outline a short lecture (~10 minutes) making sure to relate it to your field of choice and find two illustrative examples.  Here we are looking for specific examples from your own field and how you might relate the issues faced to your interests.  Whichever field you do address make sure to define the problems of interest.  You are of course free to use the lecture notes as jumping off-point but make sure to relate to your topic of interest.  Given the open ended nature of this problem feel free to ask the TAs or instructor questions about appropriate scope and anything else that comes up."
   ]
  },
  {
   "cell_type": "markdown",
   "metadata": {
    "deletable": false,
    "nbgrader": {
     "checksum": "b9ed7e4ddbb2acf07af1c7a45ada8c3c",
     "grade": true,
     "grade_id": "cell-dc8834a8d72b2640",
     "locked": false,
     "points": 25,
     "schema_version": 1,
     "solution": true
    }
   },
   "source": [
    "Lecture: Floating point error operations in \"lmiits problems\" in applied math\n",
    "\n",
    "We are often faced with problems related to limit condition. Sometimes these problems cannot be solved analytically probably because the properties of certain functions. Let's see some of them which may introduce \"blow up\" condition.\n",
    "\n",
    "#1 \n",
    "Consider the function\n",
    "$$\n",
    "    f(x) = \\frac{\\sin 2x}{x^2}\n",
    "$$\n",
    "with $x\\in[-10^{-1}, 10^{-1}]$.  \n",
    "\n",
    "Our goal is using floating point operations to check the solution given by L'Hospital's rule. \n",
    "\n",
    "So as x approaches zero, $x \\rightarrow 0$ we can see that:\n",
    "$$\n",
    "    \\lim_{x \\rightarrow 0} \\frac{\\sin 2x}{x^2} = \\lim_{x \\rightarrow 0} \\frac{2 \\sin x \\cos x}{2 x} = \\lim_{x \\rightarrow 0} \\frac{\\cos x}{1} = \\cos 0 = 1.\n",
    "$$\n",
    "\n",
    "Then let the error between floating point operation and the exact solution to the limit be $e$:\n",
    "$$ e = 1 - \\frac{\\sin 2x}{x^2}\n",
    "$$\n",
    "with $x\\in[-10^{-1}, 10^{-1}]$.  \n",
    "\n",
    "We expect that for sure $e = 0$ when x approaches zero.\n",
    "\n",
    "But we can see from the below that the error blows up to a huge number beyond expectation. \n",
    "\n",
    "And if we constrain the domain to a much smaller interval, say $x\\in[-10^{-3}, 10^{-3}]$, we can hardly find any discrete value points of the above function when we use floating point operation.\n",
    "\n",
    "\n",
    "Basically, floating point operation gives discrete value when distributed with continuous domain of the variable. Therefore, we have to trust calculation by classical mathematical theory when dealing with the problem related to limits. "
   ]
  },
  {
   "cell_type": "code",
   "execution_count": 14,
   "metadata": {
    "deletable": false,
    "nbgrader": {
     "checksum": "dbdb5009292fd9670256dd7eb9886fc1",
     "grade": true,
     "grade_id": "cell-138c7f2a5678d47e",
     "locked": false,
     "points": 0,
     "schema_version": 1,
     "solution": true
    },
    "scrolled": true
   },
   "outputs": [
    {
     "data": {
      "text/plain": [
       "Text(0,0.5,'Relative Error')"
      ]
     },
     "execution_count": 14,
     "metadata": {},
     "output_type": "execute_result"
    },
    {
     "data": {
      "image/png": "[encoded data removed]",
      "text/plain": [
       "<Figure size 432x288 with 1 Axes>"
      ]
     },
     "metadata": {
      "needs_background": "light"
     },
     "output_type": "display_data"
    }
   ],
   "source": [
    "x = numpy.linspace(-1e-1, 1e-1, 100, dtype=numpy.float32)\n",
    "error = (1.0 - (numpy.sin(2.0 * x)) / x**2)\n",
    "\n",
    "fig = plt.figure()\n",
    "axes = fig.add_subplot(1, 1, 1)\n",
    "axes.plot(x, error, 'go')\n",
    "#axes.set_ylim((-100.0, 100.0))\n",
    "axes.set_xlabel(\"x\")\n",
    "axes.set_ylabel(\"Relative Error\")"
   ]
  },
  {
   "cell_type": "markdown",
   "metadata": {
    "nbgrader": {
     "checksum": "b9ed7e4ddbb2acf07af1c7a45ada8c3c",
     "grade": true,
     "grade_id": "cell-dc8834a8d72b2640",
     "locked": false,
     "points": 25,
     "schema_version": 1,
     "solution": true
    }
   },
   "source": [
    "Apart from that, we can see clearly that if we choose equaliy spaced points or coordinates on x-axis,  the curve fitting will become different when choosing increasing number of points. \n",
    "\n",
    "#2 \n",
    "More precisely, we can see that the y-axis values are close to different bounds when distributed or solved by distored coefficients. And this makes the curve they fit much stranger even if we analytically can not solve for the PDE by given boundary values. \n",
    "\n",
    "This semester, I am also in class of Partial Differential Equations, so let's try with an simple case of equilibrium state linear equation. \n",
    "\n",
    "Let $\\frac{\\partial u}{\\partial t} = 0$ to get equilibrium state of the equation:\n",
    "$$ \\frac{\\partial ^2 u}{\\partial x^2} + u = 0.\n",
    "$$\n",
    "for (0, $\\pi$) with boundary condition \n",
    "$$u(0) = a, ~~u(\\pi) = b\n",
    "$$\n",
    "Then we have eigenvalue $\\lambda = \\pm i$, with \n",
    "$$u(x) = A \\sin x + B \\cos x\n",
    "$$\n",
    "But we may plug in some subtle boundary values for observation. \n",
    "\n",
    "By simple algebra in periodical issue, we see that if given\n",
    "$$u(0) = 1, ~~u(\\pi) = 1\n",
    "$$\n",
    "We can get weird coefficients since A = 0 by nature while B is unsolvable.\n",
    "\n",
    "We can see from below that as the points increase, the upper bounds are correspondinly become bigger even the equation is unsolvable. "
   ]
  },
  {
   "cell_type": "code",
   "execution_count": 9,
   "metadata": {
    "scrolled": true
   },
   "outputs": [
    {
     "data": {
      "image/png": "[encoded data removed]",
      "text/plain": [
       "<Figure size 432x288 with 1 Axes>"
      ]
     },
     "metadata": {
      "needs_background": "light"
     },
     "output_type": "display_data"
    },
    {
     "data": {
      "image/png": "[encoded data removed]",
      "text/plain": [
       "<Figure size 432x288 with 1 Axes>"
      ]
     },
     "metadata": {
      "needs_background": "light"
     },
     "output_type": "display_data"
    },
    {
     "data": {
      "image/png": "[encoded data removed]",
      "text/plain": [
       "<Figure size 432x288 with 1 Axes>"
      ]
     },
     "metadata": {
      "needs_background": "light"
     },
     "output_type": "display_data"
    }
   ],
   "source": [
    "def maxA(N, dx):\n",
    "    A = numpy.zeros((N, N))\n",
    "    diagonal = numpy.ones(N)\n",
    "    A += numpy.diag(diagonal * -2.0, 0) / dx**2\n",
    "    A += numpy.diag(diagonal [ :-1], 1) / dx**2\n",
    "    A += numpy.diag(diagonal [ :-1], -1) / dx**2\n",
    "    A += numpy.diag(diagonal, 0)\n",
    "    \n",
    "    return A\n",
    "\n",
    "def solve_BVP(a, b, c, d, N=50):\n",
    "    u_a = c\n",
    "    u_b = d\n",
    "\n",
    "    dx = (b-a) / (N+1)\n",
    "    x_cd = numpy.linspace(a, b, N+2)\n",
    "    x = x_cd[1:-1]\n",
    "    \n",
    "    A = maxA(N, dx)\n",
    "    b = numpy.zeros(x.shape)\n",
    "    b[0] -= u_a / dx**2 - u_a\n",
    "    b[1] -= u_b / dx**2 - u_b\n",
    "    u = numpy. empty(N+2)\n",
    "    u[0] = u_a\n",
    "    u[-1] = u_b\n",
    "    u[1:-1] = numpy.linalg.solve(A, b)\n",
    "    \n",
    "    return x_cd, u\n",
    "\n",
    "\n",
    "for N in [20, 50, 90]:\n",
    "    x, u = solve_BVP(0.0, numpy.pi, -1, -1, N)\n",
    "    \n",
    "    fig = plt.figure()\n",
    "    axes = fig.add_subplot(1,1,1)\n",
    "    axes.plot(x, u, 'go')\n",
    "    \n",
    "    axes.set_title(\"$u_{xx} + u = 0 = u_{t}$\")\n",
    "    axes.set_xlabel(\"x\")\n",
    "    #axes.text(0.5 * numpy.pi, u(0.5*numpy.pi), \"upper bound\", fontsize =\"12\")\n",
    "    axes.set_xlim((-0.1, 4))\n",
    "    axes.set_ylabel(\"u(x)\")\n",
    "    axes.set_xlim([0.0, numpy.pi])\n",
    "plt.show()\n"
   ]
  },
  {
   "cell_type": "markdown",
   "metadata": {
    "nbgrader": {
     "checksum": "b9ed7e4ddbb2acf07af1c7a45ada8c3c",
     "grade": true,
     "grade_id": "cell-dc8834a8d72b2640",
     "locked": false,
     "points": 25,
     "schema_version": 1,
     "solution": true
    }
   },
   "source": [
    "According to the comparison pics above, the upper bound becomes bigger as the number of points increases. We can then fairly expect that the upper bound will approach a huge number on y_axis if we plot by more points. And the upper bound shows that it is accompanied with $x = \\frac{\\pi}{2}$. \n",
    "\n",
    "Since the equation can not be solved analytically, we are surprised by the effort shown by floating point operation. This is because floating point operations are under discrete distributed value if we plot the points by dots, and when dealing with problems related to limits, floating point error always comes up.\n",
    "\n",
    "This is what I can show in the operations of floating point error in the field of applied math."
   ]
  },
  {
   "cell_type": "code",
   "execution_count": null,
   "metadata": {
    "nbgrader": {
     "checksum": "dbdb5009292fd9670256dd7eb9886fc1",
     "grade": true,
     "grade_id": "cell-138c7f2a5678d47e",
     "locked": false,
     "points": 0,
     "schema_version": 1,
     "solution": true
    }
   },
   "outputs": [],
   "source": []
  }
 ],
 "metadata": {
  "kernelspec": {
   "display_name": "Python 3",
   "language": "python",
   "name": "python3"
  },
  "language_info": {
   "codemirror_mode": {
    "name": "ipython",
    "version": 3
   },
   "file_extension": ".py",
   "mimetype": "text/x-python",
   "name": "python",
   "nbconvert_exporter": "python",
   "pygments_lexer": "ipython3",
   "version": "3.7.0"
  }
 },
 "nbformat": 4,
 "nbformat_minor": 2
}
