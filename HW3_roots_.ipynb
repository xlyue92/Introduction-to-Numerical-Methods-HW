{
 "cells": [
  {
   "cell_type": "code",
   "execution_count": 1,
   "metadata": {},
   "outputs": [],
   "source": [
    "%matplotlib inline\n",
    "from __future__ import print_function\n",
    "import numpy\n",
    "import matplotlib.pyplot as plt"
   ]
  },
  {
   "cell_type": "markdown",
   "metadata": {
    "deletable": false,
    "editable": false,
    "nbgrader": {
     "checksum": "b72c429435fbefd1392586a27078d6d3",
     "grade": false,
     "grade_id": "cell-9855438747299734",
     "locked": true,
     "schema_version": 1,
     "solution": false
    }
   },
   "source": [
    "Before you turn this problem in, make sure everything runs as expected. First, restart the kernel (in the menubar, select Kernel $\\rightarrow$ Restart) and then run all cells (in the menubar, select Cell $\\rightarrow$ Run All).\n",
    "\n",
    "Make sure you fill in any place that says YOUR CODE HERE or \"YOUR ANSWER HERE\", as well as your name and collaborators below:"
   ]
  },
  {
   "cell_type": "markdown",
   "metadata": {
    "deletable": false,
    "editable": false,
    "nbgrader": {
     "checksum": "896aee8be036699e78bc884285e0b02f",
     "grade": false,
     "grade_id": "cell-7752050701682384",
     "locked": true,
     "schema_version": 1,
     "solution": false
    }
   },
   "source": [
    "# HW 3:  Root Finding and Optimization"
   ]
  },
  {
   "cell_type": "markdown",
   "metadata": {
    "deletable": false,
    "editable": false,
    "nbgrader": {
     "checksum": "c752e7f02abade65a8d56b7fdb3eba85",
     "grade": false,
     "grade_id": "cell-1895631505644296",
     "locked": true,
     "schema_version": 1,
     "solution": false
    }
   },
   "source": [
    "## Question 1 - Newton's Method Convergence\n",
    "\n",
    "Recall that Newton's method converges as\n",
    "\n",
    "$$|\\epsilon_{n+1}| = \\frac{|f''(c)|}{2 |f'(x_n)|} |\\epsilon_n|^2$$\n",
    "\n",
    "with $\\epsilon_n = x_n - x^*$ where $x^*$ is the true solution and $c$ is between $x_n$ and $x^*$."
   ]
  },
  {
   "cell_type": "markdown",
   "metadata": {
    "deletable": false,
    "editable": false,
    "nbgrader": {
     "checksum": "7b8a4cf9a2a68826a769a0d38d4eb038",
     "grade": false,
     "grade_id": "cell-1970749459305849",
     "locked": true,
     "schema_version": 1,
     "solution": false
    }
   },
   "source": [
    "**(a)** [10] Show that the Newton iteration when $f(x) = x^2 - M$ with $M > 0$ is\n",
    "\n",
    "$$x_{n+1} = \\frac{1}{2} \\left (x_n + \\frac{M}{x_n} \\right )$$"
   ]
  },
  {
   "cell_type": "markdown",
   "metadata": {
    "deletable": false,
    "nbgrader": {
     "checksum": "1addb28882aeb72e30c4179ea42ae527",
     "grade": true,
     "grade_id": "cell-5376958157033915",
     "locked": false,
     "points": 10,
     "schema_version": 1,
     "solution": true
    }
   },
   "source": [
    "Solution: Form equation for the line through the point (x$_k$, f(x$_k$)):\n",
    "$$\n",
    "\\begin{align}\n",
    "    f(x_n) &= f'(x_n)\\cdot x_n + b \\\\\n",
    "    f'(x_n)&= 2x_n \\\\\n",
    "    \\rightarrow \\quad \\quad \\quad \\quad y &= f'(x_n)\\cdot x + f(x_n) - 2x_n^2 \\\\\n",
    "    \\rightarrow \\quad \\quad \\quad \\quad 0 &= 2x_n(x_{n+1}-x_n) + f(x_n) \\\\\n",
    "    \\text{Since} \\quad \\quad \\quad f(x_n) &= x_n^2 - M \\\\\n",
    "    x_{n+1} &= x_n - \\frac{f(x_n)}{2x_n} \\\\\n",
    "    &= x_n - (\\frac{x_n}{2} - \\frac{M}{2x_n}) \\\\\n",
    "    &= \\frac{1}{2} \\left (x_n + \\frac{M}{x_n}\\right ) \n",
    "\\end{align}\n",
    "$$\n",
    "This finishes the proof."
   ]
  },
  {
   "cell_type": "markdown",
   "metadata": {
    "deletable": false,
    "editable": false,
    "nbgrader": {
     "checksum": "43dbf2e95ba580d5ac6165a35404fbc9",
     "grade": false,
     "grade_id": "cell-9901692029020576",
     "locked": true,
     "schema_version": 1,
     "solution": false
    }
   },
   "source": [
    "**(b)** [10] From this update scheme show that \n",
    "\n",
    "$$\\frac{x_{n+1} - \\sqrt{M}}{(x_n - \\sqrt{M})^2} = \\frac{1}{2 x_n}$$"
   ]
  },
  {
   "cell_type": "markdown",
   "metadata": {
    "deletable": false,
    "nbgrader": {
     "checksum": "90bb6fe65a70aa9888d13ec5caaa3e73",
     "grade": true,
     "grade_id": "cell-1681194282750238",
     "locked": false,
     "points": 10,
     "schema_version": 1,
     "solution": true
    }
   },
   "source": [
    "Solution: Since \n",
    "$$\n",
    "\\begin{align}\n",
    "    x_{n+1} &= \\frac{1}{2} \\left (x_n + \\frac{M}{x_n}\\right ) \\\\\n",
    "    \\rightarrow \\quad x_{n+1} &= \\frac{x_n}{2x_n} \\left(x_n - 2x_n \\sqrt{M} + 2x_n \\sqrt{M} + \\frac{M}{x_n} \\right) \\\\\n",
    "    &= \\frac{1}{2x_n} \\left(x_n - \\sqrt{M} \\right)^2 + \\sqrt{M} \\\\\n",
    "    x_{n+1} - \\sqrt{M} &= \\frac{1}{2x_n} \\left(x_n - \\sqrt{M} \\right)^2 \n",
    "\\end{align}\n",
    "$$\n",
    "Then\n",
    "$$\n",
    "\\frac{x_{n+1} - \\sqrt{M}}{(x_n - \\sqrt{M})^2} = \\frac{1}{2 x_n}\n",
    "$$\n",
    "    "
   ]
  },
  {
   "cell_type": "markdown",
   "metadata": {
    "deletable": false,
    "editable": false,
    "nbgrader": {
     "checksum": "64de3c08e6917ff9441b8a9abcfa2bfd",
     "grade": false,
     "grade_id": "cell-3789064265524234",
     "locked": true,
     "schema_version": 1,
     "solution": false
    }
   },
   "source": [
    "**(c)** [5] Confirm that the asymptotic error convergence matches the general convergence for Newton's method."
   ]
  },
  {
   "cell_type": "markdown",
   "metadata": {
    "deletable": false,
    "nbgrader": {
     "checksum": "f58b129b0582779f64fab7ff1e00722b",
     "grade": true,
     "grade_id": "cell-3410885017024889",
     "locked": false,
     "points": 5,
     "schema_version": 1,
     "solution": true
    }
   },
   "source": [
    "Solution: We know that \n",
    "$$\n",
    "\\begin{align}\n",
    "\\frac{|f''(c)|}{2 |f'(x_n)|} &= \\frac{2}{2 \\cdot 2x_n} \\\\\n",
    "&= \\frac{1}{2x_n}\n",
    "\\end{align}\n",
    "$$\n",
    "And that we also have the following \n",
    "$$\n",
    "\\frac{|\\epsilon_{n+1}|}{|\\epsilon_n|^2} = \\frac{1}{2x_n}\n",
    "$$\n",
    "This confirm the match."
   ]
  },
  {
   "cell_type": "markdown",
   "metadata": {
    "deletable": false,
    "editable": false,
    "nbgrader": {
     "checksum": "ec8adde35acd953d987ae976af9712ab",
     "grade": false,
     "grade_id": "cell-2963452578552376",
     "locked": true,
     "schema_version": 1,
     "solution": false
    }
   },
   "source": [
    "## Question 2 - Finding an Optimal Value Given Discrete Data\n",
    "\n",
    "For the following questions we are given a set of data $(t_0, y_0), (t_1, y_1), \\ldots, (t_N, y_N)$."
   ]
  },
  {
   "cell_type": "markdown",
   "metadata": {
    "deletable": false,
    "editable": false,
    "nbgrader": {
     "checksum": "99865c6907cba00f23c83841e70bab5c",
     "grade": false,
     "grade_id": "cell-9716535939329100",
     "locked": true,
     "schema_version": 1,
     "solution": false
    }
   },
   "source": [
    "**(a)** [10] Write a function that takes in the data series $(t_i, y_i)$ and finds the value at a point $t_\\ast$ by constructing the equation of the line between the two data points that bound $t_\\ast$ and evaluating the resulting function at $t_\\ast$.\n",
    "\n",
    "Hints:\n",
    " - Make sure to handle the case that $t_\\ast = t_i$.\n",
    " - If $t_\\ast < t_0$ or $t_\\ast > t_N$ then return the corresponding value $y_0$ or $y_N$.\n",
    " - If you write your function so that $t_\\ast$ can be an array you can use the plotting code in the cell.  Otherwise just delete it."
   ]
  },
  {
   "cell_type": "code",
   "execution_count": 2,
   "metadata": {
    "deletable": false,
    "nbgrader": {
     "checksum": "2fdf54d892959ab9ce8602abe5b84a01",
     "grade": false,
     "grade_id": "cell-5955761976853694",
     "locked": false,
     "schema_version": 1,
     "solution": true
    }
   },
   "outputs": [
    {
     "data": {
      "image/png": "[encoded data removed]",
      "text/plain": [
       "<Figure size 648x288 with 1 Axes>"
      ]
     },
     "metadata": {},
     "output_type": "display_data"
    }
   ],
   "source": [
    "def linear_eval(t, y, t_star):\n",
    "    if isinstance(t_star, float):\n",
    "        t_star = [t_star]\n",
    "        y_t_star = [0.0]\n",
    "    else:\n",
    "        y_t_star = numpy.zeros(t_star.shape)\n",
    "    \n",
    "    for (i, t_star_value) in enumerate(t_star):\n",
    "        if t_star_value < t[0]:\n",
    "            y_t_star[i] = y[0]\n",
    "        elif t_star_value > t[-1]:\n",
    "            y_t_star[i] = y[-1]\n",
    "        else:\n",
    "            for (n, t_value) in enumerate(t):\n",
    "                if t_value > t_star_value:\n",
    "                    y_t_star[i] = (y[n] - y[n-1]) / (t[n] - t[n-1]) * (t_star_value - t[n-1]) + y[n-1]\n",
    "                    break\n",
    "                elif t_value == t_star_value:\n",
    "                    y_t_star[i] = y[n]\n",
    "                    break\n",
    "    return y_t_star\n",
    "\n",
    "N = 10\n",
    "t_fine = numpy.linspace(0.0, 2.0 * numpy.pi, 100)\n",
    "t_rand = numpy.random.rand(N + 1) * (2.0 * numpy.pi)\n",
    "t_rand.sort()\n",
    "f = lambda x: numpy.sin(x) * numpy.cos(2.0 * x)\n",
    "\n",
    "fig = plt.figure()\n",
    "fig.set_figwidth(fig.get_figwidth()*1.5)\n",
    "axes = fig.add_subplot(1, 1, 1)\n",
    "axes.plot(t_fine, f(t_fine), 'k-', label=\"True\")\n",
    "axes.plot(t_rand, f(t_rand), 'og', label=\"Sample Data\")\n",
    "axes.plot(t_fine, linear_eval(t_rand, f(t_rand), t_fine), 'xb', label=\"linear_eval\")\n",
    "axes.set_xlim((0, 2.0 * numpy.pi))\n",
    "axes.set_title(\"Demo Plot\")\n",
    "axes.set_xlabel('$t$')\n",
    "axes.set_ylabel('$f(t)$')\n",
    "axes.legend()\n",
    "plt.show()"
   ]
  },
  {
   "cell_type": "code",
   "execution_count": 3,
   "metadata": {
    "deletable": false,
    "editable": false,
    "nbgrader": {
     "checksum": "00b75c1c1f178779c817d02257617d1e",
     "grade": true,
     "grade_id": "cell-8787061490582512",
     "locked": true,
     "points": 10,
     "schema_version": 1,
     "solution": false
    }
   },
   "outputs": [
    {
     "name": "stdout",
     "output_type": "stream",
     "text": [
      "Computed solution: 0.42073549240394825\n",
      "True solution: 0.42073549240394825\n",
      "Success!\n"
     ]
    }
   ],
   "source": [
    "N = 100\n",
    "f = lambda x: numpy.sin(x) * numpy.cos(x)\n",
    "t = numpy.linspace(-1, 1, N + 1)\n",
    "t_star = 0.5\n",
    "answer = linear_eval(t, f(t), t_star)\n",
    "if isinstance(answer, list):\n",
    "    answer = answer[0]\n",
    "print(\"Computed solution: %s\" % answer)\n",
    "print(\"True solution: %s\" % f(t_star))\n",
    "numpy.testing.assert_almost_equal(answer, f(t_star), verbose=True, decimal=7)\n",
    "print(\"Success!\")"
   ]
  },
  {
   "cell_type": "markdown",
   "metadata": {
    "deletable": false,
    "editable": false,
    "nbgrader": {
     "checksum": "ccd31508e5b76e7b4a4709ba82bc97ab",
     "grade": false,
     "grade_id": "cell-9221022888696880",
     "locked": true,
     "schema_version": 1,
     "solution": false
    }
   },
   "source": [
    "**(b)** [10] Using the function you wrote in part (a) write a function that uses Golden search to find the maximum of a series of data.  Again you can use the plotting code available if your `linear_eval` function from part (a) handles arrays.  Not that the initial bracket you are given will determine what maximum you will find."
   ]
  },
  {
   "cell_type": "code",
   "execution_count": 4,
   "metadata": {
    "deletable": false,
    "nbgrader": {
     "checksum": "38cf3c018b72de9540b216d0c84ced99",
     "grade": false,
     "grade_id": "cell-6971359312048652",
     "locked": false,
     "schema_version": 1,
     "solution": true
    }
   },
   "outputs": [
    {
     "data": {
      "image/png": "[encoded data removed]",
      "text/plain": [
       "<Figure size 432x288 with 1 Axes>"
      ]
     },
     "metadata": {},
     "output_type": "display_data"
    }
   ],
   "source": [
    "def golden_search(bracket, t, y, max_steps=100, tolerance=1e-4):\n",
    "    f = lambda x: linear_eval(t, y, x)\n",
    "    phi = (numpy.sqrt(5.0) - 1.0) / 2.0\n",
    "    \n",
    "    # Try with the ratio for maximum searching\n",
    "    \n",
    "    x = numpy.array([bracket[0], None, None, bracket[1]])\n",
    "    x[1] = x[3] - phi * (x[3] - x[0])\n",
    "    x[2] = x[0] + phi * (x[3] - x[0])\n",
    "    \n",
    "    success = False\n",
    "    for n in range(max_steps + 1):\n",
    "        f_1 = f(x[1])\n",
    "        f_2 = f(x[2])\n",
    "        \n",
    "        if f_1 > f_2:\n",
    "            x_new = [x[0], None, x[1], x[2]]\n",
    "            x_new[1] = x[3] - phi * (x[3] - x[0])\n",
    "        else:\n",
    "            x_new = [x[1], x[2], None, x[3]]\n",
    "            x_new[2] = x[0] + phi * (x[3] - x[0])\n",
    "       \n",
    "        x = x_new\n",
    "        \n",
    "        if numpy.abs(x[3] - x[0]) < tolerance:\n",
    "            success = True\n",
    "            t_star = (x[3] + x[0]) / 2.0\n",
    "            break\n",
    "            \n",
    "    if not success:\n",
    "        raise ValueError(\"Can not satisfy the tolerance.\")\n",
    "    \n",
    "    return t_star\n",
    "\n",
    "N = 50\n",
    "t = numpy.random.rand(N + 1) * (2.0 * numpy.pi)\n",
    "t.sort()\n",
    "y = numpy.sin(t) * numpy.cos(2.0 * t)\n",
    "t_star = golden_search([4.0, 5.0], t, y)\n",
    "t_true = 3.0 *numpy.pi / 2.0\n",
    "\n",
    "fig = plt.figure()\n",
    "axes = fig.add_subplot(1, 1, 1)\n",
    "\n",
    "axes.plot(t, y, 'x', label=\"data\")\n",
    "t_fine = numpy.linspace(0.0, 2.0 * numpy.pi, 100)\n",
    "axes.plot(t_fine, numpy.sin(t_fine) * numpy.cos(2.0 * t_fine), 'k', label=\"$f(x)$\")\n",
    "axes.plot(t_star, linear_eval(t, y, t_star), 'go')\n",
    "axes.plot(t_true, numpy.sin(t_true) * numpy.cos(2.0 * t_true), 'ko', label=\"True\")\n",
    "# axes.set_xlim((3.0, 6.0))\n",
    "# axes.set_ylim((-0.5, 1.1))\n",
    "plt.show()"
   ]
  },
  {
   "cell_type": "code",
   "execution_count": 5,
   "metadata": {
    "deletable": false,
    "editable": false,
    "nbgrader": {
     "checksum": "2afc844ca06d25419df08323eaa17c55",
     "grade": true,
     "grade_id": "cell-4542008334156387",
     "locked": true,
     "points": 10,
     "schema_version": 1,
     "solution": false
    }
   },
   "outputs": [
    {
     "name": "stdout",
     "output_type": "stream",
     "text": [
      "Error: 0.015038450609141218, 0.005470728573458627\n",
      "Success!\n"
     ]
    }
   ],
   "source": [
    "N = 100\n",
    "t = numpy.random.rand(N + 1) * (2.0 * numpy.pi)\n",
    "t.sort()\n",
    "y = numpy.sin(t) * numpy.cos(2.0 * t)\n",
    "t_star = golden_search([2.0, 3.0], t, y)\n",
    "t_true = 7.0 * numpy.pi / 8.0\n",
    "abs_error = numpy.abs(t_star - t_true)\n",
    "rel_error = numpy.abs(t_star - t_true) / numpy.abs(t_true)\n",
    "print(\"Error: %s, %s\" % (abs_error, rel_error))\n",
    "numpy.testing.assert_allclose(abs_error, 0.0, rtol=1e-1, atol=1e-1)\n",
    "print(\"Success!\")"
   ]
  },
  {
   "cell_type": "markdown",
   "metadata": {
    "deletable": false,
    "editable": false,
    "nbgrader": {
     "checksum": "126bf7aa44d2a86a0bfc84ee186961c4",
     "grade": false,
     "grade_id": "cell-3415405761860037",
     "locked": true,
     "schema_version": 1,
     "solution": false
    }
   },
   "source": [
    "**(c)** [5] Below is sample code that plots the number of sample points $N$ vs. the relative error.  Note because we are sampling at random points that we do each $N$ 6 times and average the relative error to reduce noise.  Additionally a line is drawn representing what would be linear (1st order) convergence.\n",
    "\n",
    "Modify this code and try it out on other problems.  Do you continue to see linear convergence?  What about if you change how we sample points?  Make sure that you change your initial interval and range of values of $t$ inside the loop."
   ]
  },
  {
   "cell_type": "code",
   "execution_count": 7,
   "metadata": {
    "deletable": false,
    "nbgrader": {
     "checksum": "21a9756d6b4c5de2970dbfb271df93ed",
     "grade": true,
     "grade_id": "cell-8027246655396745",
     "locked": false,
     "points": 3,
     "schema_version": 1,
     "solution": true
    }
   },
   "outputs": [
    {
     "data": {
      "image/png": "[encoded data removed]",
      "text/plain": [
       "<Figure size 864x576 with 2 Axes>"
      ]
     },
     "metadata": {},
     "output_type": "display_data"
    }
   ],
   "source": [
    "# Original Function\n",
    "f = lambda t: numpy.sin(t) * numpy.cos(2.0 * t)\n",
    "N_range = numpy.array([2**n for n in range(4, 10)], dtype=int)\n",
    "rel_error = numpy.zeros(len(N_range))\n",
    "t_true = 3.0 * numpy.pi / 2.0\n",
    "\n",
    "# Compared to another function\n",
    "f2 = lambda t: numpy.sin(t) - numpy.cos(t)\n",
    "rel_error2 = numpy.zeros(len(N_range))\n",
    "t2_true = numpy.pi / 4.0\n",
    "\n",
    "for (i, N) in enumerate(N_range):\n",
    "    for j in range(6):\n",
    "        t = numpy.random.rand(N + 1) * (2.0 * numpy.pi)\n",
    "        t.sort()\n",
    "        y = f(t)\n",
    "        t_star = golden_search([4.0, 5.0], t, y)\n",
    "        rel_error[i] += numpy.abs(t_star - t_true) / numpy.abs(t_true)\n",
    "\n",
    "        t2 = numpy.random.rand(N + 1) * (2.0 * numpy.pi) + 0.25 * numpy.pi\n",
    "        t2.sort()\n",
    "        y2 = f2(t2)\n",
    "        t2_star = golden_search([3.0, 10.0], t, y)\n",
    "        rel_error2[i] += numpy.abs(t2_star - t2_true) / numpy.abs(t2_true)\n",
    "    rel_error[i] /=6\n",
    "    rel_error2[i] /= 6 \n",
    "    \n",
    "order_C = lambda N, error, order: numpy.exp(numpy.log(error) - order * numpy.log(N))\n",
    "    \n",
    "fig = plt.figure()\n",
    "fig.set_figwidth(fig.get_figwidth() * 2)\n",
    "fig.set_figheight(fig.get_figheight() * 2)\n",
    "\n",
    "axes = fig.add_subplot(2, 2, 1)\n",
    "axes.loglog(N_range, rel_error, 'ko', label=\"Ave. Error\")\n",
    "axes.loglog(N_range, order_C(N_range[0], rel_error[0], -1.0) * N_range**(-1.0), 'r', label=\"1st order\")\n",
    "axes.loglog(N_range, order_C(N_range[0], rel_error[0], -2.0) * N_range**(-2.0), 'b', label=\"2nd Order\")\n",
    "axes.set_title(\"f\")\n",
    "axes.set_xlabel(\"N\")\n",
    "axes.set_ylabel(\"Relative Error\")\n",
    "axes.legend()\n",
    "#f2\n",
    "axes = fig.add_subplot(2, 2, 2)\n",
    "axes.loglog(N_range, rel_error2, 'ko', label=\"Ave. Error\")\n",
    "axes.loglog(N_range, order_C(N_range[0], rel_error2[0], -1.0) * N_range**(-1.0), 'r', label=\"1st order\")\n",
    "axes.loglog(N_range, order_C(N_range[0], rel_error2[0], -2.0) * N_range**(-2.0), 'b', label=\"2nd Order\")\n",
    "axes.set_xlabel(\"N\")\n",
    "axes.set_ylabel(\"Relative Error\")\n",
    "axes.set_title(\"f2\")\n",
    "axes.legend()\n",
    "\n",
    "plt.show()"
   ]
  },
  {
   "cell_type": "markdown",
   "metadata": {
    "deletable": false,
    "nbgrader": {
     "checksum": "ff5aa8bc869a82df04d3535aa4c797ce",
     "grade": true,
     "grade_id": "cell-1212131569444476",
     "locked": false,
     "points": 2,
     "schema_version": 1,
     "solution": true
    }
   },
   "source": [
    "The linear convergence of first and second order does not go well. Probably because the golden search region should be refined with initial guess."
   ]
  },
  {
   "cell_type": "markdown",
   "metadata": {
    "deletable": false,
    "editable": false,
    "nbgrader": {
     "checksum": "ce593b929b32648e166794b5b721e3ef",
     "grade": false,
     "grade_id": "cell-2596381852207731",
     "locked": true,
     "schema_version": 1,
     "solution": false
    }
   },
   "source": [
    "## Question 3 - Inverse Quadratic Interpolation\n",
    "\n",
    "Let us see if we can extend the idea of the secant method to a higher order version.  The idea then is to take 3 values of the function such that $(x_0, f(x_0))$, $(x_1, f(x_1))$, and $(x_2, f(x_2))$ and fit an inverse quadratic function through these points (note that this requires that $f(x_i) \\neq f(x_j) \\forall i \\neq j$).  The inverse function can be written as\n",
    "$$\n",
    "    g(y) = x_2 + \\frac{(y - f(x_1)) (y - f(x_2))(x_0 - x_2)}{(f(x_0) - f(x_1))(f(x_0) - f(x_2))} + \\frac{(y - f(x_0)) (y - f(x_2))(x_1 - x_2)}{(f(x_1) - f(x_0))(f(x_1) - f(x_2))}\n",
    "$$\n",
    "Inverse quadratic interpolation is one of the core components of many root solvers in libraries such as `numpy`.\n",
    "\n",
    "Using this new function answer the following questions."
   ]
  },
  {
   "cell_type": "markdown",
   "metadata": {
    "deletable": false,
    "editable": false,
    "nbgrader": {
     "checksum": "30704394f5c88ba92f7d9d8720c1a1cb",
     "grade": false,
     "grade_id": "cell-3591658918366849",
     "locked": true,
     "schema_version": 1,
     "solution": false
    }
   },
   "source": [
    "**(a)** [10] Find the x-intercept of the function $g(y)$."
   ]
  },
  {
   "cell_type": "markdown",
   "metadata": {
    "deletable": false,
    "nbgrader": {
     "checksum": "bd1f876bdf1b86d895f17d0e8bacf712",
     "grade": true,
     "grade_id": "cell-693591336400361",
     "locked": false,
     "points": 10,
     "schema_version": 1,
     "solution": true
    }
   },
   "source": [
    "Solution: Basically, the method uses the quadratic function of variable y.\n",
    "\n",
    "Therefore, we have y=0, and let x$_3$ be the x-intercept to get:\n",
    "\n",
    "$$\n",
    "\\begin{align}\n",
    "    x_3 = x_2 + \\frac{f(x_1)f(x_2)(x_0 - x_2)}{(f(x_0) - f(x_1))(f(x_0) - f(x_2))} + \\frac{f(x_0)f(x_2)(x_1 - x_2)}{(f(x_1) - f(x_0))(f(x_1) - f(x_2))}\n",
    "\\end{align}\n",
    "$$"
   ]
  },
  {
   "cell_type": "markdown",
   "metadata": {
    "deletable": false,
    "editable": false,
    "nbgrader": {
     "checksum": "9797144dccfae4313187b36855b71370",
     "grade": false,
     "grade_id": "cell-1774845494924988",
     "locked": true,
     "schema_version": 1,
     "solution": false
    }
   },
   "source": [
    "**(b)** [10] Write down the resulting iteration so that it has the form\n",
    "$$\n",
    "    x_{n+1} = x_n + \\phi(x_n, x_{n-1}, x_{n-2})\n",
    "$$\n",
    "where $\\phi(x_n, x_{n-1}, x_{n-2})$ can also contain evaluations of the original function $f(x)$."
   ]
  },
  {
   "cell_type": "markdown",
   "metadata": {
    "deletable": false,
    "nbgrader": {
     "checksum": "74558fcde26e79b4bebc1b0b6136363d",
     "grade": true,
     "grade_id": "cell-6984397730423716",
     "locked": false,
     "points": 10,
     "schema_version": 1,
     "solution": true
    }
   },
   "source": [
    "Solution: it is straightforward if we replace certain variables in the equation:\n",
    "\n",
    "$$\n",
    "\\begin{align}\n",
    "    x_{n+1} = x_n + \\frac{f(x_{n-1})f(x_n)(x_{n-2} - x_n)}{(f(x_{n-2}) - f(x_{n-1}))(f(x_{n-2}) - f(x_n))} + \\frac{f(x_{n-2})f(x_n)(x_{n-1} - x_n)}{(f(x_{n-1}) - f(x_{n-2}))(f(x_{n-1}) - f(x_n))}\n",
    "\\end{align}\n",
    "$$"
   ]
  },
  {
   "cell_type": "markdown",
   "metadata": {
    "deletable": false,
    "editable": false,
    "nbgrader": {
     "checksum": "7e928f4bfd1c5e1da413c51880b75d6e",
     "grade": false,
     "grade_id": "cell-48298625886664",
     "locked": true,
     "schema_version": 1,
     "solution": false
    }
   },
   "source": [
    "**(c)** [5] Write a function that implements the inverse quadratic interpolation root finding method which takes in a function $f$ and an initial triplet for an initial guess $(x_0, x_1, x_2)$.  Make sure that it handles the case when the maximum number of steps is taken."
   ]
  },
  {
   "cell_type": "code",
   "execution_count": 8,
   "metadata": {
    "deletable": false,
    "nbgrader": {
     "checksum": "eb83d0fb2195858989d4ca7c55cd73f8",
     "grade": false,
     "grade_id": "cell-6073937733507223",
     "locked": false,
     "schema_version": 1,
     "solution": true
    }
   },
   "outputs": [],
   "source": [
    "def inv_quad_root(f, x, tolerance=1e-4, max_steps=100):\n",
    "    \"\"\"Find a root of f(x) using inverse quadratic interpolation\n",
    "    \n",
    "    :Input:\n",
    "     - *f* (func) Function to find the root of.\n",
    "     - *x* (list) A triplet of values to be used to start the method.  Note\n",
    "       that the triplet starts with the x_0 value and ends with the x_2 value\n",
    "       in terms of the iteration scheme.\n",
    "     - *tolerance* (float) Tolerance used as a stopping criteria with \n",
    "       |f(x_n)| < tolerance.\n",
    "     - *max_steps* (int) Maximum number of steps allowed.  Raise an exception\n",
    "       if max_steps are reached.\n",
    "    :Output:\n",
    "     - (float) Converged root.\n",
    "    \"\"\"\n",
    "    # Starting\n",
    "\n",
    "    success = False\n",
    "    for n in range(1, max_steps + 1):\n",
    "        x3 = x[2] + (f(x[1]) * f(x[2]) *(x[0] - x[2]))/((f(x[0]) - f(x[1])) * (f(x[0]) - f(x[2]))) + (f(x[0]) * f(x[2]) * (x[1] - x[2])) / ((f(x[1]) - f(x[0])) * (f(x[1]) - f(x[2])))\n",
    "        x[0] = x[1]\n",
    "        x[1] = x[2]\n",
    "        x[2] = x3\n",
    "        if numpy.abs(f(x[2])) < tolerance:\n",
    "            success = True\n",
    "            break\n",
    "\n",
    "    if n == max_steps:\n",
    "        raise ValueError(\"Reached maximum number of steps!\")\n",
    "    \n",
    "    return x[2]"
   ]
  },
  {
   "cell_type": "code",
   "execution_count": 9,
   "metadata": {
    "deletable": false,
    "editable": false,
    "nbgrader": {
     "checksum": "1df5210f6c8a5b95f462da54adf71cba",
     "grade": true,
     "grade_id": "cell-9399253999786286",
     "locked": true,
     "points": 5,
     "schema_version": 1,
     "solution": false
    }
   },
   "outputs": [
    {
     "name": "stdout",
     "output_type": "stream",
     "text": [
      "Found root = 0.08985602483470391\n",
      "Success!\n"
     ]
    }
   ],
   "source": [
    "P = 1500.0\n",
    "m = 12\n",
    "n = 20.0\n",
    "A = 1e6\n",
    "f = lambda r, A=A, m=m, P=P, n=n: A - m * P / r * ((1.0 + r / m)**(m * n) - 1.0)\n",
    "root = inv_quad_root(f, [0.06, 0.07, 0.08], tolerance=1e-6, max_steps=10)\n",
    "print(\"Found root = %s\" % root)\n",
    "numpy.testing.assert_allclose(root, 0.08985602483470391, atol=1e-5)\n",
    "print(\"Success!\")"
   ]
  },
  {
   "cell_type": "markdown",
   "metadata": {
    "deletable": false,
    "editable": false,
    "nbgrader": {
     "checksum": "1324ab95bbf82ee7e6ab21347c663221",
     "grade": false,
     "grade_id": "cell-2835967641524943",
     "locked": true,
     "schema_version": 1,
     "solution": false
    }
   },
   "source": [
    "## Question 4 - Halley's Method\n",
    "\n",
    "Newton's method uses the first two terms in the Taylor series of $f(x)$ to find the root.  Halley's method takes this one step further using the first three terms. "
   ]
  },
  {
   "cell_type": "markdown",
   "metadata": {
    "deletable": false,
    "editable": false,
    "nbgrader": {
     "checksum": "3726958c6cc308ba826997b8d23ed9bd",
     "grade": false,
     "grade_id": "cell-1962776979880028",
     "locked": true,
     "schema_version": 1,
     "solution": false
    }
   },
   "source": [
    "**(a)** [10]  Derive a quadratic expression for the value of $\\Delta x$ but do not solve directly for $\\Delta x$ yet, i.e. you need only have an expression that include $\\Delta x$ in it."
   ]
  },
  {
   "cell_type": "markdown",
   "metadata": {
    "deletable": false,
    "nbgrader": {
     "checksum": "ac22e8cbce0621d634cc4b63c0c7f56f",
     "grade": true,
     "grade_id": "cell-166356180755692",
     "locked": false,
     "points": 10,
     "schema_version": 1,
     "solution": true
    }
   },
   "source": [
    "Solution: Expand the function and take a second-order taylor series,\n",
    "\n",
    "$$\n",
    "\\begin{align}\n",
    "    f(x) = f(x_k) + f'(x_k) (x - x_k) + \\frac{f''(x_k)}{2!} (x - x_k)^2 + \\mathcal{O}((x-x_k)^3)\n",
    "\\end{align}\n",
    "$$\n",
    "\n",
    "Let $\\Delta x$ be the update to the $x_{k+1}$ iteration such that\n",
    "$$\n",
    "    x_{k+1} = x_k + \\Delta x\n",
    "$$\n",
    "\n",
    "and evaluate our expression for $f(x)$ at $x_{k+1}$:\n",
    "$$\n",
    "    f(x_{k+1}) = f(x_k) + f'(x_k) \\Delta x + \\frac{f''(x)}{2!} \\Delta x^2 + \\mathcal{O}(\\Delta x^3)\n",
    "$$\n",
    "\n",
    "Now assume that $x_{k+1} = x^\\ast$, and we get\n",
    "$$\n",
    "    0 = f(x_k) + f'(x_k) \\Delta x + \\frac{f''(x_k)}{2!} \\Delta x^2\n",
    "$$\n",
    "which is the quadratic expression."
   ]
  },
  {
   "cell_type": "markdown",
   "metadata": {
    "deletable": false,
    "editable": false,
    "nbgrader": {
     "checksum": "314899b656eeda36b2fee9765cd5bc09",
     "grade": false,
     "grade_id": "cell-9f4150a69145b418",
     "locked": true,
     "schema_version": 1,
     "solution": false
    }
   },
   "source": [
    "**(b)** [10] Using the expression from part (a) factor one of the $\\Delta x$s out of the expression and replace the remaining one with the approximation for $\\Delta x$ from Newton's method."
   ]
  },
  {
   "cell_type": "markdown",
   "metadata": {
    "deletable": false,
    "nbgrader": {
     "checksum": "d784eeb5144a7d5c5dc8bb436f633542",
     "grade": true,
     "grade_id": "cell-93668892e4038311",
     "locked": false,
     "points": 10,
     "schema_version": 1,
     "solution": true
    }
   },
   "source": [
    "Solution: Now factoring $\\Delta x$ and we get\n",
    "$$\n",
    "    0 = f(x_k) + (\\Delta x)[f'(x_k) \\Delta x + \\frac{f''(x_k)}{2!} \\Delta x]\n",
    "$$\n",
    "Then \n",
    "$$\n",
    "    \\Delta x = - \\frac{f(x_k)}{f'(x_k) + \\frac{f''(x_k)}{2!} \\Delta x}\n",
    "$$\n",
    "Using the result from Newton's Method,\n",
    "$$\n",
    "    \\Delta x = - \\frac{f(x_k)}{f'(x_k)}\n",
    "$$\n",
    "Gives\n",
    "$$\n",
    "    x_{k+1} = x_k - \\frac{2 ~f(x_k) ~f'(x_k)}{2 ~[f'(x_k)]^2 - f(x_k)~f''(x_k)}\n",
    "$$\n",
    "\n",
    "which is the Halley iteration we need."
   ]
  },
  {
   "cell_type": "markdown",
   "metadata": {
    "deletable": false,
    "editable": false,
    "nbgrader": {
     "checksum": "841448abdefc9d675e27037c602d60e9",
     "grade": false,
     "grade_id": "cell-4232291636585166",
     "locked": true,
     "schema_version": 1,
     "solution": false
    }
   },
   "source": [
    "**(c)** [5] Write a function that implements Halley's method taking in $f(x)$, $f'(x)$, and $f''(x)$ and an initial guess.  Make sure to handle the case when the maximum number of steps is reached."
   ]
  },
  {
   "cell_type": "code",
   "execution_count": 10,
   "metadata": {
    "deletable": false,
    "nbgrader": {
     "checksum": "4b24fde5f0449f9ff7bd00b6c13adea1",
     "grade": false,
     "grade_id": "cell-2235565536156143",
     "locked": false,
     "schema_version": 1,
     "solution": true
    }
   },
   "outputs": [],
   "source": [
    "def halleys_method(f, f_prime, f_dbl_prime, x, tolerance=1e-4, max_steps=100):\n",
    "    \"\"\"Find a root of f(x) using Halley's method\n",
    "    \n",
    "    :Input:\n",
    "     - *f* (func) Function to find the root of.\n",
    "     - *f_prime (func) Derivative of *f*.\n",
    "     - *f_dbl_prime (func) Second derivative of *f*\n",
    "     - *x* (float) Starting value of iteration.\n",
    "     - *tolerance* (float) Tolerance used as a stopping criteria with \n",
    "       |f(x_n)| < tolerance.\n",
    "     - *max_steps* (int) Maximum number of steps allowed.  Raise an exception\n",
    "       if max_steps are reached.\n",
    "    :Output:\n",
    "     - (float) Converged root.\n",
    "    \"\"\"\n",
    "    for n in range(1, max_steps+1):\n",
    "        x = x - 2 * f(x) * f_prime(x) / (2 * f_prime(x) * f_prime(x) - f(x) * f_dbl_prime(x) )\n",
    "        if numpy.abs(f(x)) < tolerance:\n",
    "            break\n",
    "    \n",
    "    if n == max_steps:\n",
    "        raise ValueError(\"Reached maximum number of steps.\")\n",
    "        \n",
    "\n",
    "    return x"
   ]
  },
  {
   "cell_type": "code",
   "execution_count": 11,
   "metadata": {
    "deletable": false,
    "editable": false,
    "nbgrader": {
     "checksum": "e0155ef9f3cd59a6d616264eb6222be5",
     "grade": true,
     "grade_id": "cell-9430191033078584",
     "locked": true,
     "points": 5,
     "schema_version": 1,
     "solution": false
    }
   },
   "outputs": [
    {
     "name": "stdout",
     "output_type": "stream",
     "text": [
      "Found root = 0.08985602483470805\n",
      "Success!\n"
     ]
    }
   ],
   "source": [
    "import sympy\n",
    "r, P, m, A, n = sympy.symbols('r P m A n')\n",
    "f = A - m * P / r * ((1.0 + r / m)**(m * n) - 1.0)\n",
    "f = f.subs({P: 1500.0, m: 12, n:20, A: 1e6})\n",
    "f_prime = sympy.lambdify(r, f.diff(r))\n",
    "f_dbl_prime = sympy.lambdify(r, f.diff(r, 2))\n",
    "f = sympy.lambdify(r, f)\n",
    "\n",
    "root = halleys_method(f, f_prime, f_dbl_prime, 0.08, tolerance=1e-8, max_steps=20)\n",
    "print(\"Found root = %s\" % root)\n",
    "numpy.testing.assert_allclose(root, 0.08985602483470805, atol=1e-8)\n",
    "print(\"Success!\")"
   ]
  },
  {
   "cell_type": "code",
   "execution_count": null,
   "metadata": {},
   "outputs": [],
   "source": []
  }
 ],
 "metadata": {
  "kernelspec": {
   "display_name": "Python 3",
   "language": "python",
   "name": "python3"
  },
  "language_info": {
   "codemirror_mode": {
    "name": "ipython",
    "version": 3
   },
   "file_extension": ".py",
   "mimetype": "text/x-python",
   "name": "python",
   "nbconvert_exporter": "python",
   "pygments_lexer": "ipython3",
   "version": "3.6.5"
  }
 },
 "nbformat": 4,
 "nbformat_minor": 2
}
