{
 "cells": [
  {
   "cell_type": "code",
   "execution_count": 1,
   "metadata": {},
   "outputs": [],
   "source": [
    "%matplotlib inline\n",
    "%precision 16\n",
    "from __future__ import print_function\n",
    "import numpy\n",
    "import matplotlib.pyplot as plt"
   ]
  },
  {
   "cell_type": "markdown",
   "metadata": {
    "deletable": false,
    "editable": false,
    "nbgrader": {
     "checksum": "385a90b191b985b23a91ab59a95dd59d",
     "grade": false,
     "grade_id": "cell8034583235964563",
     "locked": true,
     "schema_version": 1,
     "solution": false
    }
   },
   "source": [
    "Before you turn this problem in, make sure everything runs as expected. First, restart the kernel (in the menubar, select Kernel $\\rightarrow$ Restart) and then run all cells (in the menubar, select Cell $\\rightarrow$ Run All).\n",
    "\n",
    "Make sure you fill in any place that says YOUR CODE HERE or \"YOUR ANSWER HERE\", as well as your name and collaborators below:"
   ]
  },
  {
   "cell_type": "markdown",
   "metadata": {
    "deletable": false,
    "editable": false,
    "nbgrader": {
     "checksum": "5da3d6ae4a6d37e87ea88a8408508475",
     "grade": false,
     "grade_id": "cell8438889984008151",
     "locked": true,
     "schema_version": 1,
     "solution": false
    }
   },
   "source": [
    "# Homework 1:  Introduction"
   ]
  },
  {
   "cell_type": "markdown",
   "metadata": {
    "deletable": false,
    "editable": false,
    "nbgrader": {
     "checksum": "5bed5cef4514b7a4a4b75a09c6a01ebe",
     "grade": false,
     "grade_id": "cell6823144658916374",
     "locked": true,
     "schema_version": 1,
     "solution": false
    }
   },
   "source": [
    "## Question 1\n",
    "\n",
    "Write out the solution (by-hand) to the following sets of equations.  **FULLY** justify your solution (do not just write the answer).\n",
    "\n",
    "If you want to review some of these concepts check out Strang's [Linear Algebra](https://clio.columbia.edu/catalog/10612929) text or for only the fundamentals check out Strang's [The Fundamental Theorem of Linear Algebra](http://www.jstor.org/stable/2324660?seq=1#page_scan_tab_contents)"
   ]
  },
  {
   "cell_type": "markdown",
   "metadata": {
    "deletable": false,
    "editable": false,
    "nbgrader": {
     "checksum": "9bab782a6d2776f0f39a4e85d37164ce",
     "grade": false,
     "grade_id": "cell2016497183447183",
     "locked": true,
     "schema_version": 1,
     "solution": false
    }
   },
   "source": [
    "**(a)** (5) Solve $A x = b$ where\n",
    "$$\n",
    "    A = \\begin{bmatrix}\n",
    "        2 & 1 \\\\\n",
    "        1 & 3\n",
    "    \\end{bmatrix} ~~~~ \n",
    "    b = \\begin{bmatrix}\n",
    "        1 \\\\\n",
    "        -2\n",
    "    \\end{bmatrix}\n",
    "$$"
   ]
  },
  {
   "cell_type": "markdown",
   "metadata": {
    "deletable": false,
    "nbgrader": {
     "checksum": "f74ae27d7e7de90898de4a3c30ba2e83",
     "grade": true,
     "grade_id": "cell1448053803160613",
     "locked": false,
     "points": 5,
     "schema_version": 1,
     "solution": true
    }
   },
   "source": [
    "Solution: x is a vector with variables x$_1$ and x$_2$\n",
    "$$\n",
    "    x = \\begin{bmatrix}\n",
    "        x_1 \\\\\n",
    "        x_2\n",
    "    \\end{bmatrix}\n",
    "$$\n",
    "Then we have two equations:\n",
    "$$\n",
    "\\begin{align}\n",
    "    2x_1 + ~x_2 &= ~~1 ~~~(1) \\\\\n",
    "    x_1 + 3x_2 &= -2 ~~(2)\n",
    "\\end{align}\n",
    "$$\n",
    "Multiply (2) by 2 and subtract (1), we have\n",
    "\\begin{align}\n",
    "   5x_2 &= -5 \\\\\n",
    "    x_2 &= -1\n",
    "\\end{align}\n",
    "Therefore,\n",
    "$$\n",
    "\\begin{align}\n",
    "    x_1 &= 1,\n",
    "\\end{align}\n",
    "$$\n",
    "And\n",
    "$$\n",
    "    x = \\begin{bmatrix}\n",
    "        1 \\\\\n",
    "        -1\n",
    "    \\end{bmatrix}\n",
    "$$"
   ]
  },
  {
   "cell_type": "markdown",
   "metadata": {
    "deletable": false,
    "editable": false,
    "nbgrader": {
     "checksum": "f950951610b8bd74eb296f474fbe431f",
     "grade": false,
     "grade_id": "cell5967828987159757",
     "locked": true,
     "schema_version": 1,
     "solution": false
    }
   },
   "source": [
    "**(b)** [3] Solve the system of equations:\n",
    "\\begin{align}\n",
    "    2x + 3y &= 1 \\\\\n",
    "    6x + 9y &= 3\n",
    "\\end{align}"
   ]
  },
  {
   "cell_type": "markdown",
   "metadata": {
    "deletable": false,
    "nbgrader": {
     "checksum": "cada44699e512805f218ab30472e3435",
     "grade": true,
     "grade_id": "cell9290127908697658",
     "locked": false,
     "points": 3,
     "schema_version": 1,
     "solution": true
    }
   },
   "source": [
    "Solution: Multiply the upper equation by 3, and we get\n",
    "$$\n",
    "\\begin{align}\n",
    "    6x + 9y &= 3 ~~~(1) \\\\\n",
    "    6x + 9y &= 3 ~~~(2)\n",
    "\\end{align}\n",
    "$$\n",
    "Then,\n",
    "\\begin{align}\n",
    "    6x + 9y &=3 = 6x+9y\n",
    "\\end{align}\n",
    "Since\n",
    "$$\n",
    "\\begin{align}\n",
    "    2/6 &= 3/9 =1/3\n",
    "\\end{align}\n",
    "$$\n",
    "The system has infinite solutions of x and y, if they satisfy\n",
    "\\begin{align}\n",
    "    2x + 3y &=1\n",
    "\\end{align}"
   ]
  },
  {
   "cell_type": "markdown",
   "metadata": {
    "deletable": false,
    "editable": false,
    "nbgrader": {
     "checksum": "ca61fa84b65054707f6510091fd1cc5a",
     "grade": false,
     "grade_id": "cell5933027027760471",
     "locked": true,
     "schema_version": 1,
     "solution": false
    }
   },
   "source": [
    "**(3)** [3] Why will I not be able to solve $Ax=b$ for\n",
    "$$\n",
    "    A = \\begin{bmatrix}\n",
    "        2 & 1 \\\\\n",
    "        1 & 3 \\\\\n",
    "        0 & 4\n",
    "    \\end{bmatrix} ~~~~ \n",
    "    b = \\begin{bmatrix}\n",
    "        2 \\\\\n",
    "        0 \\\\\n",
    "        1\n",
    "    \\end{bmatrix}?\n",
    "$$\n",
    "Describe why this is a problem in terms of the column, row, left-null, and null spaces of $A$ and how that relates to the vector $b$."
   ]
  },
  {
   "cell_type": "markdown",
   "metadata": {
    "deletable": false,
    "nbgrader": {
     "checksum": "a96870b6270e88853f17d3ff502d8cbf",
     "grade": true,
     "grade_id": "cell2638454345631698",
     "locked": false,
     "points": 5,
     "schema_version": 1,
     "solution": true
    }
   },
   "source": [
    "Solution: We do elementary transformation to matrix A, and get\n",
    "$$\n",
    "    A = \\begin{bmatrix}\n",
    "        \\frac{8}{5} & \\frac{4}{5} \\\\\n",
    "      -\\frac{8}{5} & -\\frac{24}{5} \\\\\n",
    "      0 & 0\n",
    "    \\end{bmatrix}\n",
    "$$\n",
    "Then by Fundamental Theorem of linear algebra,\n",
    "\\begin{align}\n",
    "    dim ~R(A) = 2 =dim ~R(A^T) \\\\\n",
    "\\end{align}\n",
    "And\n",
    "\\begin{align}\n",
    "    dim ~R(A) + dim ~N(A) = 2\n",
    "\\end{align}\n",
    "The null space has dimension 0.\n",
    "And x has no solution since\n",
    "\\begin{align}\n",
    "    dim ~b = 3 \\neq 2 = dim ~R(A)\n",
    "\\end{align}"
   ]
  },
  {
   "cell_type": "markdown",
   "metadata": {
    "deletable": false,
    "editable": false,
    "nbgrader": {
     "checksum": "6e78c79305b7362364088234b01cdb55",
     "grade": false,
     "grade_id": "cell4384914739699754",
     "locked": true,
     "schema_version": 1,
     "solution": false
    }
   },
   "source": [
    "## Question 2"
   ]
  },
  {
   "cell_type": "markdown",
   "metadata": {
    "deletable": false,
    "editable": false,
    "nbgrader": {
     "checksum": "e212bc057ea231e555bed855a7a33680",
     "grade": false,
     "grade_id": "cell1244223495354736",
     "locked": true,
     "schema_version": 1,
     "solution": false
    }
   },
   "source": [
    "**(a)** [7] Write a function that computes\n",
    "$$\n",
    "    \\sum^\\infty_{n=1} \\frac{a^n}{b^{n-1}}\n",
    "$$\n",
    "until the difference between subsequent partial sums is less than the given tolerance $T$.  Return the computed sum.  Make sure to include a way for the function to exit if the partial sums do not satisfy the above criteria (the sum may not be convergent for instance)."
   ]
  },
  {
   "cell_type": "code",
   "execution_count": 2,
   "metadata": {
    "deletable": false,
    "nbgrader": {
     "checksum": "20ae2dcfdc7388f9ee886485609f51fb",
     "grade": false,
     "grade_id": "cell3621925556728684",
     "locked": false,
     "schema_version": 1,
     "solution": true
    }
   },
   "outputs": [],
   "source": [
    "def compute_sum(a, b, tolerance=1e-5):\n",
    "    \"\"\"Compute the sum $\\sum^\\infty_{n=1} a^n / b^{n-1} until the partial sums are less than *tolerance*.\n",
    "    \n",
    "    Returns the computed sum and raises a *ValueError* if the sum appears to be diverging.\n",
    "    \"\"\"\n",
    "    # starting\n",
    "    diff = tolerance\n",
    "    compute_sum = 0\n",
    "    n = 1\n",
    "    while abs(diff) >= tolerance :\n",
    "        diff = a**n/b**(n-1)\n",
    "        compute_sum += diff\n",
    "        n += 1\n",
    "        if compute_sum >= 1e+20:\n",
    "            raise ValueError(\"Sum may be diverging.\")\n",
    "            break\n",
    "        \n",
    "    return compute_sum\n"
   ]
  },
  {
   "cell_type": "code",
   "execution_count": 3,
   "metadata": {
    "deletable": false,
    "editable": false,
    "nbgrader": {
     "checksum": "c3dfddd4538cb9f5f1e3a40ecb072805",
     "grade": true,
     "grade_id": "cell5655123106444739",
     "locked": true,
     "points": 2,
     "schema_version": 1,
     "solution": false
    }
   },
   "outputs": [],
   "source": [
    "numpy.testing.assert_allclose(compute_sum(-2.0, 3.0, 1e-16), -1.2)"
   ]
  },
  {
   "cell_type": "code",
   "execution_count": 4,
   "metadata": {
    "deletable": false,
    "editable": false,
    "nbgrader": {
     "checksum": "7ab30035a2b5bcb500cf4dede590bc91",
     "grade": true,
     "grade_id": "cell-93bf9481dcd21257",
     "locked": true,
     "points": 2,
     "schema_version": 1,
     "solution": false
    }
   },
   "outputs": [],
   "source": [
    "numpy.testing.assert_allclose(compute_sum(1.0, 2.0, 1e-16), 2.0)"
   ]
  },
  {
   "cell_type": "code",
   "execution_count": 5,
   "metadata": {
    "deletable": false,
    "editable": false,
    "nbgrader": {
     "checksum": "07a9853e1f53c222220a80394e5824fd",
     "grade": true,
     "grade_id": "cell-847c6d9b56eea543",
     "locked": true,
     "points": 3,
     "schema_version": 1,
     "solution": false
    }
   },
   "outputs": [],
   "source": [
    "try:\n",
    "    compute_sum(2.0, 1.0, 1e-16)\n",
    "except ValueError:\n",
    "    pass\n",
    "else:\n",
    "    assert False"
   ]
  },
  {
   "cell_type": "markdown",
   "metadata": {
    "deletable": false,
    "editable": false,
    "nbgrader": {
     "checksum": "20ea691867ac98f660019b39c624b5f5",
     "grade": false,
     "grade_id": "cell6074787325159711",
     "locked": true,
     "schema_version": 1,
     "solution": false
    }
   },
   "source": [
    "**(b)** [5] Explore different tolerances for your function above for $a=-2$ and $b=3$.  Plot the value of the tolerance\n",
    "$$\n",
    "    \\left| ~ \\sum^\\infty_{n=1} \\frac{a^n}{b^{n-1}} - (-1.2) ~\\right |\n",
    "$$\n",
    "versus the difference.  The plotting command `loglog` may be useful to effectively visualize the problem.  What do you observe?\n",
    "\n",
    "Hint:  Try using tolerances in the range $T \\in [10^{-30}, 10^{-2}]$.  Use the functions `logspace` to generate well spaced points and `loglog` to plot the data."
   ]
  },
  {
   "cell_type": "code",
   "execution_count": 6,
   "metadata": {
    "deletable": false,
    "nbgrader": {
     "checksum": "7bf34706375e686c04187e6c7ca7b8e3",
     "grade": true,
     "grade_id": "cell5235988218415515",
     "locked": false,
     "points": 4,
     "schema_version": 1,
     "solution": true
    }
   },
   "outputs": [
    {
     "data": {
      "image/png": "[encoded data removed]",
      "text/plain": [
       "<Figure size 432x288 with 1 Axes>"
      ]
     },
     "metadata": {},
     "output_type": "display_data"
    }
   ],
   "source": [
    "t = numpy.logspace(-30, -2, 100)\n",
    "y = numpy.logspace(-30, 0, 100)\n",
    "for i in numpy.linspace(0, 99, 100, dtype = int):\n",
    "    y[i] = abs(compute_sum(-2.0, 3.0, t[i])-(-1.2))\n",
    "plt.loglog(t, y, 'g')\n",
    "plt.title(\"the tendency\")\n",
    "# print t \n",
    "plt.xlabel(\"Tolerance\")\n",
    "# print y\n",
    "plt.ylabel(\"value of Tolerance versus Difference\")\n",
    "plt.show()"
   ]
  },
  {
   "cell_type": "markdown",
   "metadata": {
    "deletable": false,
    "nbgrader": {
     "checksum": "20cd990f272495dc908b1210c6e7e0c0",
     "grade": true,
     "grade_id": "cell9513987934167870",
     "locked": false,
     "points": 1,
     "schema_version": 1,
     "solution": true
    }
   },
   "source": [
    "Analysis: \n",
    "$$\n",
    "\\begin{align}\n",
    "    &When ~tolerance ~is ~smaller ~than ~10^{-16}, ~the ~value ~is ~almost ~static; \\\\     \n",
    "    &When ~tolerance ~starts ~from ~10^{-16}~and ~approaches ~10^{-2}, ~the ~value ~becomes ~larger ~linearly ~as ~tolerance ~becomes ~larger.\n",
    "\\end{align}\n",
    "$$"
   ]
  },
  {
   "cell_type": "markdown",
   "metadata": {
    "deletable": false,
    "editable": false,
    "nbgrader": {
     "checksum": "2da257a155fc956b611fabb1ba8fa62c",
     "grade": false,
     "grade_id": "cell4028669518644633",
     "locked": true,
     "schema_version": 1,
     "solution": false
    }
   },
   "source": [
    "## Question 3"
   ]
  },
  {
   "cell_type": "markdown",
   "metadata": {
    "deletable": false,
    "editable": false,
    "nbgrader": {
     "checksum": "0af8f119891335208b0bbdaff05976d8",
     "grade": false,
     "grade_id": "cell8219538542602342",
     "locked": true,
     "schema_version": 1,
     "solution": false
    }
   },
   "source": [
    "**(a)** [7] Compute the first 3 terms of the Taylor series of the function\n",
    "$$\n",
    "    f(x) = e^{-x^2} \\sin( x - \\pi)\n",
    "$$\n",
    "centered at $x_0 = \\pi$."
   ]
  },
  {
   "cell_type": "markdown",
   "metadata": {
    "deletable": false,
    "nbgrader": {
     "checksum": "584c9440793a332c83dbe65cd02c80d7",
     "grade": true,
     "grade_id": "cell5045118735142062",
     "locked": false,
     "points": 7,
     "schema_version": 1,
     "solution": true
    }
   },
   "source": [
    "Solution: We get derivatives,\n",
    "$$\n",
    "\\begin{aligned}\n",
    "    f'(x) &= e^{-x^2} [-2x\\cdot sin(x - \\pi) + cos(x - \\pi)] \\\\\n",
    "    f''(x) &= e^{-x^2} [4x^2\\cdot sin(x - \\pi) - 4x\\cdot cos(x - \\pi) - 3sin(x - \\pi)] \\\\\n",
    "    f^{(3)} &= e^{-x^2} [-8x^3\\cdot sin(x - \\pi) + 12x^2\\cdot cos(x - \\pi) + 18x\\cdot sin(x - \\pi) -7cos(x - \\pi)]\n",
    "\\end{aligned}\n",
    "$$\n",
    "For the first 3 terms at $x_0 = \\pi$,\n",
    "$$\n",
    "\\begin{aligned}\n",
    "    T_3(x) &= \\sum^3_{n=0} \\frac{f^{(n)}(x_0)\\cdot(x-x_0)^n}{n!} \\\\\n",
    "    &= 0 + \\frac{e^{-\\pi^2}\\cdot(x-\\pi)}{1!} + \\frac{-e^{-\\pi^2}\\cdot 4\\pi\\cdot(x-\\pi)^2}{2!} + \\frac{e^{-\\pi^2}\\cdot (12\\pi^2 -7)\\cdot(x-\\pi)^3}{3!} \\\\\n",
    "    &= e^{-\\pi^2}\\cdot(x-\\pi) - 2\\pi \\cdot e^{-\\pi^2}\\cdot (x-\\pi)^2 + \\frac{e^{-\\pi^2}\\cdot (12\\pi^2 -7)\\cdot(x-\\pi)^3}{6}\n",
    "\\end{aligned}\n",
    "$$"
   ]
  },
  {
   "cell_type": "markdown",
   "metadata": {
    "deletable": false,
    "editable": false,
    "nbgrader": {
     "checksum": "5c7b743878260953e779a5cc215b3bc7",
     "grade": false,
     "grade_id": "cell7388927421453205",
     "locked": true,
     "schema_version": 1,
     "solution": false
    }
   },
   "source": [
    "**(b)** [8] Solve the ODE\n",
    "$$\n",
    "    u'' + u' + \\frac{5}{4} u = 0\n",
    "$$\n",
    "with initial conditions $u(0) = 5$ and $u'(0) = 1$.  Plot the solution and comment on its behavior as $t \\rightarrow \\infty$."
   ]
  },
  {
   "cell_type": "markdown",
   "metadata": {
    "deletable": false,
    "nbgrader": {
     "checksum": "67ee6d23eaf50a4d0631f602af13612d",
     "grade": true,
     "grade_id": "cell8510568627368116",
     "locked": false,
     "points": 6,
     "schema_version": 1,
     "solution": true
    }
   },
   "source": [
    "Solution: Solve the characteristic equation,\n",
    "\\begin{align}\n",
    "    \\lambda^2 + \\lambda + \\frac{5}{4} = 0\n",
    "\\end{align}\n",
    "And get\n",
    "\\begin{align}\n",
    "    \\lambda_1 &= -\\frac{1}{2}+ i \\\\\n",
    "    \\lambda_2 &= -\\frac{1}{2}+ i\n",
    "\\end{align}\n",
    "Therefore \n",
    "\\begin{align}\n",
    "    u = e^{-\\frac{x}{2}}\\cdot (C_1 cosx + C_2 sinx)\n",
    "\\end{align}\n",
    "Then derive C$_1$ and C$_2$ by initial conditions,\n",
    "\\begin{align}\n",
    "    u(0) &= C_1 = 5 \\\\\n",
    "    u'(0) &= -\\frac{5}{2} + C_2 = 1 \\\\\n",
    "    \\Downarrow \\\\\n",
    "    C_1 = 5, ~~~~ C_2 &= \\frac{7}{2} \\\\\n",
    "    \\Downarrow \\\\\n",
    "    u &= e^{-\\frac{x}{2}}\\cdot (5 cosx + \\frac{7}{2} sinx)\n",
    "\\end{align}"
   ]
  },
  {
   "cell_type": "code",
   "execution_count": 8,
   "metadata": {
    "deletable": false,
    "nbgrader": {
     "checksum": "c902aa23f1da8b332819e93ae85008a7",
     "grade": true,
     "grade_id": "cell9191289374012808",
     "locked": false,
     "points": 2,
     "schema_version": 1,
     "solution": true
    }
   },
   "outputs": [
    {
     "data": {
      "image/png": "[encoded data removed]",
      "text/plain": [
       "<Figure size 432x288 with 1 Axes>"
      ]
     },
     "metadata": {},
     "output_type": "display_data"
    }
   ],
   "source": [
    "x = numpy.linspace(0, 100, 100)\n",
    "y = (5*numpy.cos(x)+3.5*numpy.sin(x))*numpy.exp(-x/2)\n",
    "plt.plot(x, y, 'g')\n",
    "plt.title(\"The curve of u: as t goes to infinity, u becomes steady and stay at zero\")\n",
    "plt.xlabel(\"t\")\n",
    "plt.ylabel(\"u\")\n",
    "plt.show()\n",
    "# As t goes to infinity, u becomes steady and approaches zero."
   ]
  },
  {
   "cell_type": "markdown",
   "metadata": {
    "deletable": false,
    "editable": false,
    "nbgrader": {
     "checksum": "e064768b575d36c126c296fac73b66a0",
     "grade": false,
     "grade_id": "cell-ade3b6426b1ed3ab",
     "locked": true,
     "schema_version": 1,
     "solution": false
    }
   },
   "source": [
    "## Question 5 - The Trouble with Tribbles\n",
    "\n",
    "Plot the following data using the appropriate plot types making sure to adding lables, units, and titles.  Also refer to the [matplotlib gallery](http://matplotlib.org/gallery.html) to figure out how to plot some of what is asked.\n",
    "\n",
    "**(a)** [5] The number of tribbles (furry animals from Star Trek) is modeled by Spock to be exponential.  Spock predicts that in a 3 day period that the tribbles will go from an initial population number of $N_0 = 1$ to $N(3) = 1,771,561$ tribbles.  The assumptions that Spock made are the following:\n",
    " - The tribbles reproduce every 12 hours.\n",
    " - Tribbles reproduce asexually so that 1 tribble will produce 10 more tribbles leading to a total of 11 tribbles.\n",
    "Write a function that confirms Spock's estimate and plot the function."
   ]
  },
  {
   "cell_type": "code",
   "execution_count": 10,
   "metadata": {
    "deletable": false,
    "nbgrader": {
     "checksum": "ce5dc15e79f3566c9987858a473ba6a3",
     "grade": true,
     "grade_id": "cell-ced77d94995c3603",
     "locked": false,
     "points": 5,
     "schema_version": 1,
     "solution": true
    }
   },
   "outputs": [
    {
     "data": {
      "image/png": "[encoded data removed]",
      "text/plain": [
       "<Figure size 432x288 with 1 Axes>"
      ]
     },
     "metadata": {},
     "output_type": "display_data"
    }
   ],
   "source": [
    "x = numpy.linspace(0, 3, 100)\n",
    "# based on exponential assumption\n",
    "y = 11**(2*x)\n",
    "plt.plot(x, y,'g')\n",
    "plt.title(\"Tribbles exponential Growth\")\n",
    "# every 12 hours = 0.5 day\n",
    "plt.xlabel(\"Day\")\n",
    "plt.xlim([0,3.5])\n",
    "plt.ylabel(\"Tribble Pop N\")\n",
    "plt.show()"
   ]
  },
  {
   "cell_type": "markdown",
   "metadata": {
    "deletable": false,
    "editable": false,
    "nbgrader": {
     "checksum": "3583a2a1b702c1af5d79486438e83124",
     "grade": false,
     "grade_id": "cell-7564389d26c906c0",
     "locked": true,
     "schema_version": 1,
     "solution": false
    }
   },
   "source": [
    "**(b)** [5] Assuming that tribbles cannot stack themselves on top of each other perfectly we also would like to model and plot the spread of tribbles throughout our space ship.  Assume our space ship is a square use the following function to plot the population on our space ship of tribbles:\n",
    "$$\n",
    "    N(x, y) = N_0 e^{-r^2/\\sigma^2}\n",
    "$$\n",
    "where $N_0 = 1000$, $\\sigma = 0.1$ and $r$ is the distance from the middle of our space ship."
   ]
  },
  {
   "cell_type": "code",
   "execution_count": 25,
   "metadata": {
    "deletable": false,
    "nbgrader": {
     "checksum": "fb6e8455cfcb141a659058fd1efd1ce5",
     "grade": true,
     "grade_id": "cell-57fc8ae3b01fafa8",
     "locked": false,
     "points": 5,
     "schema_version": 1,
     "solution": true
    }
   },
   "outputs": [
    {
     "data": {
      "image/png": "[encoded data removed]",
      "text/plain": [
       "<Figure size 432x288 with 2 Axes>"
      ]
     },
     "metadata": {},
     "output_type": "display_data"
    }
   ],
   "source": [
    "x = numpy.linspace(-0.10, 0.10, 100)\n",
    "y = numpy.linspace(-0.10, 0.10, 100)\n",
    "# Orthogonal coordinates a^2+b^2=dist^2=r^2\n",
    "a, b = numpy.meshgrid(x, y)\n",
    "F = 1000 * numpy.exp(-(a**2+b**2)/0.01)\n",
    "plt.title(\"Tribble density\")\n",
    "plt.pcolor(a, b, F)\n",
    "plt.colorbar(label = \"# of tribbles\")\n",
    "plt.show()"
   ]
  },
  {
   "cell_type": "code",
   "execution_count": null,
   "metadata": {},
   "outputs": [],
   "source": []
  }
 ],
 "metadata": {
  "kernelspec": {
   "display_name": "Python 3",
   "language": "python",
   "name": "python3"
  },
  "language_info": {
   "codemirror_mode": {
    "name": "ipython",
    "version": 3
   },
   "file_extension": ".py",
   "mimetype": "text/x-python",
   "name": "python",
   "nbconvert_exporter": "python",
   "pygments_lexer": "ipython3",
   "version": "3.7.0"
  }
 },
 "nbformat": 4,
 "nbformat_minor": 2
}
